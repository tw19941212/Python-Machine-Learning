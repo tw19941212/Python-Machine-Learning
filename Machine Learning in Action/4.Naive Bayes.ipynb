{
 "cells": [
  {
   "cell_type": "markdown",
   "metadata": {
    "deletable": false,
    "editable": false,
    "run_control": {
     "frozen": true
    }
   },
   "source": [
    "# 基于概率论的分类方法：朴素贝叶斯"
   ]
  },
  {
   "cell_type": "markdown",
   "metadata": {
    "deletable": false,
    "editable": false,
    "run_control": {
     "frozen": true
    }
   },
   "source": [
    "前两章我们要求分类器做出艰难决策，给出**\"该数据实例属于哪一类\"**这类问题的明确答案。不过，分类器有时会产生错误结果，这时可以要求分类器给出一个最优的类别猜测结果，同时给出这个猜测的概率估计值。  \n",
    "我们称之为__\"朴素\"__,是因为整个形式化过程只做最原始、最简单的假设。"
   ]
  },
  {
   "cell_type": "markdown",
   "metadata": {
    "deletable": false,
    "editable": false,
    "run_control": {
     "frozen": true
    }
   },
   "source": [
    "## 基于贝叶斯决策理论的分类方法"
   ]
  },
  {
   "cell_type": "markdown",
   "metadata": {
    "ExecuteTime": {
     "end_time": "2018-06-20T08:31:59.500161Z",
     "start_time": "2018-06-20T08:31:59.496159Z"
    },
    "deletable": false,
    "editable": false,
    "run_control": {
     "frozen": true
    }
   },
   "source": [
    "|朴素贝叶斯||\n",
    "|:-|:-|\n",
    "|优点|在数据较少的情况下仍然有效，可以处理多类别问题|\n",
    "|缺点|对于输入数据的准备方式较为敏感|\n",
    "|适用数据类型|标称型数据|"
   ]
  },
  {
   "cell_type": "markdown",
   "metadata": {
    "ExecuteTime": {
     "end_time": "2019-03-19T08:51:05.582761Z",
     "start_time": "2019-03-19T08:51:05.472818Z"
    },
    "deletable": false,
    "editable": false,
    "run_control": {
     "frozen": true
    }
   },
   "source": [
    "<center>\n",
    "    <img src=\"./images/图4-1 俩个参数已知的概率分布，参数决定了分布的形状.jpg\" height='40%' width=\"40%\" alt='俩个参数已知的概率分布，参数决定了分布的形状'>\n",
    "    <br>\n",
    "    <div style=\"color:orange; border-bottom: 0.5px solid #d9d9d9;\n",
    "    display: inline-block;\n",
    "    color: #999;\n",
    "    padding: 0.5px;\">俩个参数已知的概率分布，参数决定了分布的形状</div>\n",
    "</center>"
   ]
  },
  {
   "cell_type": "markdown",
   "metadata": {
    "deletable": false,
    "editable": false,
    "run_control": {
     "frozen": true
    }
   },
   "source": [
    "朴素贝叶斯是**贝叶斯决策理论**的一部分。  \n",
    "假设有位读者找到了描述图中两类数据的统计参数。我们现在用p1(x,y)表示数据点(x,y)属于类别1的概率,用p2(x,y)表示数据点(x,y)属于类别2的概率，那么对于一个新数据点(x,y)，可以用下面的规则来判断它的类别：  \n",
    "如果p1(x,y)>p2(x,y)，那么类别为1。  \n",
    "如果p2(x,y)>p1(x,y)，那么类别为2。  \n",
    "也就是说，我们会选择高概率对应的类别。这就是贝叶斯决策理论的<font color=blue size=2 face=\"黑体\">**核心思想**</font>，即选择具有最高概率的决策。  \n",
    "整个数据由两类不同分布的数据构成，有可能只需要6个统计参数来描述。   \n",
    "使用第1章的kNN，进行1000次距离计算；  \n",
    "使用第2章的决策树，分别沿x轴、y轴划分数据；  \n",
    "计算数据点属于每个类别的概率，并进行比较。  \n",
    "**使用决策树不会非常成功**；而和简单的概率计算相比，**kNN的计算量太大**。因此，对于上述问题，最佳选择是使用刚才提到的概率比较方法。"
   ]
  },
  {
   "cell_type": "markdown",
   "metadata": {
    "deletable": false,
    "editable": false,
    "run_control": {
     "frozen": true
    }
   },
   "source": [
    "## 条件概率"
   ]
  },
  {
   "cell_type": "markdown",
   "metadata": {
    "deletable": false,
    "editable": false,
    "run_control": {
     "frozen": true
    }
   },
   "source": [
    "另一种有效计算条件概率的方法称为贝叶斯准则。**贝叶斯准则告诉我们如何交换条件概率中的条件与结果**，即如果已知P(x|c)，要求P(c|x)，那么可以使用下面的计算方法：  \n",
    "$$p(c|x)=\\frac{p(x|c)p(c)}{p(x)}$$  "
   ]
  },
  {
   "cell_type": "markdown",
   "metadata": {
    "deletable": false,
    "editable": false,
    "run_control": {
     "frozen": true
    }
   },
   "source": [
    "## 使用条件概率来分类"
   ]
  },
  {
   "cell_type": "markdown",
   "metadata": {
    "deletable": false,
    "editable": false,
    "run_control": {
     "frozen": true
    }
   },
   "source": [
    "之前提到贝叶斯决策理论要求计算两个概率p1(x, y)和p2(x, y),真正需要计算和比较的是p(c₁|x, y)和p(c₂|x, y)。这些符号所代表的具体意义是：给定某个由x、y表示的数据点，那么该数据点来自类别c₁的概率是多少？数据点来自类别c₂的概率又是多少？具体地,应用贝叶斯准则得到:  \n",
    "$$p(c_{i}|x,y)=\\frac{p(x,y|c_{i})p(c_{i})}{p(x,y)}$$"
   ]
  },
  {
   "cell_type": "markdown",
   "metadata": {
    "deletable": false,
    "editable": false,
    "run_control": {
     "frozen": true
    }
   },
   "source": [
    "## 使用朴素贝叶斯进行文档分类"
   ]
  },
  {
   "cell_type": "markdown",
   "metadata": {
    "deletable": false,
    "editable": false,
    "run_control": {
     "frozen": true
    }
   },
   "source": [
    "机器学习的一个重要应用就是文档的自动分类。我们可以**观察文档中出现的词，并把每个词的出现或者不出现作为一个特征**，这样得到的特征数目就会跟词汇表中的词目一样多。朴素贝叶斯是上节介绍的贝叶斯分类器的一个扩展,是**用于文档分类的常用算法**。"
   ]
  },
  {
   "cell_type": "markdown",
   "metadata": {
    "deletable": false,
    "editable": false,
    "run_control": {
     "frozen": true
    }
   },
   "source": [
    "|朴素贝叶斯的一般过程||\n",
    "|:-|:-|\n",
    "|收集数据|可以使用任何方法,本章使用RSS源|\n",
    "|准备数据|需要数值型或者布尔型数据|\n",
    "|分析数据|有大量特征时，绘制特征作用不大，此时使用直方图效果更好|\n",
    "|训练算法|计算不同的独立特征的条件概率|\n",
    "|测试算法|计算错误率|\n",
    "|使用算法|一个常见的朴素贝叶斯应用是文档分类。可以在任意的分类场景中使用朴素贝叶斯分类器，不一定非要是文本|"
   ]
  },
  {
   "cell_type": "markdown",
   "metadata": {
    "deletable": false,
    "editable": false,
    "run_control": {
     "frozen": true
    }
   },
   "source": [
    "假设词汇表中有1000个单词。要得到好的概率分布，就需要足够的数据样本，假定样本数为N。1000个样本就非常好了。由统计学知，如果每个特征需要N个样本，那么对于10个特征将需要$N^{10}$个样本，对于包含1000个特征的词汇表将需要$N^{1000}$个样本。可以看到，**所需要的样本数会随着特征数目增大而迅速增长。**  \n",
    "如果<font color=blue size=2 face=\"黑体\">特征之间相互独立</font>，那么样本数就可以从$N^{1000}$减少到1000×N。所谓**独立(independence)**指的是统计意义上的独立，即一个特征或者单词出现的可能性与它和其他单词相邻没有关系。当然，我们知道这种假设并不正确。这个假设正是朴素贝叶斯分类器中**朴素(naive)**一词的含义。朴素贝叶斯分类器中的**另一个假设是**，<font color=blue size=2 face=\"黑体\">**每个特征同等重要**</font>。其实这个假设也有问题。尽管上述假设存在一些小的瑕疵，但朴素贝叶斯的实际效果却很好。"
   ]
  },
  {
   "cell_type": "markdown",
   "metadata": {
    "deletable": false,
    "editable": false,
    "run_control": {
     "frozen": true
    }
   },
   "source": [
    "## 使用Python进行文本分类"
   ]
  },
  {
   "cell_type": "markdown",
   "metadata": {
    "deletable": false,
    "editable": false,
    "run_control": {
     "frozen": true
    }
   },
   "source": [
    "要从文本中获取特征，需要先拆分文本。这里的**特征**是来自文本的词条(token)，然后将每一个文本片段表示为一个词条向量，其中值为1表示词条出现在文档中，0表示词条未出现。  \n",
    "以在线社区的留言板为例。为了不影响社区的发展，我们要屏蔽侮辱性的言论，所以要构建一个快速过滤器。过滤这类内容是一个很常见的需求。对此问题建立两个类别：侮辱类和非侮辱类，使用1和0分别表示。  \n",
    "接下来首先给出将文本转换为数字向量的过程，然后介绍如何基于这些向量来计算**条件概率**，并在此基础上构建分类器，最后还要介绍一些利用Python实现朴素贝叶斯过程中需要考虑的问题。"
   ]
  },
  {
   "cell_type": "markdown",
   "metadata": {
    "deletable": false,
    "editable": false,
    "run_control": {
     "frozen": true
    }
   },
   "source": [
    "### 准备数据:从文本中构建词向量"
   ]
  },
  {
   "cell_type": "markdown",
   "metadata": {
    "deletable": false,
    "editable": false,
    "run_control": {
     "frozen": true
    }
   },
   "source": [
    "我们将把文本看成单词向量或者词条向量，也就是说将**句子转换为向量**。考虑出现在所有文档中的所有单词，再决定将哪些词纳入词汇表或者说所要的词汇集合，然后必须要**将每一篇文档转换为词汇表上的向量**。"
   ]
  },
  {
   "cell_type": "markdown",
   "metadata": {
    "deletable": false,
    "editable": false,
    "run_control": {
     "frozen": true
    }
   },
   "source": [
    "朴素贝叶斯分类器通常有俩种实现模式：**一种基于贝努利模型实现，一种基于多项式模型实现**。这里采用前一种实现方式。该实现方式并不考虑词在文档中出现次数，只考虑出不出现。因此在这个意义上相当于假设是等权重的。"
   ]
  },
  {
   "cell_type": "code",
   "execution_count": 1,
   "metadata": {
    "ExecuteTime": {
     "end_time": "2018-06-23T14:25:14.206245Z",
     "start_time": "2018-06-23T14:25:14.198240Z"
    },
    "deletable": false,
    "editable": false
   },
   "outputs": [],
   "source": [
    "# 词表到向量的转换函数\n",
    "def loadDataSet():\n",
    "    postingList = [['my', 'dog', 'has', 'flea', 'problems', 'help', 'please'],\n",
    "                   ['maybe', 'not', 'take', 'him', 'to', 'dog', 'park', 'stupid'],\n",
    "                   ['my', 'dalmation', 'is', 'so', 'cute', 'I', 'love', 'him'],\n",
    "                   ['stop', 'posting', 'stupid', 'worthless', 'garbage'],\n",
    "                   ['mr', 'licks', 'ate', 'my', 'steak',\n",
    "                       'how', 'to', 'stop', 'him'],\n",
    "                   ['quit', 'buying', 'worthless', 'dog', 'food', 'stupid']]  # 文档集合，每个list是一个文档\n",
    "    classVec = [0, 1, 0, 1, 0, 1]  # 1 is abusive, 0 not\n",
    "    return postingList, classVec\n",
    "\n",
    "\n",
    "def createVocabList(dataSet):\n",
    "    vocabSet = set([])  # create empty set\n",
    "    for document in dataSet:\n",
    "        vocabSet = vocabSet | set(document)  # union of the two sets\n",
    "    return list(vocabSet)\n",
    "\n",
    "\n",
    "def setOfWords2Vec(vocabList, inputSet):\n",
    "    returnVec = [0]*len(vocabList)\n",
    "    for word in inputSet:\n",
    "        if word in vocabList:\n",
    "            returnVec[vocabList.index(word)] = 1\n",
    "        else:\n",
    "            print(\"the word: %s is not in my Vocabulary!\" % word)\n",
    "    return returnVec"
   ]
  },
  {
   "cell_type": "markdown",
   "metadata": {
    "deletable": false,
    "editable": false,
    "run_control": {
     "frozen": true
    }
   },
   "source": [
    "第一个函数loadDataSet()创建了一些实验样本。该函数返回的**第一个变量是进行词条切分后的文档集合**。loadDataSet()函数返回的**第二个变量是一个类别标签的集合**。这里有两类，侮辱性和非侮辱性。这些文本的类别由人工标注，这些标注信息用于训练程序以便自动检测侮辱性留言。  \n",
    "下一个函数createVocabList()会创建一个包含在所有文档中出现的**不重复词的列表**。**操作符|用于求两个集合的并集**。在数学符号表示上，按位或操作与集合求并操作使用相同记号。  \n",
    "获得词汇表后，便可以使用函数setOfWords2Vec()，该函数的**输入参数为词汇表及某个文档，输出的是文档向量**，向量的每一元素为1或0，分别表示词汇表中的单词在输入文档中是否出现。"
   ]
  },
  {
   "cell_type": "code",
   "execution_count": 2,
   "metadata": {
    "ExecuteTime": {
     "end_time": "2018-06-23T14:25:17.719280Z",
     "start_time": "2018-06-23T14:25:17.708272Z"
    },
    "deletable": false,
    "editable": false,
    "scrolled": true
   },
   "outputs": [
    {
     "data": {
      "text/plain": [
       "['I',\n",
       " 'love',\n",
       " 'flea',\n",
       " 'posting',\n",
       " 'my',\n",
       " 'stupid',\n",
       " 'problems',\n",
       " 'please',\n",
       " 'cute',\n",
       " 'dalmation',\n",
       " 'how',\n",
       " 'licks',\n",
       " 'maybe',\n",
       " 'garbage',\n",
       " 'dog',\n",
       " 'is',\n",
       " 'quit',\n",
       " 'has',\n",
       " 'mr',\n",
       " 'food',\n",
       " 'to',\n",
       " 'so',\n",
       " 'buying',\n",
       " 'stop',\n",
       " 'him',\n",
       " 'help',\n",
       " 'steak',\n",
       " 'worthless',\n",
       " 'ate',\n",
       " 'not',\n",
       " 'park',\n",
       " 'take']"
      ]
     },
     "execution_count": 2,
     "metadata": {},
     "output_type": "execute_result"
    }
   ],
   "source": [
    "listOPosts, listClasses = loadDataSet()\n",
    "myVocablist = createVocabList(listOPosts)\n",
    "myVocablist"
   ]
  },
  {
   "cell_type": "markdown",
   "metadata": {
    "deletable": false,
    "editable": false,
    "run_control": {
     "frozen": true
    }
   },
   "source": [
    "该函数使用词汇表或者想要检查的所有单词作为输入，然后为其中每一个单词构建一个特征。"
   ]
  },
  {
   "cell_type": "code",
   "execution_count": 3,
   "metadata": {
    "ExecuteTime": {
     "end_time": "2018-06-23T14:25:19.418157Z",
     "start_time": "2018-06-23T14:25:19.412153Z"
    },
    "deletable": false,
    "editable": false,
    "scrolled": true
   },
   "outputs": [
    {
     "data": {
      "text/plain": [
       "[0,\n",
       " 0,\n",
       " 1,\n",
       " 0,\n",
       " 1,\n",
       " 0,\n",
       " 1,\n",
       " 1,\n",
       " 0,\n",
       " 0,\n",
       " 0,\n",
       " 0,\n",
       " 0,\n",
       " 0,\n",
       " 1,\n",
       " 0,\n",
       " 0,\n",
       " 1,\n",
       " 0,\n",
       " 0,\n",
       " 0,\n",
       " 0,\n",
       " 0,\n",
       " 0,\n",
       " 0,\n",
       " 1,\n",
       " 0,\n",
       " 0,\n",
       " 0,\n",
       " 0,\n",
       " 0,\n",
       " 0]"
      ]
     },
     "execution_count": 3,
     "metadata": {},
     "output_type": "execute_result"
    },
    {
     "data": {
      "text/plain": [
       "[0,\n",
       " 0,\n",
       " 0,\n",
       " 1,\n",
       " 0,\n",
       " 1,\n",
       " 0,\n",
       " 0,\n",
       " 0,\n",
       " 0,\n",
       " 0,\n",
       " 0,\n",
       " 0,\n",
       " 1,\n",
       " 0,\n",
       " 0,\n",
       " 0,\n",
       " 0,\n",
       " 0,\n",
       " 0,\n",
       " 0,\n",
       " 0,\n",
       " 0,\n",
       " 1,\n",
       " 0,\n",
       " 0,\n",
       " 0,\n",
       " 1,\n",
       " 0,\n",
       " 0,\n",
       " 0,\n",
       " 0]"
      ]
     },
     "execution_count": 3,
     "metadata": {},
     "output_type": "execute_result"
    }
   ],
   "source": [
    "setOfWords2Vec(myVocablist, listOPosts[0])\n",
    "setOfWords2Vec(myVocablist, listOPosts[3])"
   ]
  },
  {
   "cell_type": "markdown",
   "metadata": {
    "deletable": false,
    "editable": false,
    "run_control": {
     "frozen": true
    }
   },
   "source": [
    "### 训练算法：从词向量计算概率"
   ]
  },
  {
   "cell_type": "markdown",
   "metadata": {
    "ExecuteTime": {
     "end_time": "2018-06-20T11:36:54.394047Z",
     "start_time": "2018-06-20T11:36:54.388044Z"
    },
    "deletable": false,
    "editable": false,
    "run_control": {
     "frozen": true
    }
   },
   "source": [
    "我们重写贝叶斯准则，将之前的x、y替换为***w***。粗体***w***表示这是一个向量，即它由多个数值组成。在这个例子中，数值个数与词汇表中的词个数相同。  \n",
    "$$p(c_{i}|w)=\\frac{p(w|c_{i})p(c_{i})}{p(w)}$$ \n",
    "我们将使用上述公式，对每个类计算该值，然后比较这两个概率值的大小。如何计算呢？首先可以通过类别i(侮辱性留言或非侮辱性留言)中文档数除以总的文档数来计算概率p($c_{i}$)。接下来计算p(w|$c_{i}$)，这里就要用到朴素贝叶斯假设。如果将***w***展开为一个个独立特征，那么就可以将上述概率写作p(w0,w1,w2..wN|ci)。这里假设所有词都互相独立，该假设也称作条件独立性假设，它意味着可以使用p(w0|$c_{i}$)p(w1|$c_{i}$)p(w2|$c_{i}$)...p(wN|$c_{i}$)来计算上述概率，这就极大地简化了计算的过程。"
   ]
  },
  {
   "cell_type": "markdown",
   "metadata": {
    "deletable": false,
    "editable": false,
    "run_control": {
     "frozen": true
    }
   },
   "source": [
    "**该函数的伪代码如下：**  \n",
    "　　计算每个类别中的文档数目  \n",
    "　　对每篇训练文档：  \n",
    "　　　　对每个类别：  \n",
    "　　　　　　如果词条出现在文档中→增加该词条的计数值  \n",
    "　　　　　　增加所有词条的计数值  \n",
    "　　　　对每个类别：  \n",
    "　　　　　　对每个词条：  \n",
    "　　　　　　　　将该词条的数目除以总词条数目得到条件概率  \n",
    "　　　　返回每个类别的条件概率"
   ]
  },
  {
   "cell_type": "code",
   "execution_count": 4,
   "metadata": {
    "ExecuteTime": {
     "end_time": "2018-06-23T14:25:21.640914Z",
     "start_time": "2018-06-23T14:25:21.635910Z"
    },
    "deletable": false,
    "editable": false
   },
   "outputs": [],
   "source": [
    "# 朴素贝叶斯分类器训练函数\n",
    "import numpy as np\n",
    "\n",
    "\n",
    "def trainNB0(trainMatrix, trainCategory):\n",
    "    numTrainDocs = len(trainMatrix)\n",
    "    numWords = len(trainMatrix[0])\n",
    "    pAbusive = sum(trainCategory)/float(numTrainDocs)  # 属于类1的概率，即p(1)\n",
    "    p0Num = np.ones(numWords)\n",
    "    p1Num = np.ones(numWords)  # change to ones()\n",
    "    p0Denom = 2.0\n",
    "    p1Denom = 2.0  # change to 2.0\n",
    "    for i in range(numTrainDocs):\n",
    "        if trainCategory[i] == 1:\n",
    "            p1Num += trainMatrix[i]  # 俩个ndarry相加\n",
    "            p1Denom += 1\n",
    "        else:\n",
    "            p0Num += trainMatrix[i]\n",
    "            p0Denom += 1\n",
    "    p1Vect = np.log(p1Num/p1Denom)  # 每一个是log(p(wi|c1)),p1Vect加起来就是p(w|c1)\n",
    "    p0Vect = np.log(p0Num/p0Denom)  # 每一个是log(p(wi|c0)),p1Vect加起来就是p(w|c0)\n",
    "    return p0Vect, p1Vect, pAbusive"
   ]
  },
  {
   "cell_type": "markdown",
   "metadata": {
    "deletable": false,
    "editable": false,
    "run_control": {
     "frozen": true
    }
   },
   "source": [
    "输入参数为文档矩阵trainMatrix，以及由每篇文档类别标签所构成的向量trainCategory。首先，计算文档属于侮辱性文档(class=1)的概率，即P(1)。因为这是一个二类分类问题，所以可以通过1-P(1)得到P(0)。对于多于两类的分类问题，则需要对代码稍加修改。  \n",
    "计算p(wi|$c_{1}$)和p(wi|$c_{0}$)，需要初始化程序中的分子变量和分母变量。由于***w***中元素如此众多，因此可以使用NumPy数组快速计算这些值。一旦某个词语(侮辱性或正常词语)在某一文档中出现，则该词对应的个数(p1Num或者p0Num)就加1，而且在所有的文档中，该文档的总词数也相应加1。对于两个类别都要进行同样的计算处理。  \n",
    "最后，对每个元素除以该类别中的总词数。利用NumPy可以很好实现，用一个数组除以浮点数即可，若使用常规的Python列表则难以完成这种任务，读者可以自己尝试一下。最后，函数会返回两个向量和一个概率。"
   ]
  },
  {
   "cell_type": "code",
   "execution_count": 5,
   "metadata": {
    "ExecuteTime": {
     "end_time": "2018-06-23T14:25:23.379095Z",
     "start_time": "2018-06-23T14:25:23.364085Z"
    },
    "deletable": false,
    "editable": false,
    "scrolled": true
   },
   "outputs": [
    {
     "data": {
      "text/plain": [
       "[['my', 'dog', 'has', 'flea', 'problems', 'help', 'please'],\n",
       " ['maybe', 'not', 'take', 'him', 'to', 'dog', 'park', 'stupid'],\n",
       " ['my', 'dalmation', 'is', 'so', 'cute', 'I', 'love', 'him'],\n",
       " ['stop', 'posting', 'stupid', 'worthless', 'garbage'],\n",
       " ['mr', 'licks', 'ate', 'my', 'steak', 'how', 'to', 'stop', 'him'],\n",
       " ['quit', 'buying', 'worthless', 'dog', 'food', 'stupid']]"
      ]
     },
     "execution_count": 5,
     "metadata": {},
     "output_type": "execute_result"
    },
    {
     "data": {
      "text/plain": [
       "['I',\n",
       " 'love',\n",
       " 'flea',\n",
       " 'posting',\n",
       " 'my',\n",
       " 'stupid',\n",
       " 'problems',\n",
       " 'please',\n",
       " 'cute',\n",
       " 'dalmation',\n",
       " 'how',\n",
       " 'licks',\n",
       " 'maybe',\n",
       " 'garbage',\n",
       " 'dog',\n",
       " 'is',\n",
       " 'quit',\n",
       " 'has',\n",
       " 'mr',\n",
       " 'food',\n",
       " 'to',\n",
       " 'so',\n",
       " 'buying',\n",
       " 'stop',\n",
       " 'him',\n",
       " 'help',\n",
       " 'steak',\n",
       " 'worthless',\n",
       " 'ate',\n",
       " 'not',\n",
       " 'park',\n",
       " 'take']"
      ]
     },
     "execution_count": 5,
     "metadata": {},
     "output_type": "execute_result"
    },
    {
     "data": {
      "text/plain": [
       "[[0,\n",
       "  0,\n",
       "  1,\n",
       "  0,\n",
       "  1,\n",
       "  0,\n",
       "  1,\n",
       "  1,\n",
       "  0,\n",
       "  0,\n",
       "  0,\n",
       "  0,\n",
       "  0,\n",
       "  0,\n",
       "  1,\n",
       "  0,\n",
       "  0,\n",
       "  1,\n",
       "  0,\n",
       "  0,\n",
       "  0,\n",
       "  0,\n",
       "  0,\n",
       "  0,\n",
       "  0,\n",
       "  1,\n",
       "  0,\n",
       "  0,\n",
       "  0,\n",
       "  0,\n",
       "  0,\n",
       "  0],\n",
       " [0,\n",
       "  0,\n",
       "  0,\n",
       "  0,\n",
       "  0,\n",
       "  1,\n",
       "  0,\n",
       "  0,\n",
       "  0,\n",
       "  0,\n",
       "  0,\n",
       "  0,\n",
       "  1,\n",
       "  0,\n",
       "  1,\n",
       "  0,\n",
       "  0,\n",
       "  0,\n",
       "  0,\n",
       "  0,\n",
       "  1,\n",
       "  0,\n",
       "  0,\n",
       "  0,\n",
       "  1,\n",
       "  0,\n",
       "  0,\n",
       "  0,\n",
       "  0,\n",
       "  1,\n",
       "  1,\n",
       "  1],\n",
       " [1,\n",
       "  1,\n",
       "  0,\n",
       "  0,\n",
       "  1,\n",
       "  0,\n",
       "  0,\n",
       "  0,\n",
       "  1,\n",
       "  1,\n",
       "  0,\n",
       "  0,\n",
       "  0,\n",
       "  0,\n",
       "  0,\n",
       "  1,\n",
       "  0,\n",
       "  0,\n",
       "  0,\n",
       "  0,\n",
       "  0,\n",
       "  1,\n",
       "  0,\n",
       "  0,\n",
       "  1,\n",
       "  0,\n",
       "  0,\n",
       "  0,\n",
       "  0,\n",
       "  0,\n",
       "  0,\n",
       "  0],\n",
       " [0,\n",
       "  0,\n",
       "  0,\n",
       "  1,\n",
       "  0,\n",
       "  1,\n",
       "  0,\n",
       "  0,\n",
       "  0,\n",
       "  0,\n",
       "  0,\n",
       "  0,\n",
       "  0,\n",
       "  1,\n",
       "  0,\n",
       "  0,\n",
       "  0,\n",
       "  0,\n",
       "  0,\n",
       "  0,\n",
       "  0,\n",
       "  0,\n",
       "  0,\n",
       "  1,\n",
       "  0,\n",
       "  0,\n",
       "  0,\n",
       "  1,\n",
       "  0,\n",
       "  0,\n",
       "  0,\n",
       "  0],\n",
       " [0,\n",
       "  0,\n",
       "  0,\n",
       "  0,\n",
       "  1,\n",
       "  0,\n",
       "  0,\n",
       "  0,\n",
       "  0,\n",
       "  0,\n",
       "  1,\n",
       "  1,\n",
       "  0,\n",
       "  0,\n",
       "  0,\n",
       "  0,\n",
       "  0,\n",
       "  0,\n",
       "  1,\n",
       "  0,\n",
       "  1,\n",
       "  0,\n",
       "  0,\n",
       "  1,\n",
       "  1,\n",
       "  0,\n",
       "  1,\n",
       "  0,\n",
       "  1,\n",
       "  0,\n",
       "  0,\n",
       "  0],\n",
       " [0,\n",
       "  0,\n",
       "  0,\n",
       "  0,\n",
       "  0,\n",
       "  1,\n",
       "  0,\n",
       "  0,\n",
       "  0,\n",
       "  0,\n",
       "  0,\n",
       "  0,\n",
       "  0,\n",
       "  0,\n",
       "  1,\n",
       "  0,\n",
       "  1,\n",
       "  0,\n",
       "  0,\n",
       "  1,\n",
       "  0,\n",
       "  0,\n",
       "  1,\n",
       "  0,\n",
       "  0,\n",
       "  0,\n",
       "  0,\n",
       "  1,\n",
       "  0,\n",
       "  0,\n",
       "  0,\n",
       "  0]]"
      ]
     },
     "execution_count": 5,
     "metadata": {},
     "output_type": "execute_result"
    },
    {
     "data": {
      "text/plain": [
       "(array([-0.91629073, -0.91629073, -0.91629073, -1.60943791, -0.22314355,\n",
       "        -1.60943791, -0.91629073, -0.91629073, -0.91629073, -0.91629073,\n",
       "        -0.91629073, -0.91629073, -1.60943791, -1.60943791, -0.91629073,\n",
       "        -0.91629073, -1.60943791, -0.91629073, -0.91629073, -1.60943791,\n",
       "        -0.91629073, -0.91629073, -1.60943791, -0.91629073, -0.51082562,\n",
       "        -0.91629073, -0.91629073, -1.60943791, -0.91629073, -1.60943791,\n",
       "        -1.60943791, -1.60943791]),\n",
       " array([-1.60943791, -1.60943791, -1.60943791, -0.91629073, -1.60943791,\n",
       "        -0.22314355, -1.60943791, -1.60943791, -1.60943791, -1.60943791,\n",
       "        -1.60943791, -1.60943791, -0.91629073, -0.91629073, -0.51082562,\n",
       "        -1.60943791, -0.91629073, -1.60943791, -1.60943791, -0.91629073,\n",
       "        -0.91629073, -1.60943791, -0.91629073, -0.91629073, -0.91629073,\n",
       "        -1.60943791, -1.60943791, -0.51082562, -1.60943791, -0.91629073,\n",
       "        -0.91629073, -0.91629073]),\n",
       " 0.5)"
      ]
     },
     "execution_count": 5,
     "metadata": {},
     "output_type": "execute_result"
    }
   ],
   "source": [
    "listOPosts, listClasses = loadDataSet()\n",
    "listOPosts\n",
    "myVocablist = createVocabList(listOPosts)\n",
    "trainMat = [setOfWords2Vec(myVocablist, postinDoc)\n",
    "            for postinDoc in listOPosts]  # 列表推导式\n",
    "myVocablist\n",
    "trainMat\n",
    "p0V, p1V, pAb = trainNB0(trainMat, listClasses)\n",
    "p0V, p1V, pAb"
   ]
  },
  {
   "cell_type": "markdown",
   "metadata": {
    "deletable": false,
    "editable": false,
    "run_control": {
     "frozen": true
    }
   },
   "source": [
    "### 测试算法:根据现实情况修改分类器"
   ]
  },
  {
   "cell_type": "markdown",
   "metadata": {
    "deletable": false,
    "editable": false,
    "run_control": {
     "frozen": true
    }
   },
   "source": [
    "利用贝叶斯分类器对文档进行分类时，要**计算多个概率的乘积以获得文档属于某个类别的概率**，即计算p(w0|1)p(w1|1)p(w2|1)。如果其中一个概率值为0，那么最后的乘积也为0。为降低这种影响，可以将所有词的出现数初始化为1，并将分母初始化为2。具体改动见西瓜书。  \n",
    "另一个遇到的问题是下溢出，这是由于太多很小的数相乘造成的。当计算乘积p(w0|$c_{i}$)p(w1|$c_{i}$)p(w2|$c_{i}$)...p(wN|$c_{i}$)时，由于大部分因子都非常小，所以程序会下溢出或者得到不正确的答案(读者可以用Python尝试相乘许多很小的数，最后四舍五入后会得到0)。**一种解决办法是对乘积取自然对数**。同时，采用自然对数进行处理不会有任何损失，但不影响最终结果。"
   ]
  },
  {
   "cell_type": "code",
   "execution_count": 6,
   "metadata": {
    "ExecuteTime": {
     "end_time": "2018-06-23T14:25:25.052048Z",
     "start_time": "2018-06-23T14:25:25.045045Z"
    },
    "deletable": false,
    "editable": false
   },
   "outputs": [],
   "source": [
    "# 朴素贝叶斯分类函数\n",
    "def classifyNB(vec2Classify, p0Vec, p1Vec, pClass1):\n",
    "    p1 = sum(vec2Classify * p1Vec) + np.log(pClass1)  # element-wise mult\n",
    "    p0 = sum(vec2Classify * p0Vec) + np.log(1.0 - pClass1)\n",
    "    if p1 > p0:\n",
    "        return 1\n",
    "    else:\n",
    "        return 0\n",
    "\n",
    "\n",
    "def testingNB():\n",
    "    listOPosts, listClasses = loadDataSet()\n",
    "    myVocabList = createVocabList(listOPosts)\n",
    "    trainMat = []\n",
    "    for postinDoc in listOPosts:\n",
    "        trainMat.append(setOfWords2Vec(myVocabList, postinDoc))\n",
    "    p0V, p1V, pAb = trainNB0(np.array(trainMat), np.array(listClasses))\n",
    "    testEntry = ['love', 'my', 'dalmation']\n",
    "    thisDoc = np.array(setOfWords2Vec(myVocabList, testEntry))\n",
    "    print(testEntry, 'classified as: ', classifyNB(thisDoc, p0V, p1V, pAb))\n",
    "    testEntry = ['stupid', 'garbage']\n",
    "    thisDoc = np.array(setOfWords2Vec(myVocabList, testEntry))\n",
    "    print(testEntry, 'classified as: ', classifyNB(thisDoc, p0V, p1V, pAb))"
   ]
  },
  {
   "cell_type": "markdown",
   "metadata": {
    "deletable": false,
    "editable": false,
    "run_control": {
     "frozen": true
    }
   },
   "source": [
    "classifyNB函数4个输入：要分类的向量vec2Classify以及使用函数trainNB0()计算得到的三个概率。  \n",
    "代码的第二个函数是一个便利函数(convenience function)，该函数封装所有操作，以节省时间。"
   ]
  },
  {
   "cell_type": "code",
   "execution_count": 7,
   "metadata": {
    "ExecuteTime": {
     "end_time": "2018-06-23T14:25:27.624619Z",
     "start_time": "2018-06-23T14:25:27.620616Z"
    },
    "deletable": false,
    "editable": false
   },
   "outputs": [
    {
     "name": "stdout",
     "output_type": "stream",
     "text": [
      "['love', 'my', 'dalmation'] classified as:  0\n",
      "['stupid', 'garbage'] classified as:  1\n"
     ]
    }
   ],
   "source": [
    "testingNB()"
   ]
  },
  {
   "cell_type": "markdown",
   "metadata": {
    "deletable": false,
    "editable": false,
    "run_control": {
     "frozen": true
    }
   },
   "source": [
    "### 准备数据：文档词袋模型"
   ]
  },
  {
   "cell_type": "markdown",
   "metadata": {
    "deletable": false,
    "editable": false,
    "run_control": {
     "frozen": true
    }
   },
   "source": [
    "目前为止，我们将每个词的出现与否作为一个特征，这可以被描述为**词集模型(set-of-words model)**。**如果一个词在文档中出现不止一次，这可能意味着包含该词是否出现在文档中所不能表达的某种信息**，这种方法被称为**词袋模型(bag-of-words model)**。在词袋中，每个单词可以出现多次，而在词集中，每个词只能出现一次。修改后的函数称为bagOfWords2Vec(),唯一不同的是每当遇到一个单词时，它会增加词向量中的对应值，而不只是将对应的数值设为1。"
   ]
  },
  {
   "cell_type": "code",
   "execution_count": 8,
   "metadata": {
    "ExecuteTime": {
     "end_time": "2018-06-23T14:25:29.662576Z",
     "start_time": "2018-06-23T14:25:29.659572Z"
    },
    "deletable": false,
    "editable": false
   },
   "outputs": [],
   "source": [
    "def bagOfWords2VecMN(vocabList, inputSet):\n",
    "    returnVec = [0]*len(vocabList)\n",
    "    for word in inputSet:\n",
    "        if word in vocabList:\n",
    "            returnVec[vocabList.index(word)] += 1\n",
    "    return returnVec"
   ]
  },
  {
   "cell_type": "markdown",
   "metadata": {
    "deletable": false,
    "editable": false,
    "run_control": {
     "frozen": true
    }
   },
   "source": [
    "## 示例：使用朴素贝叶斯过滤垃圾邮件"
   ]
  },
  {
   "cell_type": "markdown",
   "metadata": {
    "deletable": false,
    "editable": false,
    "run_control": {
     "frozen": true
    }
   },
   "source": [
    "之前引入了字符串列表。使用朴素贝叶斯解决一些现实生活中的问题时，需要先从文本内容得到字符串列表，然后生成词向量。朴素贝叶斯的一个最著名的应用：**电子邮件垃圾过滤**。首先看一下如何使用通用框架来解决该问题。"
   ]
  },
  {
   "cell_type": "markdown",
   "metadata": {
    "deletable": false,
    "editable": false,
    "run_control": {
     "frozen": true
    }
   },
   "source": [
    "|示例:使用朴素贝叶斯对电子邮件进行分类||\n",
    "|:-|:-|\n",
    "|收集数据|提供文本文件|\n",
    "|准备数据|将文本文件解析成词条向量|\n",
    "|分析数据|检查词条确保解析的正确性|\n",
    "|训练算法|使用我们之前建立的trainNB0()函数|\n",
    "|测试算法|使用classifyNB()，并且构建一个新的测试函数来计算文档集的错误率|\n",
    "|使用算法|构建一个完整的程序对一组文档进行分类，将错分的文档输出到屏幕上|"
   ]
  },
  {
   "cell_type": "markdown",
   "metadata": {
    "deletable": false,
    "editable": false,
    "run_control": {
     "frozen": true
    }
   },
   "source": [
    "### 准备数据:切分文本"
   ]
  },
  {
   "cell_type": "markdown",
   "metadata": {
    "deletable": false,
    "editable": false,
    "run_control": {
     "frozen": true
    }
   },
   "source": [
    "对于一个文本字符串，可以使用Python的string.split()方法将其切分。"
   ]
  },
  {
   "cell_type": "code",
   "execution_count": 9,
   "metadata": {
    "ExecuteTime": {
     "end_time": "2018-06-23T14:25:33.583369Z",
     "start_time": "2018-06-23T14:25:33.579366Z"
    },
    "deletable": false,
    "editable": false
   },
   "outputs": [
    {
     "data": {
      "text/plain": [
       "['This',\n",
       " 'book',\n",
       " 'is',\n",
       " 'the',\n",
       " 'best',\n",
       " 'book',\n",
       " 'on',\n",
       " 'Python',\n",
       " 'or',\n",
       " 'M.L.',\n",
       " 'I',\n",
       " 'have',\n",
       " 'ever',\n",
       " 'laid',\n",
       " 'eyes',\n",
       " 'upon.']"
      ]
     },
     "execution_count": 9,
     "metadata": {},
     "output_type": "execute_result"
    }
   ],
   "source": [
    "mySent = 'This book is the best book on Python or M.L. I have ever laid eyes upon.'\n",
    "mySent.split()"
   ]
  },
  {
   "cell_type": "markdown",
   "metadata": {
    "deletable": false,
    "editable": false,
    "run_control": {
     "frozen": true
    }
   },
   "source": [
    "可以看到，切分的结果不错，但是标点符号也被当成了词的一部分。可以使用正则表示式来切分句子，其中分隔符是除单词、数字外的任意字符串。"
   ]
  },
  {
   "cell_type": "code",
   "execution_count": 10,
   "metadata": {
    "ExecuteTime": {
     "end_time": "2018-06-23T14:25:35.374309Z",
     "start_time": "2018-06-23T14:25:35.301269Z"
    },
    "deletable": false,
    "editable": false
   },
   "outputs": [
    {
     "name": "stderr",
     "output_type": "stream",
     "text": [
      "E:\\software\\14.Anaconda3\\lib\\re.py:212: FutureWarning: split() requires a non-empty pattern match.\n",
      "  return _compile(pattern, flags).split(string, maxsplit)\n"
     ]
    },
    {
     "data": {
      "text/plain": [
       "['This',\n",
       " 'book',\n",
       " 'is',\n",
       " 'the',\n",
       " 'best',\n",
       " 'book',\n",
       " 'on',\n",
       " 'Python',\n",
       " 'or',\n",
       " 'M',\n",
       " 'L',\n",
       " 'I',\n",
       " 'have',\n",
       " 'ever',\n",
       " 'laid',\n",
       " 'eyes',\n",
       " 'upon',\n",
       " '']"
      ]
     },
     "execution_count": 10,
     "metadata": {},
     "output_type": "execute_result"
    }
   ],
   "source": [
    "import re\n",
    "listOfTokens = re.split(r'\\W*', mySent)\n",
    "listOfTokens"
   ]
  },
  {
   "cell_type": "markdown",
   "metadata": {
    "deletable": false,
    "editable": false,
    "run_control": {
     "frozen": true
    }
   },
   "source": [
    "得到了一系列词组成的词表，但是里面的空字符串需要去掉。可以计算每个字符串的长度，只返回长度大于0的字符串。  \n",
    "最后，我们希望所有词的形式都是统一的，不论它们出现在句子中间、结尾还是开头。Python中有一些内嵌的方法可以将字符串全部转换成小写(.lower())或者大写.upper())，借助这些方法可以达到目的。"
   ]
  },
  {
   "cell_type": "code",
   "execution_count": 11,
   "metadata": {
    "ExecuteTime": {
     "end_time": "2018-06-23T14:25:37.207921Z",
     "start_time": "2018-06-23T14:25:37.203920Z"
    },
    "deletable": false,
    "editable": false
   },
   "outputs": [
    {
     "data": {
      "text/plain": [
       "['this',\n",
       " 'book',\n",
       " 'is',\n",
       " 'the',\n",
       " 'best',\n",
       " 'book',\n",
       " 'on',\n",
       " 'python',\n",
       " 'or',\n",
       " 'm',\n",
       " 'l',\n",
       " 'i',\n",
       " 'have',\n",
       " 'ever',\n",
       " 'laid',\n",
       " 'eyes',\n",
       " 'upon']"
      ]
     },
     "execution_count": 11,
     "metadata": {},
     "output_type": "execute_result"
    }
   ],
   "source": [
    "[tok.lower() for tok in listOfTokens if len(tok) > 0]"
   ]
  },
  {
   "cell_type": "markdown",
   "metadata": {
    "deletable": false,
    "editable": false,
    "run_control": {
     "frozen": true
    }
   },
   "source": [
    "现在来看数据集中一封完整的电子邮件的实际处理结果。该数据集放在email文件夹中，该文件夹又包含两个子文件夹，分别是spam与ham。"
   ]
  },
  {
   "cell_type": "code",
   "execution_count": 12,
   "metadata": {
    "ExecuteTime": {
     "end_time": "2018-06-23T14:25:39.967590Z",
     "start_time": "2018-06-23T14:25:39.963585Z"
    },
    "deletable": false,
    "editable": false
   },
   "outputs": [
    {
     "name": "stderr",
     "output_type": "stream",
     "text": [
      "E:\\software\\14.Anaconda3\\lib\\re.py:212: FutureWarning: split() requires a non-empty pattern match.\n",
      "  return _compile(pattern, flags).split(string, maxsplit)\n"
     ]
    }
   ],
   "source": [
    "emailText = open('email/ham/6.txt').read()\n",
    "listOfTokens = re.split(r'\\W*', emailText)"
   ]
  },
  {
   "cell_type": "markdown",
   "metadata": {},
   "source": [
    "需要注意的是，由于是URL：answer.py？hl=en&answer=174623的一部分，因而会出现en和py这样的单词。当对URL进行切分时，会得到很多的词。**我们是想去掉这些单词，因此在实现时会过滤掉长度小于3的字符串**。本例使用一个通用的文本解析规则来实现这一点。在实际的解析程序中，要用更高级的过滤器来对诸如HTML和URI的对象进行处理。目前，一个URI最终会解析成词汇表中的单词，比如www\\.whitehouse\\.gov会被解析为三个单词。文本解析可能是一个相当复杂的过程。接下来将构建一个极其简单的函数，你可以根据情况自行修改。"
   ]
  },
  {
   "cell_type": "code",
   "execution_count": 13,
   "metadata": {
    "ExecuteTime": {
     "end_time": "2018-06-23T14:25:42.225201Z",
     "start_time": "2018-06-23T14:25:42.219197Z"
    },
    "deletable": false,
    "editable": false
   },
   "outputs": [
    {
     "data": {
      "text/plain": [
       "['hello',\n",
       " 'since',\n",
       " 'you',\n",
       " 'are',\n",
       " 'owner',\n",
       " 'least',\n",
       " 'one',\n",
       " 'google',\n",
       " 'groups',\n",
       " 'group',\n",
       " 'that',\n",
       " 'uses',\n",
       " 'the',\n",
       " 'customized',\n",
       " 'welcome',\n",
       " 'message',\n",
       " 'pages',\n",
       " 'files',\n",
       " 'are',\n",
       " 'writing',\n",
       " 'inform',\n",
       " 'you',\n",
       " 'that',\n",
       " 'will',\n",
       " 'longer',\n",
       " 'supporting',\n",
       " 'these',\n",
       " 'features',\n",
       " 'starting',\n",
       " 'february',\n",
       " '2011',\n",
       " 'made',\n",
       " 'this',\n",
       " 'decision',\n",
       " 'that',\n",
       " 'can',\n",
       " 'focus',\n",
       " 'improving',\n",
       " 'the',\n",
       " 'core',\n",
       " 'functionalities',\n",
       " 'google',\n",
       " 'groups',\n",
       " 'mailing',\n",
       " 'lists',\n",
       " 'and',\n",
       " 'forum',\n",
       " 'discussions',\n",
       " 'instead',\n",
       " 'these',\n",
       " 'features',\n",
       " 'encourage',\n",
       " 'you',\n",
       " 'use',\n",
       " 'products',\n",
       " 'that',\n",
       " 'are',\n",
       " 'designed',\n",
       " 'specifically',\n",
       " 'for',\n",
       " 'file',\n",
       " 'storage',\n",
       " 'and',\n",
       " 'page',\n",
       " 'creation',\n",
       " 'such',\n",
       " 'google',\n",
       " 'docs',\n",
       " 'and',\n",
       " 'google',\n",
       " 'sites',\n",
       " 'for',\n",
       " 'example',\n",
       " 'you',\n",
       " 'can',\n",
       " 'easily',\n",
       " 'create',\n",
       " 'your',\n",
       " 'pages',\n",
       " 'google',\n",
       " 'sites',\n",
       " 'and',\n",
       " 'share',\n",
       " 'the',\n",
       " 'site',\n",
       " 'http',\n",
       " 'www',\n",
       " 'google',\n",
       " 'com',\n",
       " 'support',\n",
       " 'sites',\n",
       " 'bin',\n",
       " 'answer',\n",
       " 'answer',\n",
       " '174623',\n",
       " 'with',\n",
       " 'the',\n",
       " 'members',\n",
       " 'your',\n",
       " 'group',\n",
       " 'you',\n",
       " 'can',\n",
       " 'also',\n",
       " 'store',\n",
       " 'your',\n",
       " 'files',\n",
       " 'the',\n",
       " 'site',\n",
       " 'attaching',\n",
       " 'files',\n",
       " 'pages',\n",
       " 'http',\n",
       " 'www',\n",
       " 'google',\n",
       " 'com',\n",
       " 'support',\n",
       " 'sites',\n",
       " 'bin',\n",
       " 'answer',\n",
       " 'answer',\n",
       " '90563',\n",
       " 'the',\n",
       " 'site',\n",
       " 'you抮e',\n",
       " 'just',\n",
       " 'looking',\n",
       " 'for',\n",
       " 'place',\n",
       " 'upload',\n",
       " 'your',\n",
       " 'files',\n",
       " 'that',\n",
       " 'your',\n",
       " 'group',\n",
       " 'members',\n",
       " 'can',\n",
       " 'download',\n",
       " 'them',\n",
       " 'suggest',\n",
       " 'you',\n",
       " 'try',\n",
       " 'google',\n",
       " 'docs',\n",
       " 'you',\n",
       " 'can',\n",
       " 'upload',\n",
       " 'files',\n",
       " 'http',\n",
       " 'docs',\n",
       " 'google',\n",
       " 'com',\n",
       " 'support',\n",
       " 'bin',\n",
       " 'answer',\n",
       " 'answer',\n",
       " '50092',\n",
       " 'and',\n",
       " 'share',\n",
       " 'access',\n",
       " 'with',\n",
       " 'either',\n",
       " 'group',\n",
       " 'http',\n",
       " 'docs',\n",
       " 'google',\n",
       " 'com',\n",
       " 'support',\n",
       " 'bin',\n",
       " 'answer',\n",
       " 'answer',\n",
       " '66343',\n",
       " 'individual',\n",
       " 'http',\n",
       " 'docs',\n",
       " 'google',\n",
       " 'com',\n",
       " 'support',\n",
       " 'bin',\n",
       " 'answer',\n",
       " 'answer',\n",
       " '86152',\n",
       " 'assigning',\n",
       " 'either',\n",
       " 'edit',\n",
       " 'download',\n",
       " 'only',\n",
       " 'access',\n",
       " 'the',\n",
       " 'files',\n",
       " 'you',\n",
       " 'have',\n",
       " 'received',\n",
       " 'this',\n",
       " 'mandatory',\n",
       " 'email',\n",
       " 'service',\n",
       " 'announcement',\n",
       " 'update',\n",
       " 'you',\n",
       " 'about',\n",
       " 'important',\n",
       " 'changes',\n",
       " 'google',\n",
       " 'groups']"
      ]
     },
     "execution_count": 13,
     "metadata": {},
     "output_type": "execute_result"
    }
   ],
   "source": [
    "[tok.lower() for tok in listOfTokens if len(tok) > 2]"
   ]
  },
  {
   "cell_type": "markdown",
   "metadata": {
    "deletable": false,
    "editable": false,
    "run_control": {
     "frozen": true
    }
   },
   "source": [
    "### 测试算法：使用朴素贝叶斯进行交叉验证"
   ]
  },
  {
   "cell_type": "code",
   "execution_count": 32,
   "metadata": {
    "ExecuteTime": {
     "end_time": "2018-06-23T14:40:59.356068Z",
     "start_time": "2018-06-23T14:40:59.349064Z"
    },
    "deletable": false,
    "editable": false
   },
   "outputs": [],
   "source": [
    "# 文件解析及完整的垃圾邮件测试函数\n",
    "def textParse(bigString):  # input is big string, #output is word list\n",
    "    import re\n",
    "    listOfTokens = re.split(r'\\W*', bigString)\n",
    "    return [tok.lower() for tok in listOfTokens if len(tok) > 2]\n",
    "\n",
    "\n",
    "def spamTest():\n",
    "    docList = []\n",
    "    classList = []\n",
    "    fullText = []\n",
    "    for i in range(1, 26):\n",
    "        wordList = textParse(open('email/spam/%d.txt' % i).read())\n",
    "        docList.append(wordList)\n",
    "        classList.append(1)\n",
    "        wordList = textParse(open('email/ham/%d.txt' %\n",
    "                                  i).read())  # 之前某个文件中字符不能被解码出错\n",
    "        docList.append(wordList)\n",
    "        classList.append(0)\n",
    "    vocabList = createVocabList(docList)  # create vocabulary\n",
    "    trainingSet = list(range(50))\n",
    "    testSet = []  # create test set\n",
    "    for i in range(10):\n",
    "        randIndex = int(np.random.uniform(0, len(trainingSet)))\n",
    "        testSet.append(trainingSet[randIndex])\n",
    "        del(trainingSet[randIndex])\n",
    "    trainMat = []\n",
    "    trainClasses = []\n",
    "    for docIndex in trainingSet:  # train the classifier (get probs) trainNB0\n",
    "        trainMat.append(bagOfWords2VecMN(vocabList, docList[docIndex]))\n",
    "        trainClasses.append(classList[docIndex])\n",
    "    p0V, p1V, pSpam = trainNB0(np.array(trainMat), np.array(trainClasses))\n",
    "    errorCount = 0\n",
    "    for docIndex in testSet:  # classify the remaining items\n",
    "        wordVector = bagOfWords2VecMN(vocabList, docList[docIndex])\n",
    "        if classifyNB(np.array(wordVector), p0V, p1V, pSpam) != classList[docIndex]:\n",
    "            errorCount += 1\n",
    "            print('classification error', docList[docIndex])\n",
    "    print('the error rate is: ', float(errorCount)/len(testSet))\n",
    "    # return vocabList,fullText"
   ]
  },
  {
   "cell_type": "markdown",
   "metadata": {
    "deletable": false,
    "editable": false,
    "run_control": {
     "frozen": true
    }
   },
   "source": [
    "textParse()接受一个大字符串并将其解析为字符串列表。该函数去掉少于两个字符的字符串，并将所有字符串转换为小写。  \n",
    "spamTest()对贝叶斯垃圾邮件分类器进行自动化处理。导入spam与ham下的文本文件，并解析为词列表。接下来构建一个测试集与一个训练集，随机选出。共有50封电子邮件，其中10封电子邮件为测试集。**留存交叉验证**（hold-out cross validation）。可以多次迭代后求出平均错误率。接下来遍历训练集的所有文档，对每封邮件基于词汇表并使用setOfWords2Vec()函数来构建词向量。这些词在traindNB0()函数中用于计算分类所需的概率。然后遍历测试集，邮件分类错误，则错误数加1，最后给出总的错误百分比。"
   ]
  },
  {
   "cell_type": "code",
   "execution_count": 53,
   "metadata": {
    "ExecuteTime": {
     "end_time": "2018-06-23T14:41:16.829829Z",
     "start_time": "2018-06-23T14:41:16.749776Z"
    },
    "deletable": false,
    "editable": false
   },
   "outputs": [
    {
     "name": "stdout",
     "output_type": "stream",
     "text": [
      "the error rate is:  0.0\n",
      "classification error ['oem', 'adobe', 'microsoft', 'softwares', 'fast', 'order', 'and', 'download', 'microsoft', 'office', 'professional', 'plus', '2007', '2010', '129', 'microsoft', 'windows', 'ultimate', '119', 'adobe', 'photoshop', 'cs5', 'extended', 'adobe', 'acrobat', 'pro', 'extended', 'windows', 'professional', 'thousand', 'more', 'titles']\n",
      "the error rate is:  0.1\n"
     ]
    },
    {
     "name": "stderr",
     "output_type": "stream",
     "text": [
      "E:\\software\\14.Anaconda3\\lib\\re.py:212: FutureWarning: split() requires a non-empty pattern match.\n",
      "  return _compile(pattern, flags).split(string, maxsplit)\n"
     ]
    }
   ],
   "source": [
    "spamTest()\n",
    "spamTest()"
   ]
  },
  {
   "cell_type": "markdown",
   "metadata": {
    "deletable": false,
    "editable": false,
    "run_control": {
     "frozen": true
    }
   },
   "source": [
    "## 示例：使用朴素贝叶斯分类器从个人广告中获取区域倾向"
   ]
  },
  {
   "cell_type": "markdown",
   "metadata": {
    "deletable": false,
    "editable": false,
    "run_control": {
     "frozen": true
    }
   },
   "source": [
    "之前介绍朴素贝叶斯的两个实际应用的例子，第一个例子是过滤网站的恶意留言，第二个是过滤垃圾邮件。"
   ]
  },
  {
   "cell_type": "markdown",
   "metadata": {
    "deletable": false,
    "editable": false,
    "run_control": {
     "frozen": true
    }
   },
   "source": [
    "|示例:使用朴素贝叶斯来发现地域相关的用词||\n",
    "|:-|:-|\n",
    "|收集数据|从RSS源收集内容，这里需要对RSS源构建一个接口|\n",
    "|准备数据|将文本文件解析成词条向量|\n",
    "|分析数据|检查词条确保解析的正确性|\n",
    "|训练算法|使用我们之前建立的trainNB0()函数|\n",
    "|测试算法|观察错误率，确保分类器可用。可以修改切分程序，以降低错误率，提高分类结果|\n",
    "|使用算法|构建一个完整的程序，封装所有内容。给定两个RSS源，该程序会显示最常用的公共词|"
   ]
  },
  {
   "cell_type": "markdown",
   "metadata": {
    "deletable": false,
    "editable": false,
    "run_control": {
     "frozen": true
    }
   },
   "source": [
    "**目的**并不是使用该分类器进行分类，而是通过**观察单词和条件概率值来发现与特定城市相关的内容**。"
   ]
  },
  {
   "cell_type": "markdown",
   "metadata": {
    "deletable": false,
    "editable": false,
    "run_control": {
     "frozen": true
    }
   },
   "source": [
    "### 收集数据:导入RSS源"
   ]
  },
  {
   "cell_type": "markdown",
   "metadata": {
    "deletable": false,
    "editable": false,
    "run_control": {
     "frozen": true
    }
   },
   "source": [
    "使用Python下载文本。利用RSS，这些文本很容易得到。需要的是一个RSS阅读器。Universal Feed Parser是Python中最常用的RSS程序库。"
   ]
  },
  {
   "cell_type": "code",
   "execution_count": 15,
   "metadata": {
    "ExecuteTime": {
     "end_time": "2018-06-23T14:25:51.227555Z",
     "start_time": "2018-06-23T14:25:49.667105Z"
    },
    "deletable": false,
    "editable": false
   },
   "outputs": [
    {
     "data": {
      "text/plain": [
       "[{'title': 'Chaotic Clouds of Jupiter',\n",
       "  'title_detail': {'type': 'text/plain',\n",
       "   'language': 'en',\n",
       "   'base': 'http://www.nasa.gov/',\n",
       "   'value': 'Chaotic Clouds of Jupiter'},\n",
       "  'links': [{'rel': 'alternate',\n",
       "    'type': 'text/html',\n",
       "    'href': 'http://www.nasa.gov/image-feature/jpl/chaotic-clouds-of-jupiter'},\n",
       "   {'length': '1356099',\n",
       "    'type': 'image/jpeg',\n",
       "    'href': 'http://www.nasa.gov/sites/default/files/thumbnails/image/pia22424.jpg',\n",
       "    'rel': 'enclosure'}],\n",
       "  'link': 'http://www.nasa.gov/image-feature/jpl/chaotic-clouds-of-jupiter',\n",
       "  'summary': 'This image captures swirling cloud belts and tumultuous vortices within Jupiter’s northern hemisphere.',\n",
       "  'summary_detail': {'type': 'text/html',\n",
       "   'language': 'en',\n",
       "   'base': 'http://www.nasa.gov/',\n",
       "   'value': 'This image captures swirling cloud belts and tumultuous vortices within Jupiter’s northern hemisphere.'},\n",
       "  'id': 'http://www.nasa.gov/image-feature/jpl/chaotic-clouds-of-jupiter',\n",
       "  'guidislink': False,\n",
       "  'published': 'Thu, 21 Jun 2018 17:49 EDT',\n",
       "  'published_parsed': time.struct_time(tm_year=2018, tm_mon=6, tm_mday=21, tm_hour=21, tm_min=49, tm_sec=0, tm_wday=3, tm_yday=172, tm_isdst=0),\n",
       "  'source': {'href': 'http://www.nasa.gov/rss/dyn/image_of_the_day.rss',\n",
       "   'title': 'NASA Image of the Day'}},\n",
       " {'title': 'Launching to Observe Our Sun',\n",
       "  'title_detail': {'type': 'text/plain',\n",
       "   'language': 'en',\n",
       "   'base': 'http://www.nasa.gov/',\n",
       "   'value': 'Launching to Observe Our Sun'},\n",
       "  'links': [{'rel': 'alternate',\n",
       "    'type': 'text/html',\n",
       "    'href': 'http://www.nasa.gov/image-feature/launching-to-observe-our-sun'},\n",
       "   {'length': '2969854',\n",
       "    'type': 'image/jpeg',\n",
       "    'href': 'http://www.nasa.gov/sites/default/files/thumbnails/image/16501277241_f0d41c0e14_o.jpg',\n",
       "    'rel': 'enclosure'}],\n",
       "  'link': 'http://www.nasa.gov/image-feature/launching-to-observe-our-sun',\n",
       "  'summary': 'On June 21, 1975, NASA successfully launched the eighth Orbiting Solar Observatory aboard a Delta rocket from Cape Canaveral, Florida. This satellite was the final in a series of spacecraft specifically designed to look at the Sun in high-energy wavelength bands.',\n",
       "  'summary_detail': {'type': 'text/html',\n",
       "   'language': 'en',\n",
       "   'base': 'http://www.nasa.gov/',\n",
       "   'value': 'On June 21, 1975, NASA successfully launched the eighth Orbiting Solar Observatory aboard a Delta rocket from Cape Canaveral, Florida. This satellite was the final in a series of spacecraft specifically designed to look at the Sun in high-energy wavelength bands.'},\n",
       "  'id': 'http://www.nasa.gov/image-feature/launching-to-observe-our-sun',\n",
       "  'guidislink': False,\n",
       "  'published': 'Thu, 21 Jun 2018 09:45 EDT',\n",
       "  'published_parsed': time.struct_time(tm_year=2018, tm_mon=6, tm_mday=21, tm_hour=13, tm_min=45, tm_sec=0, tm_wday=3, tm_yday=172, tm_isdst=0),\n",
       "  'source': {'href': 'http://www.nasa.gov/rss/dyn/image_of_the_day.rss',\n",
       "   'title': 'NASA Image of the Day'}},\n",
       " {'title': 'Rover Under the Milky Way - Atacama Rover Astrobiology Drilling Studies',\n",
       "  'title_detail': {'type': 'text/plain',\n",
       "   'language': 'en',\n",
       "   'base': 'http://www.nasa.gov/',\n",
       "   'value': 'Rover Under the Milky Way - Atacama Rover Astrobiology Drilling Studies'},\n",
       "  'links': [{'rel': 'alternate',\n",
       "    'type': 'text/html',\n",
       "    'href': 'http://www.nasa.gov/image-feature/ames/rover-under-the-milky-way-atacama-rover-astrobiology-drilling-studies'},\n",
       "   {'length': '18523791',\n",
       "    'type': 'image/jpeg',\n",
       "    'href': 'http://www.nasa.gov/sites/default/files/thumbnails/image/arads25_img_0103.jpg',\n",
       "    'rel': 'enclosure'}],\n",
       "  'link': 'http://www.nasa.gov/image-feature/ames/rover-under-the-milky-way-atacama-rover-astrobiology-drilling-studies',\n",
       "  'summary': 'The Moon begins to rise behind the ARADS rover during the 2017 season of field tests in Chile’s Atacama Desert.',\n",
       "  'summary_detail': {'type': 'text/html',\n",
       "   'language': 'en',\n",
       "   'base': 'http://www.nasa.gov/',\n",
       "   'value': 'The Moon begins to rise behind the ARADS rover during the 2017 season of field tests in Chile’s Atacama Desert.'},\n",
       "  'id': 'http://www.nasa.gov/image-feature/ames/rover-under-the-milky-way-atacama-rover-astrobiology-drilling-studies',\n",
       "  'guidislink': False,\n",
       "  'published': 'Wed, 20 Jun 2018 13:10 EDT',\n",
       "  'published_parsed': time.struct_time(tm_year=2018, tm_mon=6, tm_mday=20, tm_hour=17, tm_min=10, tm_sec=0, tm_wday=2, tm_yday=171, tm_isdst=0),\n",
       "  'source': {'href': 'http://www.nasa.gov/rss/dyn/image_of_the_day.rss',\n",
       "   'title': 'NASA Image of the Day'}},\n",
       " {'title': 'Once in a Blue Dune',\n",
       "  'title_detail': {'type': 'text/plain',\n",
       "   'language': 'en',\n",
       "   'base': 'http://www.nasa.gov/',\n",
       "   'value': 'Once in a Blue Dune'},\n",
       "  'links': [{'rel': 'alternate',\n",
       "    'type': 'text/html',\n",
       "    'href': 'http://www.nasa.gov/image-feature/jpl/once-in-a-blue-dune'},\n",
       "   {'length': '1403554',\n",
       "    'type': 'image/jpeg',\n",
       "    'href': 'http://www.nasa.gov/sites/default/files/thumbnails/image/pia22512.jpg',\n",
       "    'rel': 'enclosure'}],\n",
       "  'link': 'http://www.nasa.gov/image-feature/jpl/once-in-a-blue-dune',\n",
       "  'summary': \"Sand dunes often accumulate in the floors of craters. In this region of Lyot Crater, NASA's Mars Reconnaissance Orbiter (MRO) shows a field of classic barchan dunes on Jan. 24, 2018.\",\n",
       "  'summary_detail': {'type': 'text/html',\n",
       "   'language': 'en',\n",
       "   'base': 'http://www.nasa.gov/',\n",
       "   'value': \"Sand dunes often accumulate in the floors of craters. In this region of Lyot Crater, NASA's Mars Reconnaissance Orbiter (MRO) shows a field of classic barchan dunes on Jan. 24, 2018.\"},\n",
       "  'id': 'http://www.nasa.gov/image-feature/jpl/once-in-a-blue-dune',\n",
       "  'guidislink': False,\n",
       "  'published': 'Wed, 20 Jun 2018 11:10 EDT',\n",
       "  'published_parsed': time.struct_time(tm_year=2018, tm_mon=6, tm_mday=20, tm_hour=15, tm_min=10, tm_sec=0, tm_wday=2, tm_yday=171, tm_isdst=0),\n",
       "  'source': {'href': 'http://www.nasa.gov/rss/dyn/image_of_the_day.rss',\n",
       "   'title': 'NASA Image of the Day'}},\n",
       " {'title': 'Another Day at the Office',\n",
       "  'title_detail': {'type': 'text/plain',\n",
       "   'language': 'en',\n",
       "   'base': 'http://www.nasa.gov/',\n",
       "   'value': 'Another Day at the Office'},\n",
       "  'links': [{'rel': 'alternate',\n",
       "    'type': 'text/html',\n",
       "    'href': 'http://www.nasa.gov/image-feature/another-day-at-the-office'},\n",
       "   {'length': '2402363',\n",
       "    'type': 'image/jpeg',\n",
       "    'href': 'http://www.nasa.gov/sites/default/files/thumbnails/image/iss056e012405.jpg',\n",
       "    'rel': 'enclosure'}],\n",
       "  'link': 'http://www.nasa.gov/image-feature/another-day-at-the-office',\n",
       "  'summary': '\"Space was our office yesterday. #EVA51,\" said International Space Station astronaut Ricky Arnold on Friday.',\n",
       "  'summary_detail': {'type': 'text/html',\n",
       "   'language': 'en',\n",
       "   'base': 'http://www.nasa.gov/',\n",
       "   'value': '\"Space was our office yesterday. #EVA51,\" said International Space Station astronaut Ricky Arnold on Friday.'},\n",
       "  'id': 'http://www.nasa.gov/image-feature/another-day-at-the-office',\n",
       "  'guidislink': False,\n",
       "  'published': 'Mon, 18 Jun 2018 13:53 EDT',\n",
       "  'published_parsed': time.struct_time(tm_year=2018, tm_mon=6, tm_mday=18, tm_hour=17, tm_min=53, tm_sec=0, tm_wday=0, tm_yday=169, tm_isdst=0),\n",
       "  'source': {'href': 'http://www.nasa.gov/rss/dyn/image_of_the_day.rss',\n",
       "   'title': 'NASA Image of the Day'}},\n",
       " {'title': 'Bang and Whoosh!',\n",
       "  'title_detail': {'type': 'text/plain',\n",
       "   'language': 'en',\n",
       "   'base': 'http://www.nasa.gov/',\n",
       "   'value': 'Bang and Whoosh!'},\n",
       "  'links': [{'rel': 'alternate',\n",
       "    'type': 'text/html',\n",
       "    'href': 'http://www.nasa.gov/image-feature/jpl/bang-and-whoosh'},\n",
       "   {'length': '960344',\n",
       "    'type': 'image/jpeg',\n",
       "    'href': 'http://www.nasa.gov/sites/default/files/thumbnails/image/pia22513.jpg',\n",
       "    'rel': 'enclosure'}],\n",
       "  'link': 'http://www.nasa.gov/image-feature/jpl/bang-and-whoosh',\n",
       "  'summary': \"This HiRISE image from NASA's Mars Reconnaissance Orbiter (MRO) captures a new, dated (within about a decade) impact crater that triggered a slope streak.\",\n",
       "  'summary_detail': {'type': 'text/html',\n",
       "   'language': 'en',\n",
       "   'base': 'http://www.nasa.gov/',\n",
       "   'value': \"This HiRISE image from NASA's Mars Reconnaissance Orbiter (MRO) captures a new, dated (within about a decade) impact crater that triggered a slope streak.\"},\n",
       "  'id': 'http://www.nasa.gov/image-feature/jpl/bang-and-whoosh',\n",
       "  'guidislink': False,\n",
       "  'published': 'Fri, 15 Jun 2018 10:08 EDT',\n",
       "  'published_parsed': time.struct_time(tm_year=2018, tm_mon=6, tm_mday=15, tm_hour=14, tm_min=8, tm_sec=0, tm_wday=4, tm_yday=166, tm_isdst=0),\n",
       "  'source': {'href': 'http://www.nasa.gov/rss/dyn/image_of_the_day.rss',\n",
       "   'title': 'NASA Image of the Day'}},\n",
       " {'title': 'A Deep Space Communications Hub in the Desert',\n",
       "  'title_detail': {'type': 'text/plain',\n",
       "   'language': 'en',\n",
       "   'base': 'http://www.nasa.gov/',\n",
       "   'value': 'A Deep Space Communications Hub in the Desert'},\n",
       "  'links': [{'rel': 'alternate',\n",
       "    'type': 'text/html',\n",
       "    'href': 'http://www.nasa.gov/image-feature/a-deep-space-communications-hub-in-the-desert'},\n",
       "   {'length': '2395211',\n",
       "    'type': 'image/jpeg',\n",
       "    'href': 'http://www.nasa.gov/sites/default/files/thumbnails/image/goldstone_oli_2018124_lrg.jpg',\n",
       "    'rel': 'enclosure'}],\n",
       "  'link': 'http://www.nasa.gov/image-feature/a-deep-space-communications-hub-in-the-desert',\n",
       "  'summary': 'When NASA engineers were looking for a place to build a network of large radio antennas in the 1950s, they knew they needed somewhere quiet.',\n",
       "  'summary_detail': {'type': 'text/html',\n",
       "   'language': 'en',\n",
       "   'base': 'http://www.nasa.gov/',\n",
       "   'value': 'When NASA engineers were looking for a place to build a network of large radio antennas in the 1950s, they knew they needed somewhere quiet.'},\n",
       "  'id': 'http://www.nasa.gov/image-feature/a-deep-space-communications-hub-in-the-desert',\n",
       "  'guidislink': False,\n",
       "  'published': 'Thu, 14 Jun 2018 09:57 EDT',\n",
       "  'published_parsed': time.struct_time(tm_year=2018, tm_mon=6, tm_mday=14, tm_hour=13, tm_min=57, tm_sec=0, tm_wday=3, tm_yday=165, tm_isdst=0),\n",
       "  'source': {'href': 'http://www.nasa.gov/rss/dyn/image_of_the_day.rss',\n",
       "   'title': 'NASA Image of the Day'}},\n",
       " {'title': 'Shades of Martian Darkness',\n",
       "  'title_detail': {'type': 'text/plain',\n",
       "   'language': 'en',\n",
       "   'base': 'http://www.nasa.gov/',\n",
       "   'value': 'Shades of Martian Darkness'},\n",
       "  'links': [{'rel': 'alternate',\n",
       "    'type': 'text/html',\n",
       "    'href': 'http://www.nasa.gov/image-feature/shades-of-martian-darkness'},\n",
       "   {'length': '83831',\n",
       "    'type': 'image/jpeg',\n",
       "    'href': 'http://www.nasa.gov/sites/default/files/thumbnails/image/pia22521-16.jpg',\n",
       "    'rel': 'enclosure'}],\n",
       "  'link': 'http://www.nasa.gov/image-feature/shades-of-martian-darkness',\n",
       "  'summary': \"Science operations for NASA's Opportunity rover have been temporarily suspended as it waits out a dust storm on Mars. This series of images shows simulated views of a darkening Martian sky blotting out the Sun from NASA's Opportunity rover's point of view,.\",\n",
       "  'summary_detail': {'type': 'text/html',\n",
       "   'language': 'en',\n",
       "   'base': 'http://www.nasa.gov/',\n",
       "   'value': \"Science operations for NASA's Opportunity rover have been temporarily suspended as it waits out a dust storm on Mars. This series of images shows simulated views of a darkening Martian sky blotting out the Sun from NASA's Opportunity rover's point of view,.\"},\n",
       "  'id': 'http://www.nasa.gov/image-feature/shades-of-martian-darkness',\n",
       "  'guidislink': False,\n",
       "  'published': 'Wed, 13 Jun 2018 16:20 EDT',\n",
       "  'published_parsed': time.struct_time(tm_year=2018, tm_mon=6, tm_mday=13, tm_hour=20, tm_min=20, tm_sec=0, tm_wday=2, tm_yday=164, tm_isdst=0),\n",
       "  'source': {'href': 'http://www.nasa.gov/rss/dyn/image_of_the_day.rss',\n",
       "   'title': 'NASA Image of the Day'}},\n",
       " {'title': 'Evaluating the Noise of Future Aircraft',\n",
       "  'title_detail': {'type': 'text/plain',\n",
       "   'language': 'en',\n",
       "   'base': 'http://www.nasa.gov/',\n",
       "   'value': 'Evaluating the Noise of Future Aircraft'},\n",
       "  'links': [{'rel': 'alternate',\n",
       "    'type': 'text/html',\n",
       "    'href': 'http://www.nasa.gov/image-feature/evaluating-the-noise-of-future-aircraft'},\n",
       "   {'length': '1494061',\n",
       "    'type': 'image/jpeg',\n",
       "    'href': 'http://www.nasa.gov/sites/default/files/thumbnails/image/learjet_aapl_model.jpg',\n",
       "    'rel': 'enclosure'}],\n",
       "  'link': 'http://www.nasa.gov/image-feature/evaluating-the-noise-of-future-aircraft',\n",
       "  'summary': 'To address the expected noise levels of future aircraft, NASA’s Commercial Supersonic Technology project is already developing technologies focused on reducing the noise produced by an aircraft’s engine exhaust.',\n",
       "  'summary_detail': {'type': 'text/html',\n",
       "   'language': 'en',\n",
       "   'base': 'http://www.nasa.gov/',\n",
       "   'value': 'To address the expected noise levels of future aircraft, NASA’s Commercial Supersonic Technology project is already developing technologies focused on reducing the noise produced by an aircraft’s engine exhaust.'},\n",
       "  'id': 'http://www.nasa.gov/image-feature/evaluating-the-noise-of-future-aircraft',\n",
       "  'guidislink': False,\n",
       "  'published': 'Tue, 12 Jun 2018 06:00 EDT',\n",
       "  'published_parsed': time.struct_time(tm_year=2018, tm_mon=6, tm_mday=12, tm_hour=10, tm_min=0, tm_sec=0, tm_wday=1, tm_yday=163, tm_isdst=0),\n",
       "  'source': {'href': 'http://www.nasa.gov/rss/dyn/image_of_the_day.rss',\n",
       "   'title': 'NASA Image of the Day'}},\n",
       " {'title': \"Clouds Over Alaska's Wrangell Mountains\",\n",
       "  'title_detail': {'type': 'text/plain',\n",
       "   'language': 'en',\n",
       "   'base': 'http://www.nasa.gov/',\n",
       "   'value': \"Clouds Over Alaska's Wrangell Mountains\"},\n",
       "  'links': [{'rel': 'alternate',\n",
       "    'type': 'text/html',\n",
       "    'href': 'http://www.nasa.gov/image-feature/clouds-over-alaskas-wrangell-mountains'},\n",
       "   {'length': '239514',\n",
       "    'type': 'image/jpeg',\n",
       "    'href': 'http://www.nasa.gov/sites/default/files/thumbnails/image/twaharpiesrange_2018_lrg.jpeg',\n",
       "    'rel': 'enclosure'}],\n",
       "  'link': 'http://www.nasa.gov/image-feature/clouds-over-alaskas-wrangell-mountains',\n",
       "  'summary': 'Operation IceBridge missions over Alaska reveal some majestic icescapes, like this image of the Wrangell Mountains in eastern Alaska.',\n",
       "  'summary_detail': {'type': 'text/html',\n",
       "   'language': 'en',\n",
       "   'base': 'http://www.nasa.gov/',\n",
       "   'value': 'Operation IceBridge missions over Alaska reveal some majestic icescapes, like this image of the Wrangell Mountains in eastern Alaska.'},\n",
       "  'id': 'http://www.nasa.gov/image-feature/clouds-over-alaskas-wrangell-mountains',\n",
       "  'guidislink': False,\n",
       "  'published': 'Mon, 11 Jun 2018 11:10 EDT',\n",
       "  'published_parsed': time.struct_time(tm_year=2018, tm_mon=6, tm_mday=11, tm_hour=15, tm_min=10, tm_sec=0, tm_wday=0, tm_yday=162, tm_isdst=0),\n",
       "  'source': {'href': 'http://www.nasa.gov/rss/dyn/image_of_the_day.rss',\n",
       "   'title': 'NASA Image of the Day'}},\n",
       " {'title': 'New Crew Arrives at the International Space Station',\n",
       "  'title_detail': {'type': 'text/plain',\n",
       "   'language': 'en',\n",
       "   'base': 'http://www.nasa.gov/',\n",
       "   'value': 'New Crew Arrives at the International Space Station'},\n",
       "  'links': [{'rel': 'alternate',\n",
       "    'type': 'text/html',\n",
       "    'href': 'http://www.nasa.gov/image-feature/new-crew-arrives-at-the-international-space-station'},\n",
       "   {'length': '1660553',\n",
       "    'type': 'image/jpeg',\n",
       "    'href': 'http://www.nasa.gov/sites/default/files/thumbnails/image/nhq201806080012.jpg',\n",
       "    'rel': 'enclosure'}],\n",
       "  'link': 'http://www.nasa.gov/image-feature/new-crew-arrives-at-the-international-space-station',\n",
       "  'summary': 'Expedition 56 astronauts arrive at the International Space Station.',\n",
       "  'summary_detail': {'type': 'text/html',\n",
       "   'language': 'en',\n",
       "   'base': 'http://www.nasa.gov/',\n",
       "   'value': 'Expedition 56 astronauts arrive at the International Space Station.'},\n",
       "  'id': 'http://www.nasa.gov/image-feature/new-crew-arrives-at-the-international-space-station',\n",
       "  'guidislink': False,\n",
       "  'published': 'Fri, 08 Jun 2018 15:58 EDT',\n",
       "  'published_parsed': time.struct_time(tm_year=2018, tm_mon=6, tm_mday=8, tm_hour=19, tm_min=58, tm_sec=0, tm_wday=4, tm_yday=159, tm_isdst=0),\n",
       "  'source': {'href': 'http://www.nasa.gov/rss/dyn/image_of_the_day.rss',\n",
       "   'title': 'NASA Image of the Day'}},\n",
       " {'title': 'Hubble Images a Galaxy with Threads of Blue',\n",
       "  'title_detail': {'type': 'text/plain',\n",
       "   'language': 'en',\n",
       "   'base': 'http://www.nasa.gov/',\n",
       "   'value': 'Hubble Images a Galaxy with Threads of Blue'},\n",
       "  'links': [{'rel': 'alternate',\n",
       "    'type': 'text/html',\n",
       "    'href': 'http://www.nasa.gov/image-feature/goddard/2018/hubble-images-a-galaxy-with-threads-of-blue'},\n",
       "   {'length': '3837774',\n",
       "    'type': 'image/jpeg',\n",
       "    'href': 'http://www.nasa.gov/sites/default/files/thumbnails/image/potw1823a.jpg',\n",
       "    'rel': 'enclosure'}],\n",
       "  'link': 'http://www.nasa.gov/image-feature/goddard/2018/hubble-images-a-galaxy-with-threads-of-blue',\n",
       "  'summary': 'A ripple of bright blue gas threads through this galaxy like a misshapen lake system.',\n",
       "  'summary_detail': {'type': 'text/html',\n",
       "   'language': 'en',\n",
       "   'base': 'http://www.nasa.gov/',\n",
       "   'value': 'A ripple of bright blue gas threads through this galaxy like a misshapen lake system.'},\n",
       "  'id': 'http://www.nasa.gov/image-feature/goddard/2018/hubble-images-a-galaxy-with-threads-of-blue',\n",
       "  'guidislink': False,\n",
       "  'published': 'Fri, 08 Jun 2018 09:56 EDT',\n",
       "  'published_parsed': time.struct_time(tm_year=2018, tm_mon=6, tm_mday=8, tm_hour=13, tm_min=56, tm_sec=0, tm_wday=4, tm_yday=159, tm_isdst=0),\n",
       "  'source': {'href': 'http://www.nasa.gov/rss/dyn/image_of_the_day.rss',\n",
       "   'title': 'NASA Image of the Day'}},\n",
       " {'title': 'Soyuz Lifts Off to Bring New Crew to Space Station',\n",
       "  'title_detail': {'type': 'text/plain',\n",
       "   'language': 'en',\n",
       "   'base': 'http://www.nasa.gov/',\n",
       "   'value': 'Soyuz Lifts Off to Bring New Crew to Space Station'},\n",
       "  'links': [{'rel': 'alternate',\n",
       "    'type': 'text/html',\n",
       "    'href': 'http://www.nasa.gov/image-feature/soyuz-lifts-off-to-bring-new-crew-to-space-station'},\n",
       "   {'length': '2466263',\n",
       "    'type': 'image/jpeg',\n",
       "    'href': 'http://www.nasa.gov/sites/default/files/thumbnails/image/40808879360_18c96d62f1_o.jpg',\n",
       "    'rel': 'enclosure'}],\n",
       "  'link': 'http://www.nasa.gov/image-feature/soyuz-lifts-off-to-bring-new-crew-to-space-station',\n",
       "  'summary': 'The Soyuz MS-09 rocket is launched with Soyuz Commander Sergey Prokopyev of Roscosmos and astronauts Serena Auñón-Chancellor of NASA and Alexander Gerst of ESA on June 6, 2018.',\n",
       "  'summary_detail': {'type': 'text/html',\n",
       "   'language': 'en',\n",
       "   'base': 'http://www.nasa.gov/',\n",
       "   'value': 'The Soyuz MS-09 rocket is launched with Soyuz Commander Sergey Prokopyev of Roscosmos and astronauts Serena Auñón-Chancellor of NASA and Alexander Gerst of ESA on June 6, 2018.'},\n",
       "  'id': 'http://www.nasa.gov/image-feature/soyuz-lifts-off-to-bring-new-crew-to-space-station',\n",
       "  'guidislink': False,\n",
       "  'published': 'Wed, 06 Jun 2018 11:11 EDT',\n",
       "  'published_parsed': time.struct_time(tm_year=2018, tm_mon=6, tm_mday=6, tm_hour=15, tm_min=11, tm_sec=0, tm_wday=2, tm_yday=157, tm_isdst=0),\n",
       "  'source': {'href': 'http://www.nasa.gov/rss/dyn/image_of_the_day.rss',\n",
       "   'title': 'NASA Image of the Day'}},\n",
       " {'title': 'Patches of Snow on the Red Planet',\n",
       "  'title_detail': {'type': 'text/plain',\n",
       "   'language': 'en',\n",
       "   'base': 'http://www.nasa.gov/',\n",
       "   'value': 'Patches of Snow on the Red Planet'},\n",
       "  'links': [{'rel': 'alternate',\n",
       "    'type': 'text/html',\n",
       "    'href': 'http://www.nasa.gov/image-feature/patches-of-snow-on-the-red-planet'},\n",
       "   {'length': '516834',\n",
       "    'type': 'image/jpeg',\n",
       "    'href': 'http://www.nasa.gov/sites/default/files/thumbnails/image/marssnow.jpg',\n",
       "    'rel': 'enclosure'}],\n",
       "  'link': 'http://www.nasa.gov/image-feature/patches-of-snow-on-the-red-planet',\n",
       "  'summary': \"In early Martian summer, at the time NASA's Mars Reconnaissance Orbiter acquired this image, the dunes are almost free of their seasonal ice cover.\",\n",
       "  'summary_detail': {'type': 'text/html',\n",
       "   'language': 'en',\n",
       "   'base': 'http://www.nasa.gov/',\n",
       "   'value': \"In early Martian summer, at the time NASA's Mars Reconnaissance Orbiter acquired this image, the dunes are almost free of their seasonal ice cover.\"},\n",
       "  'id': 'http://www.nasa.gov/image-feature/patches-of-snow-on-the-red-planet',\n",
       "  'guidislink': False,\n",
       "  'published': 'Tue, 05 Jun 2018 15:06 EDT',\n",
       "  'published_parsed': time.struct_time(tm_year=2018, tm_mon=6, tm_mday=5, tm_hour=19, tm_min=6, tm_sec=0, tm_wday=1, tm_yday=156, tm_isdst=0),\n",
       "  'source': {'href': 'http://www.nasa.gov/rss/dyn/image_of_the_day.rss',\n",
       "   'title': 'NASA Image of the Day'}},\n",
       " {'title': 'Soyuz Rolled to the Pad for Wednesday Launch to Space Station',\n",
       "  'title_detail': {'type': 'text/plain',\n",
       "   'language': 'en',\n",
       "   'base': 'http://www.nasa.gov/',\n",
       "   'value': 'Soyuz Rolled to the Pad for Wednesday Launch to Space Station'},\n",
       "  'links': [{'rel': 'alternate',\n",
       "    'type': 'text/html',\n",
       "    'href': 'http://www.nasa.gov/image-feature/soyuz-rolled-to-the-pad-for-wednesday-launch-to-space-station'},\n",
       "   {'length': '456501',\n",
       "    'type': 'image/jpeg',\n",
       "    'href': 'http://www.nasa.gov/sites/default/files/thumbnails/image/28680508458_2745f5fa6e_k.jpg',\n",
       "    'rel': 'enclosure'}],\n",
       "  'link': 'http://www.nasa.gov/image-feature/soyuz-rolled-to-the-pad-for-wednesday-launch-to-space-station',\n",
       "  'summary': 'The Soyuz rocket is rolled out by train to the launch pad, Monday, June 4, 2018, at the Baikonur Cosmodrome in Kazakhstan.',\n",
       "  'summary_detail': {'type': 'text/html',\n",
       "   'language': 'en',\n",
       "   'base': 'http://www.nasa.gov/',\n",
       "   'value': 'The Soyuz rocket is rolled out by train to the launch pad, Monday, June 4, 2018, at the Baikonur Cosmodrome in Kazakhstan.'},\n",
       "  'id': 'http://www.nasa.gov/image-feature/soyuz-rolled-to-the-pad-for-wednesday-launch-to-space-station',\n",
       "  'guidislink': False,\n",
       "  'published': 'Mon, 04 Jun 2018 10:04 EDT',\n",
       "  'published_parsed': time.struct_time(tm_year=2018, tm_mon=6, tm_mday=4, tm_hour=14, tm_min=4, tm_sec=0, tm_wday=0, tm_yday=155, tm_isdst=0),\n",
       "  'source': {'href': 'http://www.nasa.gov/rss/dyn/image_of_the_day.rss',\n",
       "   'title': 'NASA Image of the Day'}},\n",
       " {'title': 'Expedition 55 Crew Returns Home from the International Space Station',\n",
       "  'title_detail': {'type': 'text/plain',\n",
       "   'language': 'en',\n",
       "   'base': 'http://www.nasa.gov/',\n",
       "   'value': 'Expedition 55 Crew Returns Home from the International Space Station'},\n",
       "  'links': [{'rel': 'alternate',\n",
       "    'type': 'text/html',\n",
       "    'href': 'http://www.nasa.gov/image-feature/expedition-55-crew-returns-home-from-the-international-space-station'},\n",
       "   {'length': '1379476',\n",
       "    'type': 'image/jpeg',\n",
       "    'href': 'http://www.nasa.gov/sites/default/files/thumbnails/image/42535970511_bc542c6efc_o.jpg',\n",
       "    'rel': 'enclosure'}],\n",
       "  'link': 'http://www.nasa.gov/image-feature/expedition-55-crew-returns-home-from-the-international-space-station',\n",
       "  'summary': 'The Soyuz MS-07 spacecraft is seen as it lands with Expedition 55 crew members Anton Shkaplerov of Roscosmos, Scott Tingle of NASA, and Norishige Kanai of the Japan Aerospace Exploration Agency (JAXA) near the town of Zhezkazgan, Kazakhstan on Sunday, June 3, 2018.',\n",
       "  'summary_detail': {'type': 'text/html',\n",
       "   'language': 'en',\n",
       "   'base': 'http://www.nasa.gov/',\n",
       "   'value': 'The Soyuz MS-07 spacecraft is seen as it lands with Expedition 55 crew members Anton Shkaplerov of Roscosmos, Scott Tingle of NASA, and Norishige Kanai of the Japan Aerospace Exploration Agency (JAXA) near the town of Zhezkazgan, Kazakhstan on Sunday, June 3, 2018.'},\n",
       "  'id': 'http://www.nasa.gov/image-feature/expedition-55-crew-returns-home-from-the-international-space-station',\n",
       "  'guidislink': False,\n",
       "  'published': 'Sun, 03 Jun 2018 10:19 EDT',\n",
       "  'published_parsed': time.struct_time(tm_year=2018, tm_mon=6, tm_mday=3, tm_hour=14, tm_min=19, tm_sec=0, tm_wday=6, tm_yday=154, tm_isdst=0),\n",
       "  'source': {'href': 'http://www.nasa.gov/rss/dyn/image_of_the_day.rss',\n",
       "   'title': 'NASA Image of the Day'}},\n",
       " {'title': 'Jovian Jet Stream',\n",
       "  'title_detail': {'type': 'text/plain',\n",
       "   'language': 'en',\n",
       "   'base': 'http://www.nasa.gov/',\n",
       "   'value': 'Jovian Jet Stream'},\n",
       "  'links': [{'rel': 'alternate',\n",
       "    'type': 'text/html',\n",
       "    'href': 'http://www.nasa.gov/image-feature/jpl/jovian-jet-stream'},\n",
       "   {'length': '845554',\n",
       "    'type': 'image/jpeg',\n",
       "    'href': 'http://www.nasa.gov/sites/default/files/thumbnails/image/pia22422.jpg',\n",
       "    'rel': 'enclosure'}],\n",
       "  'link': 'http://www.nasa.gov/image-feature/jpl/jovian-jet-stream',\n",
       "  'summary': 'See a jet stream speeding through Jupiter’s atmosphere in this new view taken by NASA’s Juno spacecraft.',\n",
       "  'summary_detail': {'type': 'text/html',\n",
       "   'language': 'en',\n",
       "   'base': 'http://www.nasa.gov/',\n",
       "   'value': 'See a jet stream speeding through Jupiter’s atmosphere in this new view taken by NASA’s Juno spacecraft.'},\n",
       "  'id': 'http://www.nasa.gov/image-feature/jpl/jovian-jet-stream',\n",
       "  'guidislink': False,\n",
       "  'published': 'Thu, 31 May 2018 12:01 EDT',\n",
       "  'published_parsed': time.struct_time(tm_year=2018, tm_mon=5, tm_mday=31, tm_hour=16, tm_min=1, tm_sec=0, tm_wday=3, tm_yday=151, tm_isdst=0),\n",
       "  'source': {'href': 'http://www.nasa.gov/rss/dyn/image_of_the_day.rss',\n",
       "   'title': 'NASA Image of the Day'}},\n",
       " {'title': \"Exposed Bedrock on the Red Planet's Hale Crater\",\n",
       "  'title_detail': {'type': 'text/plain',\n",
       "   'language': 'en',\n",
       "   'base': 'http://www.nasa.gov/',\n",
       "   'value': \"Exposed Bedrock on the Red Planet's Hale Crater\"},\n",
       "  'links': [{'rel': 'alternate',\n",
       "    'type': 'text/html',\n",
       "    'href': 'http://www.nasa.gov/image-feature/exposed-bedrock-on-the-red-planets-hale-crater'},\n",
       "   {'length': '659115',\n",
       "    'type': 'image/jpeg',\n",
       "    'href': 'http://www.nasa.gov/sites/default/files/thumbnails/image/pia22465_0.jpg',\n",
       "    'rel': 'enclosure'}],\n",
       "  'link': 'http://www.nasa.gov/image-feature/exposed-bedrock-on-the-red-planets-hale-crater',\n",
       "  'summary': \"This image from NASA's Mars Reconnaissance Orbiter shows Hale Crater, a large impact crater.\",\n",
       "  'summary_detail': {'type': 'text/html',\n",
       "   'language': 'en',\n",
       "   'base': 'http://www.nasa.gov/',\n",
       "   'value': \"This image from NASA's Mars Reconnaissance Orbiter shows Hale Crater, a large impact crater.\"},\n",
       "  'id': 'http://www.nasa.gov/image-feature/exposed-bedrock-on-the-red-planets-hale-crater',\n",
       "  'guidislink': False,\n",
       "  'published': 'Thu, 31 May 2018 11:25 EDT',\n",
       "  'published_parsed': time.struct_time(tm_year=2018, tm_mon=5, tm_mday=31, tm_hour=15, tm_min=25, tm_sec=0, tm_wday=3, tm_yday=151, tm_isdst=0),\n",
       "  'source': {'href': 'http://www.nasa.gov/rss/dyn/image_of_the_day.rss',\n",
       "   'title': 'NASA Image of the Day'}},\n",
       " {'title': 'Black Hole Bounty Captured in the Center of the Milky Way',\n",
       "  'title_detail': {'type': 'text/plain',\n",
       "   'language': 'en',\n",
       "   'base': 'http://www.nasa.gov/',\n",
       "   'value': 'Black Hole Bounty Captured in the Center of the Milky Way'},\n",
       "  'links': [{'rel': 'alternate',\n",
       "    'type': 'text/html',\n",
       "    'href': 'http://www.nasa.gov/image-feature/black-hole-bounty-captured-in-the-center-of-the-milky-way'},\n",
       "   {'length': '1094396',\n",
       "    'type': 'image/jpeg',\n",
       "    'href': 'http://www.nasa.gov/sites/default/files/thumbnails/image/sgra_swarm_lg.jpg',\n",
       "    'rel': 'enclosure'}],\n",
       "  'link': 'http://www.nasa.gov/image-feature/black-hole-bounty-captured-in-the-center-of-the-milky-way',\n",
       "  'summary': \"Astronomers have discovered evidence for thousands of black holes located near the center of our Milky Way galaxy using data from NASA's Chandra X-ray Observatory.\",\n",
       "  'summary_detail': {'type': 'text/html',\n",
       "   'language': 'en',\n",
       "   'base': 'http://www.nasa.gov/',\n",
       "   'value': \"Astronomers have discovered evidence for thousands of black holes located near the center of our Milky Way galaxy using data from NASA's Chandra X-ray Observatory.\"},\n",
       "  'id': 'http://www.nasa.gov/image-feature/black-hole-bounty-captured-in-the-center-of-the-milky-way',\n",
       "  'guidislink': False,\n",
       "  'published': 'Wed, 30 May 2018 11:29 EDT',\n",
       "  'published_parsed': time.struct_time(tm_year=2018, tm_mon=5, tm_mday=30, tm_hour=15, tm_min=29, tm_sec=0, tm_wday=2, tm_yday=150, tm_isdst=0),\n",
       "  'source': {'href': 'http://www.nasa.gov/rss/dyn/image_of_the_day.rss',\n",
       "   'title': 'NASA Image of the Day'}},\n",
       " {'title': 'Our Sputtering Sun',\n",
       "  'title_detail': {'type': 'text/plain',\n",
       "   'language': 'en',\n",
       "   'base': 'http://www.nasa.gov/',\n",
       "   'value': 'Our Sputtering Sun'},\n",
       "  'links': [{'rel': 'alternate',\n",
       "    'type': 'text/html',\n",
       "    'href': 'http://www.nasa.gov/image-feature/our-sputtering-sun'},\n",
       "   {'length': '4144316',\n",
       "    'type': 'image/jpeg',\n",
       "    'href': 'http://www.nasa.gov/sites/default/files/thumbnails/image/sputteringsun.jpg',\n",
       "    'rel': 'enclosure'}],\n",
       "  'link': 'http://www.nasa.gov/image-feature/our-sputtering-sun',\n",
       "  'summary': 'An active region rotated into view and sputtered with numerous small flares and towering magnetic field lines that stretched out many times the diameter of Earth.',\n",
       "  'summary_detail': {'type': 'text/html',\n",
       "   'language': 'en',\n",
       "   'base': 'http://www.nasa.gov/',\n",
       "   'value': 'An active region rotated into view and sputtered with numerous small flares and towering magnetic field lines that stretched out many times the diameter of Earth.'},\n",
       "  'id': 'http://www.nasa.gov/image-feature/our-sputtering-sun',\n",
       "  'guidislink': False,\n",
       "  'published': 'Tue, 29 May 2018 11:40 EDT',\n",
       "  'published_parsed': time.struct_time(tm_year=2018, tm_mon=5, tm_mday=29, tm_hour=15, tm_min=40, tm_sec=0, tm_wday=1, tm_yday=149, tm_isdst=0),\n",
       "  'source': {'href': 'http://www.nasa.gov/rss/dyn/image_of_the_day.rss',\n",
       "   'title': 'NASA Image of the Day'}},\n",
       " {'title': 'Hubble’s Galaxy Cluster Cornucopia',\n",
       "  'title_detail': {'type': 'text/plain',\n",
       "   'language': 'en',\n",
       "   'base': 'http://www.nasa.gov/',\n",
       "   'value': 'Hubble’s Galaxy Cluster Cornucopia'},\n",
       "  'links': [{'rel': 'alternate',\n",
       "    'type': 'text/html',\n",
       "    'href': 'http://www.nasa.gov/image-feature/goddard/2018/hubbles-galaxy-cluster-cornucopia'},\n",
       "   {'length': '2510692',\n",
       "    'type': 'image/jpeg',\n",
       "    'href': 'http://www.nasa.gov/sites/default/files/thumbnails/image/potw1821a.jpg',\n",
       "    'rel': 'enclosure'}],\n",
       "  'link': 'http://www.nasa.gov/image-feature/goddard/2018/hubbles-galaxy-cluster-cornucopia',\n",
       "  'summary': 'The swirling spiral to the lower left of the frame is far from the most interesting spectacle here — behind it sits a galaxy cluster.',\n",
       "  'summary_detail': {'type': 'text/html',\n",
       "   'language': 'en',\n",
       "   'base': 'http://www.nasa.gov/',\n",
       "   'value': 'The swirling spiral to the lower left of the frame is far from the most interesting spectacle here — behind it sits a galaxy cluster.'},\n",
       "  'id': 'http://www.nasa.gov/image-feature/goddard/2018/hubbles-galaxy-cluster-cornucopia',\n",
       "  'guidislink': False,\n",
       "  'published': 'Fri, 25 May 2018 10:20 EDT',\n",
       "  'published_parsed': time.struct_time(tm_year=2018, tm_mon=5, tm_mday=25, tm_hour=14, tm_min=20, tm_sec=0, tm_wday=4, tm_yday=145, tm_isdst=0),\n",
       "  'source': {'href': 'http://www.nasa.gov/rss/dyn/image_of_the_day.rss',\n",
       "   'title': 'NASA Image of the Day'}},\n",
       " {'title': 'Going Forward',\n",
       "  'title_detail': {'type': 'text/plain',\n",
       "   'language': 'en',\n",
       "   'base': 'http://www.nasa.gov/',\n",
       "   'value': 'Going Forward'},\n",
       "  'links': [{'rel': 'alternate',\n",
       "    'type': 'text/html',\n",
       "    'href': 'http://www.nasa.gov/image-feature/going-forward'},\n",
       "   {'length': '347048',\n",
       "    'type': 'image/jpeg',\n",
       "    'href': 'http://www.nasa.gov/sites/default/files/thumbnails/image/pia22326-16.jpg',\n",
       "    'rel': 'enclosure'}],\n",
       "  'link': 'http://www.nasa.gov/image-feature/going-forward',\n",
       "  'summary': \"This close-up image is of a 2-inch-deep hole produced using a new drilling technique for NASA's Curiosity rover. The hole is about 0.6 inches (1.6 centimeters) in diameter. This image was taken by Curiosity's Mast Camera (Mastcam) on Sol 2057.\",\n",
       "  'summary_detail': {'type': 'text/html',\n",
       "   'language': 'en',\n",
       "   'base': 'http://www.nasa.gov/',\n",
       "   'value': \"This close-up image is of a 2-inch-deep hole produced using a new drilling technique for NASA's Curiosity rover. The hole is about 0.6 inches (1.6 centimeters) in diameter. This image was taken by Curiosity's Mast Camera (Mastcam) on Sol 2057.\"},\n",
       "  'id': 'http://www.nasa.gov/image-feature/going-forward',\n",
       "  'guidislink': False,\n",
       "  'published': 'Thu, 24 May 2018 09:31 EDT',\n",
       "  'published_parsed': time.struct_time(tm_year=2018, tm_mon=5, tm_mday=24, tm_hour=13, tm_min=31, tm_sec=0, tm_wday=3, tm_yday=144, tm_isdst=0),\n",
       "  'source': {'href': 'http://www.nasa.gov/rss/dyn/image_of_the_day.rss',\n",
       "   'title': 'NASA Image of the Day'}},\n",
       " {'title': 'LIFTOFF!',\n",
       "  'title_detail': {'type': 'text/plain',\n",
       "   'language': 'en',\n",
       "   'base': 'http://www.nasa.gov/',\n",
       "   'value': 'LIFTOFF!'},\n",
       "  'links': [{'rel': 'alternate',\n",
       "    'type': 'text/html',\n",
       "    'href': 'http://www.nasa.gov/image-feature/liftoff'},\n",
       "   {'length': '2872625',\n",
       "    'type': 'image/jpeg',\n",
       "    'href': 'http://www.nasa.gov/sites/default/files/thumbnails/image/nhq201805220015.jpg',\n",
       "    'rel': 'enclosure'}],\n",
       "  'link': 'http://www.nasa.gov/image-feature/liftoff',\n",
       "  'summary': 'The GRACE Follow-On spacecraft launched onboard a SpaceX Falcon 9 rocket, Tuesday, May 22, 2018.',\n",
       "  'summary_detail': {'type': 'text/html',\n",
       "   'language': 'en',\n",
       "   'base': 'http://www.nasa.gov/',\n",
       "   'value': 'The GRACE Follow-On spacecraft launched onboard a SpaceX Falcon 9 rocket, Tuesday, May 22, 2018.'},\n",
       "  'id': 'http://www.nasa.gov/image-feature/liftoff',\n",
       "  'guidislink': False,\n",
       "  'published': 'Wed, 23 May 2018 09:40 EDT',\n",
       "  'published_parsed': time.struct_time(tm_year=2018, tm_mon=5, tm_mday=23, tm_hour=13, tm_min=40, tm_sec=0, tm_wday=2, tm_yday=143, tm_isdst=0),\n",
       "  'source': {'href': 'http://www.nasa.gov/rss/dyn/image_of_the_day.rss',\n",
       "   'title': 'NASA Image of the Day'}},\n",
       " {'title': 'GRACE-FO Launches to Provide a Unique View of Earth’s Climate',\n",
       "  'title_detail': {'type': 'text/plain',\n",
       "   'language': 'en',\n",
       "   'base': 'http://www.nasa.gov/',\n",
       "   'value': 'GRACE-FO Launches to Provide a Unique View of Earth’s Climate'},\n",
       "  'links': [{'rel': 'alternate',\n",
       "    'type': 'text/html',\n",
       "    'href': 'http://www.nasa.gov/image-feature/grace-fo-launches-to-provide-a-unique-view-of-earth-s-climate'},\n",
       "   {'length': '2490916',\n",
       "    'type': 'image/jpeg',\n",
       "    'href': 'http://www.nasa.gov/sites/default/files/thumbnails/image/nhq201805220003_0.jpg',\n",
       "    'rel': 'enclosure'}],\n",
       "  'link': 'http://www.nasa.gov/image-feature/grace-fo-launches-to-provide-a-unique-view-of-earth-s-climate',\n",
       "  'summary': '(GRACE-FO) mission launched onboard a SpaceX Falcon 9 rocket, Tuesday, May 22, 2018, from Space Launch Complex 4E at Vandenberg Air Force Base in California',\n",
       "  'summary_detail': {'type': 'text/html',\n",
       "   'language': 'en',\n",
       "   'base': 'http://www.nasa.gov/',\n",
       "   'value': '(GRACE-FO) mission launched onboard a SpaceX Falcon 9 rocket, Tuesday, May 22, 2018, from Space Launch Complex 4E at Vandenberg Air Force Base in California'},\n",
       "  'id': 'http://www.nasa.gov/image-feature/grace-fo-launches-to-provide-a-unique-view-of-earth-s-climate',\n",
       "  'guidislink': False,\n",
       "  'published': 'Tue, 22 May 2018 16:27 EDT',\n",
       "  'published_parsed': time.struct_time(tm_year=2018, tm_mon=5, tm_mday=22, tm_hour=20, tm_min=27, tm_sec=0, tm_wday=1, tm_yday=142, tm_isdst=0),\n",
       "  'source': {'href': 'http://www.nasa.gov/rss/dyn/image_of_the_day.rss',\n",
       "   'title': 'NASA Image of the Day'}},\n",
       " {'title': 'Orbital ATK Antares Rocket Lifts Off on Resupply Mission to the International Space Station',\n",
       "  'title_detail': {'type': 'text/plain',\n",
       "   'language': 'en',\n",
       "   'base': 'http://www.nasa.gov/',\n",
       "   'value': 'Orbital ATK Antares Rocket Lifts Off on Resupply Mission to the International Space Station'},\n",
       "  'links': [{'rel': 'alternate',\n",
       "    'type': 'text/html',\n",
       "    'href': 'http://www.nasa.gov/image-feature/orbital-atk-antares-rocket-lifts-off-on-resupply-mission-to-the-international-space'},\n",
       "   {'length': '1518685',\n",
       "    'type': 'image/jpeg',\n",
       "    'href': 'http://www.nasa.gov/sites/default/files/thumbnails/image/42205330652_5f11bfa041_o.jpg',\n",
       "    'rel': 'enclosure'}],\n",
       "  'link': 'http://www.nasa.gov/image-feature/orbital-atk-antares-rocket-lifts-off-on-resupply-mission-to-the-international-space',\n",
       "  'summary': \"The Orbital ATK Antares rocket, with the Cygnus spacecraft onboard, launches from Pad-0A, Monday, May 21, 2018 at NASA's Wallops Flight Facility in Virginia. Cygnus will deliver approximately 7,400 pounds of science and research, crew supplies and vehicle hardware to the International Space Station and its crew.\",\n",
       "  'summary_detail': {'type': 'text/html',\n",
       "   'language': 'en',\n",
       "   'base': 'http://www.nasa.gov/',\n",
       "   'value': \"The Orbital ATK Antares rocket, with the Cygnus spacecraft onboard, launches from Pad-0A, Monday, May 21, 2018 at NASA's Wallops Flight Facility in Virginia. Cygnus will deliver approximately 7,400 pounds of science and research, crew supplies and vehicle hardware to the International Space Station and its crew.\"},\n",
       "  'id': 'http://www.nasa.gov/image-feature/orbital-atk-antares-rocket-lifts-off-on-resupply-mission-to-the-international-space',\n",
       "  'guidislink': False,\n",
       "  'published': 'Mon, 21 May 2018 06:18 EDT',\n",
       "  'published_parsed': time.struct_time(tm_year=2018, tm_mon=5, tm_mday=21, tm_hour=10, tm_min=18, tm_sec=0, tm_wday=0, tm_yday=141, tm_isdst=0),\n",
       "  'source': {'href': 'http://www.nasa.gov/rss/dyn/image_of_the_day.rss',\n",
       "   'title': 'NASA Image of the Day'}},\n",
       " {'title': 'Antares Rocket Set to Launch NASA Science to the International Space Station',\n",
       "  'title_detail': {'type': 'text/plain',\n",
       "   'language': 'en',\n",
       "   'base': 'http://www.nasa.gov/',\n",
       "   'value': 'Antares Rocket Set to Launch NASA Science to the International Space Station'},\n",
       "  'links': [{'rel': 'alternate',\n",
       "    'type': 'text/html',\n",
       "    'href': 'http://www.nasa.gov/image-feature/antares-rocket-set-to-launch-nasa-science-to-the-international-space-station'},\n",
       "   {'length': '3634287',\n",
       "    'type': 'image/jpeg',\n",
       "    'href': 'http://www.nasa.gov/sites/default/files/thumbnails/image/41321485135_0e2afbdc65_o.jpg',\n",
       "    'rel': 'enclosure'}],\n",
       "  'link': 'http://www.nasa.gov/image-feature/antares-rocket-set-to-launch-nasa-science-to-the-international-space-station',\n",
       "  'summary': 'The Orbital ATK Antares rocket, with the Cygnus spacecraft onboard, is seen at launch Pad-0A, Saturday, May 19, 2018, at Wallops Flight Facility in Virginia. Liftoff is currently targeted for 4:39 a.m. Eastern on Monday, May 21.',\n",
       "  'summary_detail': {'type': 'text/html',\n",
       "   'language': 'en',\n",
       "   'base': 'http://www.nasa.gov/',\n",
       "   'value': 'The Orbital ATK Antares rocket, with the Cygnus spacecraft onboard, is seen at launch Pad-0A, Saturday, May 19, 2018, at Wallops Flight Facility in Virginia. Liftoff is currently targeted for 4:39 a.m. Eastern on Monday, May 21.'},\n",
       "  'id': 'http://www.nasa.gov/image-feature/antares-rocket-set-to-launch-nasa-science-to-the-international-space-station',\n",
       "  'guidislink': False,\n",
       "  'published': 'Sun, 20 May 2018 11:11 EDT',\n",
       "  'published_parsed': time.struct_time(tm_year=2018, tm_mon=5, tm_mday=20, tm_hour=15, tm_min=11, tm_sec=0, tm_wday=6, tm_yday=140, tm_isdst=0),\n",
       "  'source': {'href': 'http://www.nasa.gov/rss/dyn/image_of_the_day.rss',\n",
       "   'title': 'NASA Image of the Day'}},\n",
       " {'title': 'Hubble Catches a Spiral Galaxy in Disguise',\n",
       "  'title_detail': {'type': 'text/plain',\n",
       "   'language': 'en',\n",
       "   'base': 'http://www.nasa.gov/',\n",
       "   'value': 'Hubble Catches a Spiral Galaxy in Disguise'},\n",
       "  'links': [{'rel': 'alternate',\n",
       "    'type': 'text/html',\n",
       "    'href': 'http://www.nasa.gov/image-feature/goddard/2018/hubble-catches-a-spiral-galaxy-in-disguise'},\n",
       "   {'length': '2402102',\n",
       "    'type': 'image/jpeg',\n",
       "    'href': 'http://www.nasa.gov/sites/default/files/thumbnails/image/potw1820a.jpg',\n",
       "    'rel': 'enclosure'}],\n",
       "  'link': 'http://www.nasa.gov/image-feature/goddard/2018/hubble-catches-a-spiral-galaxy-in-disguise',\n",
       "  'summary': 'NGC 1032 cleaves the quiet darkness of space in two in this image from the NASA/ESA Hubble Space Telescope.',\n",
       "  'summary_detail': {'type': 'text/html',\n",
       "   'language': 'en',\n",
       "   'base': 'http://www.nasa.gov/',\n",
       "   'value': 'NGC 1032 cleaves the quiet darkness of space in two in this image from the NASA/ESA Hubble Space Telescope.'},\n",
       "  'id': 'http://www.nasa.gov/image-feature/goddard/2018/hubble-catches-a-spiral-galaxy-in-disguise',\n",
       "  'guidislink': False,\n",
       "  'published': 'Fri, 18 May 2018 10:00 EDT',\n",
       "  'published_parsed': time.struct_time(tm_year=2018, tm_mon=5, tm_mday=18, tm_hour=14, tm_min=0, tm_sec=0, tm_wday=4, tm_yday=138, tm_isdst=0),\n",
       "  'source': {'href': 'http://www.nasa.gov/rss/dyn/image_of_the_day.rss',\n",
       "   'title': 'NASA Image of the Day'}},\n",
       " {'title': 'Orbital ATK Rocket Rolls Out for May 21 Launch',\n",
       "  'title_detail': {'type': 'text/plain',\n",
       "   'language': 'en',\n",
       "   'base': 'http://www.nasa.gov/',\n",
       "   'value': 'Orbital ATK Rocket Rolls Out for May 21 Launch'},\n",
       "  'links': [{'rel': 'alternate',\n",
       "    'type': 'text/html',\n",
       "    'href': 'http://www.nasa.gov/image-feature/orbital-atk-rocket-rolls-out-for-may-21-launch'},\n",
       "   {'length': '3210852',\n",
       "    'type': 'image/jpeg',\n",
       "    'href': 'http://www.nasa.gov/sites/default/files/thumbnails/image/nhq2018051700452.jpg',\n",
       "    'rel': 'enclosure'}],\n",
       "  'link': 'http://www.nasa.gov/image-feature/orbital-atk-rocket-rolls-out-for-may-21-launch',\n",
       "  'summary': \"An Orbital ATK rocket rolls out to launch Pad-0A at NASA's Wallops Flight Facility on May 17, 2018, in advance of a May 21 launch from Wallops Island, VA. The Antares will launch a Cygnus spacecraft on a cargo resupply mission to the International Space Station.\",\n",
       "  'summary_detail': {'type': 'text/html',\n",
       "   'language': 'en',\n",
       "   'base': 'http://www.nasa.gov/',\n",
       "   'value': \"An Orbital ATK rocket rolls out to launch Pad-0A at NASA's Wallops Flight Facility on May 17, 2018, in advance of a May 21 launch from Wallops Island, VA. The Antares will launch a Cygnus spacecraft on a cargo resupply mission to the International Space Station.\"},\n",
       "  'id': 'http://www.nasa.gov/image-feature/orbital-atk-rocket-rolls-out-for-may-21-launch',\n",
       "  'guidislink': False,\n",
       "  'published': 'Fri, 18 May 2018 07:49 EDT',\n",
       "  'published_parsed': time.struct_time(tm_year=2018, tm_mon=5, tm_mday=18, tm_hour=11, tm_min=49, tm_sec=0, tm_wday=4, tm_yday=138, tm_isdst=0),\n",
       "  'source': {'href': 'http://www.nasa.gov/rss/dyn/image_of_the_day.rss',\n",
       "   'title': 'NASA Image of the Day'}},\n",
       " {'title': 'An Amazing View',\n",
       "  'title_detail': {'type': 'text/plain',\n",
       "   'language': 'en',\n",
       "   'base': 'http://www.nasa.gov/',\n",
       "   'value': 'An Amazing View'},\n",
       "  'links': [{'rel': 'alternate',\n",
       "    'type': 'text/html',\n",
       "    'href': 'http://www.nasa.gov/image-feature/an-amazing-view'},\n",
       "   {'length': '2484728',\n",
       "    'type': 'image/jpeg',\n",
       "    'href': 'http://www.nasa.gov/sites/default/files/thumbnails/image/iss055e071596.jpg',\n",
       "    'rel': 'enclosure'}],\n",
       "  'link': 'http://www.nasa.gov/image-feature/an-amazing-view',\n",
       "  'summary': 'Astronaut Ricky Arnold took this selfie during the May 16, 2018, spacewalk.',\n",
       "  'summary_detail': {'type': 'text/html',\n",
       "   'language': 'en',\n",
       "   'base': 'http://www.nasa.gov/',\n",
       "   'value': 'Astronaut Ricky Arnold took this selfie during the May 16, 2018, spacewalk.'},\n",
       "  'id': 'http://www.nasa.gov/image-feature/an-amazing-view',\n",
       "  'guidislink': False,\n",
       "  'published': 'Thu, 17 May 2018 12:41 EDT',\n",
       "  'published_parsed': time.struct_time(tm_year=2018, tm_mon=5, tm_mday=17, tm_hour=16, tm_min=41, tm_sec=0, tm_wday=3, tm_yday=137, tm_isdst=0),\n",
       "  'source': {'href': 'http://www.nasa.gov/rss/dyn/image_of_the_day.rss',\n",
       "   'title': 'NASA Image of the Day'}},\n",
       " {'title': 'Blue Waters',\n",
       "  'title_detail': {'type': 'text/plain',\n",
       "   'language': 'en',\n",
       "   'base': 'http://www.nasa.gov/',\n",
       "   'value': 'Blue Waters'},\n",
       "  'links': [{'rel': 'alternate',\n",
       "    'type': 'text/html',\n",
       "    'href': 'http://www.nasa.gov/image-feature/blue-waters'},\n",
       "   {'length': '1770025',\n",
       "    'type': 'image/jpeg',\n",
       "    'href': 'http://www.nasa.gov/sites/default/files/thumbnails/image/41959302461_15269fcfff_o.jpg',\n",
       "    'rel': 'enclosure'}],\n",
       "  'link': 'http://www.nasa.gov/image-feature/blue-waters',\n",
       "  'summary': 'This image of the southern Greenland town of Narsaq was taken during an Operation IceBridge flight on Apr. 26, 2018.',\n",
       "  'summary_detail': {'type': 'text/html',\n",
       "   'language': 'en',\n",
       "   'base': 'http://www.nasa.gov/',\n",
       "   'value': 'This image of the southern Greenland town of Narsaq was taken during an Operation IceBridge flight on Apr. 26, 2018.'},\n",
       "  'id': 'http://www.nasa.gov/image-feature/blue-waters',\n",
       "  'guidislink': False,\n",
       "  'published': 'Wed, 16 May 2018 14:40 EDT',\n",
       "  'published_parsed': time.struct_time(tm_year=2018, tm_mon=5, tm_mday=16, tm_hour=18, tm_min=40, tm_sec=0, tm_wday=2, tm_yday=136, tm_isdst=0),\n",
       "  'source': {'href': 'http://www.nasa.gov/rss/dyn/image_of_the_day.rss',\n",
       "   'title': 'NASA Image of the Day'}},\n",
       " {'title': 'A Sunny Day',\n",
       "  'title_detail': {'type': 'text/plain',\n",
       "   'language': 'en',\n",
       "   'base': 'http://www.nasa.gov/',\n",
       "   'value': 'A Sunny Day'},\n",
       "  'links': [{'rel': 'alternate',\n",
       "    'type': 'text/html',\n",
       "    'href': 'http://www.nasa.gov/image-feature/a-sunny-day'},\n",
       "   {'length': '556044',\n",
       "    'type': 'image/jpeg',\n",
       "    'href': 'http://www.nasa.gov/sites/default/files/thumbnails/image/sun_0.jpg',\n",
       "    'rel': 'enclosure'}],\n",
       "  'link': 'http://www.nasa.gov/image-feature/a-sunny-day',\n",
       "  'summary': \"Each and every day NASA's Solar Dynamics Observatory (SDO) observes our Sun and relays observational data to scientists on Earth.\",\n",
       "  'summary_detail': {'type': 'text/html',\n",
       "   'language': 'en',\n",
       "   'base': 'http://www.nasa.gov/',\n",
       "   'value': \"Each and every day NASA's Solar Dynamics Observatory (SDO) observes our Sun and relays observational data to scientists on Earth.\"},\n",
       "  'id': 'http://www.nasa.gov/image-feature/a-sunny-day',\n",
       "  'guidislink': False,\n",
       "  'published': 'Tue, 15 May 2018 10:38 EDT',\n",
       "  'published_parsed': time.struct_time(tm_year=2018, tm_mon=5, tm_mday=15, tm_hour=14, tm_min=38, tm_sec=0, tm_wday=1, tm_yday=135, tm_isdst=0),\n",
       "  'source': {'href': 'http://www.nasa.gov/rss/dyn/image_of_the_day.rss',\n",
       "   'title': 'NASA Image of the Day'}},\n",
       " {'title': 'Europa by the Numbers',\n",
       "  'title_detail': {'type': 'text/plain',\n",
       "   'language': 'en',\n",
       "   'base': 'http://www.nasa.gov/',\n",
       "   'value': 'Europa by the Numbers'},\n",
       "  'links': [{'rel': 'alternate',\n",
       "    'type': 'text/html',\n",
       "    'href': 'http://www.nasa.gov/image-feature/europa-by-the-numbers'},\n",
       "   {'length': '264240',\n",
       "    'type': 'image/jpeg',\n",
       "    'href': 'http://www.nasa.gov/sites/default/files/thumbnails/image/europa_0.jpg',\n",
       "    'rel': 'enclosure'}],\n",
       "  'link': 'http://www.nasa.gov/image-feature/europa-by-the-numbers',\n",
       "  'summary': \"Galileo Galilei discovered Jupiter's moon Europa in 1610. More than four centuries later, astronomers are still making discoveries about its icy surface.\",\n",
       "  'summary_detail': {'type': 'text/html',\n",
       "   'language': 'en',\n",
       "   'base': 'http://www.nasa.gov/',\n",
       "   'value': \"Galileo Galilei discovered Jupiter's moon Europa in 1610. More than four centuries later, astronomers are still making discoveries about its icy surface.\"},\n",
       "  'id': 'http://www.nasa.gov/image-feature/europa-by-the-numbers',\n",
       "  'guidislink': False,\n",
       "  'published': 'Mon, 14 May 2018 09:53 EDT',\n",
       "  'published_parsed': time.struct_time(tm_year=2018, tm_mon=5, tm_mday=14, tm_hour=13, tm_min=53, tm_sec=0, tm_wday=0, tm_yday=134, tm_isdst=0),\n",
       "  'source': {'href': 'http://www.nasa.gov/rss/dyn/image_of_the_day.rss',\n",
       "   'title': 'NASA Image of the Day'}},\n",
       " {'title': 'Hubble Spies Glowing Galaxies in Massive Cluster',\n",
       "  'title_detail': {'type': 'text/plain',\n",
       "   'language': 'en',\n",
       "   'base': 'http://www.nasa.gov/',\n",
       "   'value': 'Hubble Spies Glowing Galaxies in Massive Cluster'},\n",
       "  'links': [{'rel': 'alternate',\n",
       "    'type': 'text/html',\n",
       "    'href': 'http://www.nasa.gov/image-feature/goddard/2018/hubble-spies-glowing-galaxies-in-massive-cluster'},\n",
       "   {'length': '18812477',\n",
       "    'type': 'image/jpeg',\n",
       "    'href': 'http://www.nasa.gov/sites/default/files/thumbnails/image/potw1819a.jpg',\n",
       "    'rel': 'enclosure'}],\n",
       "  'link': 'http://www.nasa.gov/image-feature/goddard/2018/hubble-spies-glowing-galaxies-in-massive-cluster',\n",
       "  'summary': 'In the darkness of the distant universe, these galaxies resemble glowing fireflies, flickering candles, charred embers floating up from a bonfire, and light bulbs softly shining.',\n",
       "  'summary_detail': {'type': 'text/html',\n",
       "   'language': 'en',\n",
       "   'base': 'http://www.nasa.gov/',\n",
       "   'value': 'In the darkness of the distant universe, these galaxies resemble glowing fireflies, flickering candles, charred embers floating up from a bonfire, and light bulbs softly shining.'},\n",
       "  'id': 'http://www.nasa.gov/image-feature/goddard/2018/hubble-spies-glowing-galaxies-in-massive-cluster',\n",
       "  'guidislink': False,\n",
       "  'published': 'Fri, 11 May 2018 10:39 EDT',\n",
       "  'published_parsed': time.struct_time(tm_year=2018, tm_mon=5, tm_mday=11, tm_hour=14, tm_min=39, tm_sec=0, tm_wday=4, tm_yday=131, tm_isdst=0),\n",
       "  'source': {'href': 'http://www.nasa.gov/rss/dyn/image_of_the_day.rss',\n",
       "   'title': 'NASA Image of the Day'}},\n",
       " {'title': 'Full Moon Over Newfoundland',\n",
       "  'title_detail': {'type': 'text/plain',\n",
       "   'language': 'en',\n",
       "   'base': 'http://www.nasa.gov/',\n",
       "   'value': 'Full Moon Over Newfoundland'},\n",
       "  'links': [{'rel': 'alternate',\n",
       "    'type': 'text/html',\n",
       "    'href': 'http://www.nasa.gov/image-feature/full-moon-over-newfoundland'},\n",
       "   {'length': '1045816',\n",
       "    'type': 'image/jpeg',\n",
       "    'href': 'http://www.nasa.gov/sites/default/files/thumbnails/image/iss055e043612.jpg',\n",
       "    'rel': 'enclosure'}],\n",
       "  'link': 'http://www.nasa.gov/image-feature/full-moon-over-newfoundland',\n",
       "  'summary': 'The crew of the International Space Station snapped this image of the full moon on April 30, 2018, as the station orbited off the coast of Newfoundland, Canada.',\n",
       "  'summary_detail': {'type': 'text/html',\n",
       "   'language': 'en',\n",
       "   'base': 'http://www.nasa.gov/',\n",
       "   'value': 'The crew of the International Space Station snapped this image of the full moon on April 30, 2018, as the station orbited off the coast of Newfoundland, Canada.'},\n",
       "  'id': 'http://www.nasa.gov/image-feature/full-moon-over-newfoundland',\n",
       "  'guidislink': False,\n",
       "  'published': 'Wed, 09 May 2018 10:35 EDT',\n",
       "  'published_parsed': time.struct_time(tm_year=2018, tm_mon=5, tm_mday=9, tm_hour=14, tm_min=35, tm_sec=0, tm_wday=2, tm_yday=129, tm_isdst=0),\n",
       "  'source': {'href': 'http://www.nasa.gov/rss/dyn/image_of_the_day.rss',\n",
       "   'title': 'NASA Image of the Day'}},\n",
       " {'title': 'Spring Color in the North Sea',\n",
       "  'title_detail': {'type': 'text/plain',\n",
       "   'language': 'en',\n",
       "   'base': 'http://www.nasa.gov/',\n",
       "   'value': 'Spring Color in the North Sea'},\n",
       "  'links': [{'rel': 'alternate',\n",
       "    'type': 'text/html',\n",
       "    'href': 'http://www.nasa.gov/image-feature/spring-color-in-the-north-sea'},\n",
       "   {'length': '2781872',\n",
       "    'type': 'image/jpeg',\n",
       "    'href': 'http://www.nasa.gov/sites/default/files/thumbnails/image/northsea_oli_2018125_lrg.jpg',\n",
       "    'rel': 'enclosure'}],\n",
       "  'link': 'http://www.nasa.gov/image-feature/spring-color-in-the-north-sea',\n",
       "  'summary': 'Warm air and sunlight beget warmer ocean waters and provoke blooms of the “grass of the sea”—phytoplankton.',\n",
       "  'summary_detail': {'type': 'text/html',\n",
       "   'language': 'en',\n",
       "   'base': 'http://www.nasa.gov/',\n",
       "   'value': 'Warm air and sunlight beget warmer ocean waters and provoke blooms of the “grass of the sea”—phytoplankton.'},\n",
       "  'id': 'http://www.nasa.gov/image-feature/spring-color-in-the-north-sea',\n",
       "  'guidislink': False,\n",
       "  'published': 'Tue, 08 May 2018 11:21 EDT',\n",
       "  'published_parsed': time.struct_time(tm_year=2018, tm_mon=5, tm_mday=8, tm_hour=15, tm_min=21, tm_sec=0, tm_wday=1, tm_yday=128, tm_isdst=0),\n",
       "  'source': {'href': 'http://www.nasa.gov/rss/dyn/image_of_the_day.rss',\n",
       "   'title': 'NASA Image of the Day'}},\n",
       " {'title': 'Astronaut-Educator Ricky Arnold Conducts Science on Station',\n",
       "  'title_detail': {'type': 'text/plain',\n",
       "   'language': 'en',\n",
       "   'base': 'http://www.nasa.gov/',\n",
       "   'value': 'Astronaut-Educator Ricky Arnold Conducts Science on Station'},\n",
       "  'links': [{'rel': 'alternate',\n",
       "    'type': 'text/html',\n",
       "    'href': 'http://www.nasa.gov/image-feature/astronaut-educator-ricky-arnold-conducts-science-on-station'},\n",
       "   {'length': '2954742',\n",
       "    'type': 'image/jpeg',\n",
       "    'href': 'http://www.nasa.gov/sites/default/files/thumbnails/image/rickyarnold.jpg',\n",
       "    'rel': 'enclosure'}],\n",
       "  'link': 'http://www.nasa.gov/image-feature/astronaut-educator-ricky-arnold-conducts-science-on-station',\n",
       "  'summary': 'Astronaut-educator Ricky Arnold conducts student-designed science on the Space Station.',\n",
       "  'summary_detail': {'type': 'text/html',\n",
       "   'language': 'en',\n",
       "   'base': 'http://www.nasa.gov/',\n",
       "   'value': 'Astronaut-educator Ricky Arnold conducts student-designed science on the Space Station.'},\n",
       "  'id': 'http://www.nasa.gov/image-feature/astronaut-educator-ricky-arnold-conducts-science-on-station',\n",
       "  'guidislink': False,\n",
       "  'published': 'Mon, 07 May 2018 11:03 EDT',\n",
       "  'published_parsed': time.struct_time(tm_year=2018, tm_mon=5, tm_mday=7, tm_hour=15, tm_min=3, tm_sec=0, tm_wday=0, tm_yday=127, tm_isdst=0),\n",
       "  'source': {'href': 'http://www.nasa.gov/rss/dyn/image_of_the_day.rss',\n",
       "   'title': 'NASA Image of the Day'}},\n",
       " {'title': 'InSight Mars Mission Lifts Off From Vandenberg Air Force Base',\n",
       "  'title_detail': {'type': 'text/plain',\n",
       "   'language': 'en',\n",
       "   'base': 'http://www.nasa.gov/',\n",
       "   'value': 'InSight Mars Mission Lifts Off From Vandenberg Air Force Base'},\n",
       "  'links': [{'rel': 'alternate',\n",
       "    'type': 'text/html',\n",
       "    'href': 'http://www.nasa.gov/image-feature/insight-mars-mission-lifts-off-from-vandenberg-air-force-base'},\n",
       "   {'length': '696991',\n",
       "    'type': 'image/jpeg',\n",
       "    'href': 'http://www.nasa.gov/sites/default/files/thumbnails/image/41864007272_5a80d2dc33_o.jpg',\n",
       "    'rel': 'enclosure'}],\n",
       "  'link': 'http://www.nasa.gov/image-feature/insight-mars-mission-lifts-off-from-vandenberg-air-force-base',\n",
       "  'summary': 'The NASA InSight spacecraft launches onboard a United Launch Alliance Atlas-V rocket, Saturday, May 5, 2018, from Vandenberg Air Force Base in California. InSight, short for Interior Exploration using Seismic Investigations, Geodesy and Heat Transport, is a Mars lander designed to study the \"inner space\" of Mars: its crust, mantle, and core.',\n",
       "  'summary_detail': {'type': 'text/html',\n",
       "   'language': 'en',\n",
       "   'base': 'http://www.nasa.gov/',\n",
       "   'value': 'The NASA InSight spacecraft launches onboard a United Launch Alliance Atlas-V rocket, Saturday, May 5, 2018, from Vandenberg Air Force Base in California. InSight, short for Interior Exploration using Seismic Investigations, Geodesy and Heat Transport, is a Mars lander designed to study the \"inner space\" of Mars: its crust, mantle, and core.'},\n",
       "  'id': 'http://www.nasa.gov/image-feature/insight-mars-mission-lifts-off-from-vandenberg-air-force-base',\n",
       "  'guidislink': False,\n",
       "  'published': 'Sat, 05 May 2018 10:51 EDT',\n",
       "  'published_parsed': time.struct_time(tm_year=2018, tm_mon=5, tm_mday=5, tm_hour=14, tm_min=51, tm_sec=0, tm_wday=5, tm_yday=125, tm_isdst=0),\n",
       "  'source': {'href': 'http://www.nasa.gov/rss/dyn/image_of_the_day.rss',\n",
       "   'title': 'NASA Image of the Day'}},\n",
       " {'title': 'Voyage to the Red Planet',\n",
       "  'title_detail': {'type': 'text/plain',\n",
       "   'language': 'en',\n",
       "   'base': 'http://www.nasa.gov/',\n",
       "   'value': 'Voyage to the Red Planet'},\n",
       "  'links': [{'rel': 'alternate',\n",
       "    'type': 'text/html',\n",
       "    'href': 'http://www.nasa.gov/image-feature/voyage-to-the-red-planet'},\n",
       "   {'length': '755477',\n",
       "    'type': 'image/jpeg',\n",
       "    'href': 'http://www.nasa.gov/sites/default/files/thumbnails/image/41876495681_24bd386693_k.jpg',\n",
       "    'rel': 'enclosure'}],\n",
       "  'link': 'http://www.nasa.gov/image-feature/voyage-to-the-red-planet',\n",
       "  'summary': \"NASA's InSight spacecraft rests aboard a ULA Atlas V rocket, awaiting launch scheduled on May 5, 2018.\",\n",
       "  'summary_detail': {'type': 'text/html',\n",
       "   'language': 'en',\n",
       "   'base': 'http://www.nasa.gov/',\n",
       "   'value': \"NASA's InSight spacecraft rests aboard a ULA Atlas V rocket, awaiting launch scheduled on May 5, 2018.\"},\n",
       "  'id': 'http://www.nasa.gov/image-feature/voyage-to-the-red-planet',\n",
       "  'guidislink': False,\n",
       "  'published': 'Fri, 04 May 2018 10:35 EDT',\n",
       "  'published_parsed': time.struct_time(tm_year=2018, tm_mon=5, tm_mday=4, tm_hour=14, tm_min=35, tm_sec=0, tm_wday=4, tm_yday=124, tm_isdst=0),\n",
       "  'source': {'href': 'http://www.nasa.gov/rss/dyn/image_of_the_day.rss',\n",
       "   'title': 'NASA Image of the Day'}},\n",
       " {'title': 'Tangled Up in Blue',\n",
       "  'title_detail': {'type': 'text/plain',\n",
       "   'language': 'en',\n",
       "   'base': 'http://www.nasa.gov/',\n",
       "   'value': 'Tangled Up in Blue'},\n",
       "  'links': [{'rel': 'alternate',\n",
       "    'type': 'text/html',\n",
       "    'href': 'http://www.nasa.gov/image-feature/tangled-up-in-blue'},\n",
       "   {'length': '427340',\n",
       "    'type': 'image/jpeg',\n",
       "    'href': 'http://www.nasa.gov/sites/default/files/thumbnails/image/pia22449.jpg',\n",
       "    'rel': 'enclosure'}],\n",
       "  'link': 'http://www.nasa.gov/image-feature/tangled-up-in-blue',\n",
       "  'summary': 'The lone active region visible on our Sun put on a fine display with its tangled magnetic field lines swaying and twisting above it (Apr. 24-26, 2018) when viewed in a wavelength of extreme ultraviolet light.',\n",
       "  'summary_detail': {'type': 'text/html',\n",
       "   'language': 'en',\n",
       "   'base': 'http://www.nasa.gov/',\n",
       "   'value': 'The lone active region visible on our Sun put on a fine display with its tangled magnetic field lines swaying and twisting above it (Apr. 24-26, 2018) when viewed in a wavelength of extreme ultraviolet light.'},\n",
       "  'id': 'http://www.nasa.gov/image-feature/tangled-up-in-blue',\n",
       "  'guidislink': False,\n",
       "  'published': 'Thu, 03 May 2018 13:02 EDT',\n",
       "  'published_parsed': time.struct_time(tm_year=2018, tm_mon=5, tm_mday=3, tm_hour=17, tm_min=2, tm_sec=0, tm_wday=3, tm_yday=123, tm_isdst=0),\n",
       "  'source': {'href': 'http://www.nasa.gov/rss/dyn/image_of_the_day.rss',\n",
       "   'title': 'NASA Image of the Day'}},\n",
       " {'title': \"Training 'Guardian Angels'\",\n",
       "  'title_detail': {'type': 'text/plain',\n",
       "   'language': 'en',\n",
       "   'base': 'http://www.nasa.gov/',\n",
       "   'value': \"Training 'Guardian Angels'\"},\n",
       "  'links': [{'rel': 'alternate',\n",
       "    'type': 'text/html',\n",
       "    'href': 'http://www.nasa.gov/image-feature/training-guardian-angels'},\n",
       "   {'length': '4812989',\n",
       "    'type': 'image/jpeg',\n",
       "    'href': 'http://www.nasa.gov/sites/default/files/thumbnails/image/41027792664_97444613ee_o_0.jpg',\n",
       "    'rel': 'enclosure'}],\n",
       "  'link': 'http://www.nasa.gov/image-feature/training-guardian-angels',\n",
       "  'summary': '\"Guardian Angel\" Pararescue specialists secure a covered life raft during an astronaut rescue training exercise. This exercise is part of preparation, with NASA\\'s commercial partners Boeing and SpaceX, to fly astronauts to and from the International Space Station aboard the Starliner and Crew Dragon spacecraft.',\n",
       "  'summary_detail': {'type': 'text/html',\n",
       "   'language': 'en',\n",
       "   'base': 'http://www.nasa.gov/',\n",
       "   'value': '\"Guardian Angel\" Pararescue specialists secure a covered life raft during an astronaut rescue training exercise. This exercise is part of preparation, with NASA\\'s commercial partners Boeing and SpaceX, to fly astronauts to and from the International Space Station aboard the Starliner and Crew Dragon spacecraft.'},\n",
       "  'id': 'http://www.nasa.gov/image-feature/training-guardian-angels',\n",
       "  'guidislink': False,\n",
       "  'published': 'Wed, 02 May 2018 11:01 EDT',\n",
       "  'published_parsed': time.struct_time(tm_year=2018, tm_mon=5, tm_mday=2, tm_hour=15, tm_min=1, tm_sec=0, tm_wday=2, tm_yday=122, tm_isdst=0),\n",
       "  'source': {'href': 'http://www.nasa.gov/rss/dyn/image_of_the_day.rss',\n",
       "   'title': 'NASA Image of the Day'}},\n",
       " {'title': \"Testing the InSight Mars Lander's Solar Arrays\",\n",
       "  'title_detail': {'type': 'text/plain',\n",
       "   'language': 'en',\n",
       "   'base': 'http://www.nasa.gov/',\n",
       "   'value': \"Testing the InSight Mars Lander's Solar Arrays\"},\n",
       "  'links': [{'rel': 'alternate',\n",
       "    'type': 'text/html',\n",
       "    'href': 'http://www.nasa.gov/image-feature/testing-the-insight-mars-landers-solar-arrays'},\n",
       "   {'length': '9558699',\n",
       "    'type': 'image/jpeg',\n",
       "    'href': 'http://www.nasa.gov/sites/default/files/thumbnails/image/insight_solar_array_panel_main-full.jpg',\n",
       "    'rel': 'enclosure'}],\n",
       "  'link': 'http://www.nasa.gov/image-feature/testing-the-insight-mars-landers-solar-arrays',\n",
       "  'summary': \"NASA's InSight Mars mission will help scientists understand the processes that shaped the rocky planets of the inner solar system (including Earth) more than four billion years ago. InSight, the first planetary mission to take off from the West Coast, is targeted to launch Saturday, May 5 from Vandenberg Air Force Base in California.\",\n",
       "  'summary_detail': {'type': 'text/html',\n",
       "   'language': 'en',\n",
       "   'base': 'http://www.nasa.gov/',\n",
       "   'value': \"NASA's InSight Mars mission will help scientists understand the processes that shaped the rocky planets of the inner solar system (including Earth) more than four billion years ago. InSight, the first planetary mission to take off from the West Coast, is targeted to launch Saturday, May 5 from Vandenberg Air Force Base in California.\"},\n",
       "  'id': 'http://www.nasa.gov/image-feature/testing-the-insight-mars-landers-solar-arrays',\n",
       "  'guidislink': False,\n",
       "  'published': 'Tue, 01 May 2018 11:08 EDT',\n",
       "  'published_parsed': time.struct_time(tm_year=2018, tm_mon=5, tm_mday=1, tm_hour=15, tm_min=8, tm_sec=0, tm_wday=1, tm_yday=121, tm_isdst=0),\n",
       "  'source': {'href': 'http://www.nasa.gov/rss/dyn/image_of_the_day.rss',\n",
       "   'title': 'NASA Image of the Day'}},\n",
       " {'title': 'Ganymede: A Moon Like No Other',\n",
       "  'title_detail': {'type': 'text/plain',\n",
       "   'language': 'en',\n",
       "   'base': 'http://www.nasa.gov/',\n",
       "   'value': 'Ganymede: A Moon Like No Other'},\n",
       "  'links': [{'rel': 'alternate',\n",
       "    'type': 'text/html',\n",
       "    'href': 'http://www.nasa.gov/image-feature/ganymede-a-moon-like-no-other'},\n",
       "   {'length': '360261',\n",
       "    'type': 'image/jpeg',\n",
       "    'href': 'http://www.nasa.gov/sites/default/files/thumbnails/image/imgpsh_fullsize.jpeg',\n",
       "    'rel': 'enclosure'}],\n",
       "  'link': 'http://www.nasa.gov/image-feature/ganymede-a-moon-like-no-other',\n",
       "  'summary': \"Far across the solar system, where Earth appears merely as a pale blue dot, NASA’s Galileo spacecraft spent eight years orbiting Jupiter. Newly resurrected data from Galileo's first flyby of Jupiter's moon Ganymede is yielding new insights.\",\n",
       "  'summary_detail': {'type': 'text/html',\n",
       "   'language': 'en',\n",
       "   'base': 'http://www.nasa.gov/',\n",
       "   'value': \"Far across the solar system, where Earth appears merely as a pale blue dot, NASA’s Galileo spacecraft spent eight years orbiting Jupiter. Newly resurrected data from Galileo's first flyby of Jupiter's moon Ganymede is yielding new insights.\"},\n",
       "  'id': 'http://www.nasa.gov/image-feature/ganymede-a-moon-like-no-other',\n",
       "  'guidislink': False,\n",
       "  'published': 'Mon, 30 Apr 2018 10:56 EDT',\n",
       "  'published_parsed': time.struct_time(tm_year=2018, tm_mon=4, tm_mday=30, tm_hour=14, tm_min=56, tm_sec=0, tm_wday=0, tm_yday=120, tm_isdst=0),\n",
       "  'source': {'href': 'http://www.nasa.gov/rss/dyn/image_of_the_day.rss',\n",
       "   'title': 'NASA Image of the Day'}},\n",
       " {'title': 'Dividing Line',\n",
       "  'title_detail': {'type': 'text/plain',\n",
       "   'language': 'en',\n",
       "   'base': 'http://www.nasa.gov/',\n",
       "   'value': 'Dividing Line'},\n",
       "  'links': [{'rel': 'alternate',\n",
       "    'type': 'text/html',\n",
       "    'href': 'http://www.nasa.gov/image-feature/dividing-line'},\n",
       "   {'length': '1742399',\n",
       "    'type': 'image/jpeg',\n",
       "    'href': 'http://www.nasa.gov/sites/default/files/thumbnails/image/swg01-7.jpg',\n",
       "    'rel': 'enclosure'}],\n",
       "  'link': 'http://www.nasa.gov/image-feature/dividing-line',\n",
       "  'summary': \"NASA's Operation IceBridge successfully collected data over several glaciers, research sites, and some parallel coastal grid lines on April 26, 2018, as part of its Spring 2018 campaign.\",\n",
       "  'summary_detail': {'type': 'text/html',\n",
       "   'language': 'en',\n",
       "   'base': 'http://www.nasa.gov/',\n",
       "   'value': \"NASA's Operation IceBridge successfully collected data over several glaciers, research sites, and some parallel coastal grid lines on April 26, 2018, as part of its Spring 2018 campaign.\"},\n",
       "  'id': 'http://www.nasa.gov/image-feature/dividing-line',\n",
       "  'guidislink': False,\n",
       "  'published': 'Fri, 27 Apr 2018 10:36 EDT',\n",
       "  'published_parsed': time.struct_time(tm_year=2018, tm_mon=4, tm_mday=27, tm_hour=14, tm_min=36, tm_sec=0, tm_wday=4, tm_yday=117, tm_isdst=0),\n",
       "  'source': {'href': 'http://www.nasa.gov/rss/dyn/image_of_the_day.rss',\n",
       "   'title': 'NASA Image of the Day'}},\n",
       " {'title': 'Greece and the Aegean and Ionian Seas',\n",
       "  'title_detail': {'type': 'text/plain',\n",
       "   'language': 'en',\n",
       "   'base': 'http://www.nasa.gov/',\n",
       "   'value': 'Greece and the Aegean and Ionian Seas'},\n",
       "  'links': [{'rel': 'alternate',\n",
       "    'type': 'text/html',\n",
       "    'href': 'http://www.nasa.gov/image-feature/greece-and-the-aegean-and-ionian-seas'},\n",
       "   {'length': '1961258',\n",
       "    'type': 'image/jpeg',\n",
       "    'href': 'http://www.nasa.gov/sites/default/files/thumbnails/image/iss055e008381.jpg',\n",
       "    'rel': 'enclosure'}],\n",
       "  'link': 'http://www.nasa.gov/image-feature/greece-and-the-aegean-and-ionian-seas',\n",
       "  'summary': \"This view from above the nation of Turkey looks out across the Aegean Sea, over Greece and onto the Ionian Sea where Sicily and the boot of Italy are barely visible. The sun's glint on the Mediterranean waters highlight the Greek islands while clouds cloak the island of Crete.\",\n",
       "  'summary_detail': {'type': 'text/html',\n",
       "   'language': 'en',\n",
       "   'base': 'http://www.nasa.gov/',\n",
       "   'value': \"This view from above the nation of Turkey looks out across the Aegean Sea, over Greece and onto the Ionian Sea where Sicily and the boot of Italy are barely visible. The sun's glint on the Mediterranean waters highlight the Greek islands while clouds cloak the island of Crete.\"},\n",
       "  'id': 'http://www.nasa.gov/image-feature/greece-and-the-aegean-and-ionian-seas',\n",
       "  'guidislink': False,\n",
       "  'published': 'Thu, 26 Apr 2018 11:00 EDT',\n",
       "  'published_parsed': time.struct_time(tm_year=2018, tm_mon=4, tm_mday=26, tm_hour=15, tm_min=0, tm_sec=0, tm_wday=3, tm_yday=116, tm_isdst=0),\n",
       "  'source': {'href': 'http://www.nasa.gov/rss/dyn/image_of_the_day.rss',\n",
       "   'title': 'NASA Image of the Day'}},\n",
       " {'title': 'Celebrating National Park Week With a View of Mount Rainier',\n",
       "  'title_detail': {'type': 'text/plain',\n",
       "   'language': 'en',\n",
       "   'base': 'http://www.nasa.gov/',\n",
       "   'value': 'Celebrating National Park Week With a View of Mount Rainier'},\n",
       "  'links': [{'rel': 'alternate',\n",
       "    'type': 'text/html',\n",
       "    'href': 'http://www.nasa.gov/image-feature/celebrating-national-park-week-with-a-view-of-mount-rainier'},\n",
       "   {'length': '2296175',\n",
       "    'type': 'image/jpeg',\n",
       "    'href': 'http://www.nasa.gov/sites/default/files/thumbnails/image/dbpbyitxcaa5ttg.jpg_orig.jpg',\n",
       "    'rel': 'enclosure'}],\n",
       "  'link': 'http://www.nasa.gov/image-feature/celebrating-national-park-week-with-a-view-of-mount-rainier',\n",
       "  'summary': 'NASA astronaut Ricky Arnold captured this clear view of Mount Rainier National Park as the International Space Station orbited above, sharing the image with his followers on April 25 to celebrate National Park Week.',\n",
       "  'summary_detail': {'type': 'text/html',\n",
       "   'language': 'en',\n",
       "   'base': 'http://www.nasa.gov/',\n",
       "   'value': 'NASA astronaut Ricky Arnold captured this clear view of Mount Rainier National Park as the International Space Station orbited above, sharing the image with his followers on April 25 to celebrate National Park Week.'},\n",
       "  'id': 'http://www.nasa.gov/image-feature/celebrating-national-park-week-with-a-view-of-mount-rainier',\n",
       "  'guidislink': False,\n",
       "  'published': 'Wed, 25 Apr 2018 15:36 EDT',\n",
       "  'published_parsed': time.struct_time(tm_year=2018, tm_mon=4, tm_mday=25, tm_hour=19, tm_min=36, tm_sec=0, tm_wday=2, tm_yday=115, tm_isdst=0),\n",
       "  'source': {'href': 'http://www.nasa.gov/rss/dyn/image_of_the_day.rss',\n",
       "   'title': 'NASA Image of the Day'}},\n",
       " {'title': 'Behold the Northern Lights',\n",
       "  'title_detail': {'type': 'text/plain',\n",
       "   'language': 'en',\n",
       "   'base': 'http://www.nasa.gov/',\n",
       "   'value': 'Behold the Northern Lights'},\n",
       "  'links': [{'rel': 'alternate',\n",
       "    'type': 'text/html',\n",
       "    'href': 'http://www.nasa.gov/image-feature/behold-the-northern-lights'},\n",
       "   {'length': '648606',\n",
       "    'type': 'image/jpeg',\n",
       "    'href': 'http://www.nasa.gov/sites/default/files/thumbnails/image/northamerica_vir_2018111_lrg.jpg',\n",
       "    'rel': 'enclosure'}],\n",
       "  'link': 'http://www.nasa.gov/image-feature/behold-the-northern-lights',\n",
       "  'summary': 'As our nearest star, the Sun bathes Earth in a steady stream of energetic particles, magnetic fields and radiation that can stimulate our atmosphere and light up the night sky, like the aurora borealis, or northern lights.',\n",
       "  'summary_detail': {'type': 'text/html',\n",
       "   'language': 'en',\n",
       "   'base': 'http://www.nasa.gov/',\n",
       "   'value': 'As our nearest star, the Sun bathes Earth in a steady stream of energetic particles, magnetic fields and radiation that can stimulate our atmosphere and light up the night sky, like the aurora borealis, or northern lights.'},\n",
       "  'id': 'http://www.nasa.gov/image-feature/behold-the-northern-lights',\n",
       "  'guidislink': False,\n",
       "  'published': 'Tue, 24 Apr 2018 10:36 EDT',\n",
       "  'published_parsed': time.struct_time(tm_year=2018, tm_mon=4, tm_mday=24, tm_hour=14, tm_min=36, tm_sec=0, tm_wday=1, tm_yday=114, tm_isdst=0),\n",
       "  'source': {'href': 'http://www.nasa.gov/rss/dyn/image_of_the_day.rss',\n",
       "   'title': 'NASA Image of the Day'}},\n",
       " {'title': 'Gravity’s Rainbow',\n",
       "  'title_detail': {'type': 'text/plain',\n",
       "   'language': 'en',\n",
       "   'base': 'http://www.nasa.gov/',\n",
       "   'value': 'Gravity’s Rainbow'},\n",
       "  'links': [{'rel': 'alternate',\n",
       "    'type': 'text/html',\n",
       "    'href': 'http://www.nasa.gov/image-feature/jpl/pia22418/gravity-s-rainbow'},\n",
       "   {'length': '975046',\n",
       "    'type': 'image/jpeg',\n",
       "    'href': 'http://www.nasa.gov/sites/default/files/thumbnails/image/pia22418-1041.jpg',\n",
       "    'rel': 'enclosure'}],\n",
       "  'link': 'http://www.nasa.gov/image-feature/jpl/pia22418/gravity-s-rainbow',\n",
       "  'summary': 'Saturn’s rings display their subtle colors in this view captured on Aug. 22, 2009, by NASA’s Cassini spacecraft.',\n",
       "  'summary_detail': {'type': 'text/html',\n",
       "   'language': 'en',\n",
       "   'base': 'http://www.nasa.gov/',\n",
       "   'value': 'Saturn’s rings display their subtle colors in this view captured on Aug. 22, 2009, by NASA’s Cassini spacecraft.'},\n",
       "  'id': 'http://www.nasa.gov/image-feature/jpl/pia22418/gravity-s-rainbow',\n",
       "  'guidislink': False,\n",
       "  'published': 'Mon, 23 Apr 2018 10:30 EDT',\n",
       "  'published_parsed': time.struct_time(tm_year=2018, tm_mon=4, tm_mday=23, tm_hour=14, tm_min=30, tm_sec=0, tm_wday=0, tm_yday=113, tm_isdst=0),\n",
       "  'source': {'href': 'http://www.nasa.gov/rss/dyn/image_of_the_day.rss',\n",
       "   'title': 'NASA Image of the Day'}},\n",
       " {'title': 'The Galápagos Islands',\n",
       "  'title_detail': {'type': 'text/plain',\n",
       "   'language': 'en',\n",
       "   'base': 'http://www.nasa.gov/',\n",
       "   'value': 'The Galápagos Islands'},\n",
       "  'links': [{'rel': 'alternate',\n",
       "    'type': 'text/html',\n",
       "    'href': 'http://www.nasa.gov/image-feature/the-galapagos-islands'},\n",
       "   {'length': '2370711',\n",
       "    'type': 'image/jpeg',\n",
       "    'href': 'http://www.nasa.gov/sites/default/files/thumbnails/image/41546155731_3a8257c36c_o.jpg',\n",
       "    'rel': 'enclosure'}],\n",
       "  'link': 'http://www.nasa.gov/image-feature/the-galapagos-islands',\n",
       "  'summary': '\"The Enchanted Islands of #Ecuador – the Galápagos,\" were photographed by NASA astronaut Ricky Arnold from aboard the International Space Station.',\n",
       "  'summary_detail': {'type': 'text/html',\n",
       "   'language': 'en',\n",
       "   'base': 'http://www.nasa.gov/',\n",
       "   'value': '\"The Enchanted Islands of #Ecuador – the Galápagos,\" were photographed by NASA astronaut Ricky Arnold from aboard the International Space Station.'},\n",
       "  'id': 'http://www.nasa.gov/image-feature/the-galapagos-islands',\n",
       "  'guidislink': False,\n",
       "  'published': 'Fri, 20 Apr 2018 12:04 EDT',\n",
       "  'published_parsed': time.struct_time(tm_year=2018, tm_mon=4, tm_mday=20, tm_hour=16, tm_min=4, tm_sec=0, tm_wday=4, tm_yday=110, tm_isdst=0),\n",
       "  'source': {'href': 'http://www.nasa.gov/rss/dyn/image_of_the_day.rss',\n",
       "   'title': 'NASA Image of the Day'}},\n",
       " {'title': 'Celebrating 28 Years of the Hubble Space Telescope',\n",
       "  'title_detail': {'type': 'text/plain',\n",
       "   'language': 'en',\n",
       "   'base': 'http://www.nasa.gov/',\n",
       "   'value': 'Celebrating 28 Years of the Hubble Space Telescope'},\n",
       "  'links': [{'rel': 'alternate',\n",
       "    'type': 'text/html',\n",
       "    'href': 'http://www.nasa.gov/image-feature/celebrating-28-years-of-the-hubble-space-telescope'},\n",
       "   {'length': '16170925',\n",
       "    'type': 'image/png',\n",
       "    'href': 'http://www.nasa.gov/sites/default/files/thumbnails/image/stsci-h-p1821a-m-1699x2000.png',\n",
       "    'rel': 'enclosure'}],\n",
       "  'link': 'http://www.nasa.gov/image-feature/celebrating-28-years-of-the-hubble-space-telescope',\n",
       "  'summary': 'This colorful image, taken by NASA’s Hubble Space Telescope, celebrates the Earth-orbiting observatory’s 28th anniversary of viewing the heavens, giving us a window seat to the universe’s extraordinary stellar tapestry of birth and destruction.',\n",
       "  'summary_detail': {'type': 'text/html',\n",
       "   'language': 'en',\n",
       "   'base': 'http://www.nasa.gov/',\n",
       "   'value': 'This colorful image, taken by NASA’s Hubble Space Telescope, celebrates the Earth-orbiting observatory’s 28th anniversary of viewing the heavens, giving us a window seat to the universe’s extraordinary stellar tapestry of birth and destruction.'},\n",
       "  'id': 'http://www.nasa.gov/image-feature/celebrating-28-years-of-the-hubble-space-telescope',\n",
       "  'guidislink': False,\n",
       "  'published': 'Thu, 19 Apr 2018 11:07 EDT',\n",
       "  'published_parsed': time.struct_time(tm_year=2018, tm_mon=4, tm_mday=19, tm_hour=15, tm_min=7, tm_sec=0, tm_wday=3, tm_yday=109, tm_isdst=0),\n",
       "  'source': {'href': 'http://www.nasa.gov/rss/dyn/image_of_the_day.rss',\n",
       "   'title': 'NASA Image of the Day'}},\n",
       " {'title': 'Sounding Rocket Launches CHESS Mission to Study the Matter Between Stars',\n",
       "  'title_detail': {'type': 'text/plain',\n",
       "   'language': 'en',\n",
       "   'base': 'http://www.nasa.gov/',\n",
       "   'value': 'Sounding Rocket Launches CHESS Mission to Study the Matter Between Stars'},\n",
       "  'links': [{'rel': 'alternate',\n",
       "    'type': 'text/html',\n",
       "    'href': 'http://www.nasa.gov/image-feature/sounding-rocket-launches-chess-mission-to-study-the-matter-between-stars'},\n",
       "   {'length': '326991',\n",
       "    'type': 'image/jpeg',\n",
       "    'href': 'http://www.nasa.gov/sites/default/files/thumbnails/image/chess_launch_wff-2018-015-384.jpg_.jpg',\n",
       "    'rel': 'enclosure'}],\n",
       "  'link': 'http://www.nasa.gov/image-feature/sounding-rocket-launches-chess-mission-to-study-the-matter-between-stars',\n",
       "  'summary': 'The Colorado High-resolution Echelle Stellar Spectrograph, or CHESS 4, was successfully launched on a NASA Black Brant IX sounding rocket at 12:47 p.m. EDT, April 16 (4:47 a.m. local, April 17) from the Kwajalein Atoll in The Republic of the Marshall Islands.',\n",
       "  'summary_detail': {'type': 'text/html',\n",
       "   'language': 'en',\n",
       "   'base': 'http://www.nasa.gov/',\n",
       "   'value': 'The Colorado High-resolution Echelle Stellar Spectrograph, or CHESS 4, was successfully launched on a NASA Black Brant IX sounding rocket at 12:47 p.m. EDT, April 16 (4:47 a.m. local, April 17) from the Kwajalein Atoll in The Republic of the Marshall Islands.'},\n",
       "  'id': 'http://www.nasa.gov/image-feature/sounding-rocket-launches-chess-mission-to-study-the-matter-between-stars',\n",
       "  'guidislink': False,\n",
       "  'published': 'Tue, 17 Apr 2018 11:16 EDT',\n",
       "  'published_parsed': time.struct_time(tm_year=2018, tm_mon=4, tm_mday=17, tm_hour=15, tm_min=16, tm_sec=0, tm_wday=1, tm_yday=107, tm_isdst=0),\n",
       "  'source': {'href': 'http://www.nasa.gov/rss/dyn/image_of_the_day.rss',\n",
       "   'title': 'NASA Image of the Day'}},\n",
       " {'title': 'Seasons of Snow Cover in the West',\n",
       "  'title_detail': {'type': 'text/plain',\n",
       "   'language': 'en',\n",
       "   'base': 'http://www.nasa.gov/',\n",
       "   'value': 'Seasons of Snow Cover in the West'},\n",
       "  'links': [{'rel': 'alternate',\n",
       "    'type': 'text/html',\n",
       "    'href': 'http://www.nasa.gov/image-feature/seasons-of-snow-cover-in-the-west'},\n",
       "   {'length': '4107713',\n",
       "    'type': 'image/jpeg',\n",
       "    'href': 'http://www.nasa.gov/sites/default/files/thumbnails/image/iss055-e-1038_lrg.jpg',\n",
       "    'rel': 'enclosure'}],\n",
       "  'link': 'http://www.nasa.gov/image-feature/seasons-of-snow-cover-in-the-west',\n",
       "  'summary': 'Astronauts aboard the International Space Station captured this photo while flying over the western United States. The wide field of view stretches from the Sierra Nevada of California to the Columbia Plateau of Oregon and the Snake River Valley of Idaho. Lake Tahoe is nestled on the border of California and Nevada.',\n",
       "  'summary_detail': {'type': 'text/html',\n",
       "   'language': 'en',\n",
       "   'base': 'http://www.nasa.gov/',\n",
       "   'value': 'Astronauts aboard the International Space Station captured this photo while flying over the western United States. The wide field of view stretches from the Sierra Nevada of California to the Columbia Plateau of Oregon and the Snake River Valley of Idaho. Lake Tahoe is nestled on the border of California and Nevada.'},\n",
       "  'id': 'http://www.nasa.gov/image-feature/seasons-of-snow-cover-in-the-west',\n",
       "  'guidislink': False,\n",
       "  'published': 'Mon, 16 Apr 2018 16:21 EDT',\n",
       "  'published_parsed': time.struct_time(tm_year=2018, tm_mon=4, tm_mday=16, tm_hour=20, tm_min=21, tm_sec=0, tm_wday=0, tm_yday=106, tm_isdst=0),\n",
       "  'source': {'href': 'http://www.nasa.gov/rss/dyn/image_of_the_day.rss',\n",
       "   'title': 'NASA Image of the Day'}},\n",
       " {'title': \"NASA's TESS Mission Hopes to Find Exoplanets Beyond Our Solar System\",\n",
       "  'title_detail': {'type': 'text/plain',\n",
       "   'language': 'en',\n",
       "   'base': 'http://www.nasa.gov/',\n",
       "   'value': \"NASA's TESS Mission Hopes to Find Exoplanets Beyond Our Solar System\"},\n",
       "  'links': [{'rel': 'alternate',\n",
       "    'type': 'text/html',\n",
       "    'href': 'http://www.nasa.gov/image-feature/nasas-tess-mission-hopes-to-find-exoplanets-beyond-our-solar-system'},\n",
       "   {'length': '88886',\n",
       "    'type': 'image/jpeg',\n",
       "    'href': 'http://www.nasa.gov/sites/default/files/thumbnails/image/superearth20180412-16.jpg',\n",
       "    'rel': 'enclosure'}],\n",
       "  'link': 'http://www.nasa.gov/image-feature/nasas-tess-mission-hopes-to-find-exoplanets-beyond-our-solar-system',\n",
       "  'summary': \"The worlds orbiting other stars are called “exoplanets,” and they come in a wide variety of sizes, from gas giants larger than Jupiter to small, rocky planets about as big around as Earth or Mars. This rocky super-Earth is an illustration of the type of planets future telescopes, like NASA's TESS, hope to find outside our solar system.\",\n",
       "  'summary_detail': {'type': 'text/html',\n",
       "   'language': 'en',\n",
       "   'base': 'http://www.nasa.gov/',\n",
       "   'value': \"The worlds orbiting other stars are called “exoplanets,” and they come in a wide variety of sizes, from gas giants larger than Jupiter to small, rocky planets about as big around as Earth or Mars. This rocky super-Earth is an illustration of the type of planets future telescopes, like NASA's TESS, hope to find outside our solar system.\"},\n",
       "  'id': 'http://www.nasa.gov/image-feature/nasas-tess-mission-hopes-to-find-exoplanets-beyond-our-solar-system',\n",
       "  'guidislink': False,\n",
       "  'published': 'Fri, 13 Apr 2018 13:56 EDT',\n",
       "  'published_parsed': time.struct_time(tm_year=2018, tm_mon=4, tm_mday=13, tm_hour=17, tm_min=56, tm_sec=0, tm_wday=4, tm_yday=103, tm_isdst=0),\n",
       "  'source': {'href': 'http://www.nasa.gov/rss/dyn/image_of_the_day.rss',\n",
       "   'title': 'NASA Image of the Day'}},\n",
       " {'title': 'The Aurora and the Sunrise',\n",
       "  'title_detail': {'type': 'text/plain',\n",
       "   'language': 'en',\n",
       "   'base': 'http://www.nasa.gov/',\n",
       "   'value': 'The Aurora and the Sunrise'},\n",
       "  'links': [{'rel': 'alternate',\n",
       "    'type': 'text/html',\n",
       "    'href': 'http://www.nasa.gov/image-feature/the-aurora-and-the-sunrise'},\n",
       "   {'length': '8145143',\n",
       "    'type': 'image/jpeg',\n",
       "    'href': 'http://www.nasa.gov/sites/default/files/thumbnails/image/iss055e014528.jpg',\n",
       "    'rel': 'enclosure'}],\n",
       "  'link': 'http://www.nasa.gov/image-feature/the-aurora-and-the-sunrise',\n",
       "  'summary': 'Auroras are one of the many Earthly phenomena the crew of the International Space Station observe from their perch high above the planet.',\n",
       "  'summary_detail': {'type': 'text/html',\n",
       "   'language': 'en',\n",
       "   'base': 'http://www.nasa.gov/',\n",
       "   'value': 'Auroras are one of the many Earthly phenomena the crew of the International Space Station observe from their perch high above the planet.'},\n",
       "  'id': 'http://www.nasa.gov/image-feature/the-aurora-and-the-sunrise',\n",
       "  'guidislink': False,\n",
       "  'published': 'Wed, 11 Apr 2018 10:35 EDT',\n",
       "  'published_parsed': time.struct_time(tm_year=2018, tm_mon=4, tm_mday=11, tm_hour=14, tm_min=35, tm_sec=0, tm_wday=2, tm_yday=101, tm_isdst=0),\n",
       "  'source': {'href': 'http://www.nasa.gov/rss/dyn/image_of_the_day.rss',\n",
       "   'title': 'NASA Image of the Day'}},\n",
       " {'title': 'Our Sun: Three Different Wavelengths',\n",
       "  'title_detail': {'type': 'text/plain',\n",
       "   'language': 'en',\n",
       "   'base': 'http://www.nasa.gov/',\n",
       "   'value': 'Our Sun: Three Different Wavelengths'},\n",
       "  'links': [{'rel': 'alternate',\n",
       "    'type': 'text/html',\n",
       "    'href': 'http://www.nasa.gov/image-feature/our-sun-three-different-wavelengths'},\n",
       "   {'length': '192706',\n",
       "    'type': 'image/jpeg',\n",
       "    'href': 'http://www.nasa.gov/sites/default/files/thumbnails/image/pia22360.jpg',\n",
       "    'rel': 'enclosure'}],\n",
       "  'link': 'http://www.nasa.gov/image-feature/our-sun-three-different-wavelengths',\n",
       "  'summary': 'From March 20-23, 2018, the Solar Dynamics Observatory captured a series of images of our Sun and then ran together three sequences in three different extreme ultraviolet wavelengths.',\n",
       "  'summary_detail': {'type': 'text/html',\n",
       "   'language': 'en',\n",
       "   'base': 'http://www.nasa.gov/',\n",
       "   'value': 'From March 20-23, 2018, the Solar Dynamics Observatory captured a series of images of our Sun and then ran together three sequences in three different extreme ultraviolet wavelengths.'},\n",
       "  'id': 'http://www.nasa.gov/image-feature/our-sun-three-different-wavelengths',\n",
       "  'guidislink': False,\n",
       "  'published': 'Tue, 10 Apr 2018 10:01 EDT',\n",
       "  'published_parsed': time.struct_time(tm_year=2018, tm_mon=4, tm_mday=10, tm_hour=14, tm_min=1, tm_sec=0, tm_wday=1, tm_yday=100, tm_isdst=0),\n",
       "  'source': {'href': 'http://www.nasa.gov/rss/dyn/image_of_the_day.rss',\n",
       "   'title': 'NASA Image of the Day'}},\n",
       " {'title': 'We Were There: 2018 USA Science and Engineering Festival',\n",
       "  'title_detail': {'type': 'text/plain',\n",
       "   'language': 'en',\n",
       "   'base': 'http://www.nasa.gov/',\n",
       "   'value': 'We Were There: 2018 USA Science and Engineering Festival'},\n",
       "  'links': [{'rel': 'alternate',\n",
       "    'type': 'text/html',\n",
       "    'href': 'http://www.nasa.gov/image-feature/we-were-there-2018-usa-science-and-engineering-festival'},\n",
       "   {'length': '4759528',\n",
       "    'type': 'image/jpeg',\n",
       "    'href': 'http://www.nasa.gov/sites/default/files/thumbnails/image/40567056184_826fbb12df_o.jpg',\n",
       "    'rel': 'enclosure'}],\n",
       "  'link': 'http://www.nasa.gov/image-feature/we-were-there-2018-usa-science-and-engineering-festival',\n",
       "  'summary': 'Attendees talk with NASA staff at exhibit booths during Sneak Peek Friday at the USA Science and Engineering Festival, Friday, April 6, 2018. At the festival, NASA showcased the future of human space exploration – including the Orion spacecraft and the Space Launch System rocket.',\n",
       "  'summary_detail': {'type': 'text/html',\n",
       "   'language': 'en',\n",
       "   'base': 'http://www.nasa.gov/',\n",
       "   'value': 'Attendees talk with NASA staff at exhibit booths during Sneak Peek Friday at the USA Science and Engineering Festival, Friday, April 6, 2018. At the festival, NASA showcased the future of human space exploration – including the Orion spacecraft and the Space Launch System rocket.'},\n",
       "  'id': 'http://www.nasa.gov/image-feature/we-were-there-2018-usa-science-and-engineering-festival',\n",
       "  'guidislink': False,\n",
       "  'published': 'Mon, 09 Apr 2018 10:05 EDT',\n",
       "  'published_parsed': time.struct_time(tm_year=2018, tm_mon=4, tm_mday=9, tm_hour=14, tm_min=5, tm_sec=0, tm_wday=0, tm_yday=99, tm_isdst=0),\n",
       "  'source': {'href': 'http://www.nasa.gov/rss/dyn/image_of_the_day.rss',\n",
       "   'title': 'NASA Image of the Day'}},\n",
       " {'title': 'Hubble Finds an Einstein Ring',\n",
       "  'title_detail': {'type': 'text/plain',\n",
       "   'language': 'en',\n",
       "   'base': 'http://www.nasa.gov/',\n",
       "   'value': 'Hubble Finds an Einstein Ring'},\n",
       "  'links': [{'rel': 'alternate',\n",
       "    'type': 'text/html',\n",
       "    'href': 'http://www.nasa.gov/image-feature/goddard/2018/hubble-finds-an-einstein-ring'},\n",
       "   {'length': '2166348',\n",
       "    'type': 'image/jpeg',\n",
       "    'href': 'http://www.nasa.gov/sites/default/files/thumbnails/image/potw1814a.jpg',\n",
       "    'rel': 'enclosure'}],\n",
       "  'link': 'http://www.nasa.gov/image-feature/goddard/2018/hubble-finds-an-einstein-ring',\n",
       "  'summary': 'These graceful arcs are a cosmic phenomenon known as an Einstein ring - created as the light from distant galaxies warps around an extremely large mass, like a galaxy cluster.',\n",
       "  'summary_detail': {'type': 'text/html',\n",
       "   'language': 'en',\n",
       "   'base': 'http://www.nasa.gov/',\n",
       "   'value': 'These graceful arcs are a cosmic phenomenon known as an Einstein ring - created as the light from distant galaxies warps around an extremely large mass, like a galaxy cluster.'},\n",
       "  'id': 'http://www.nasa.gov/image-feature/goddard/2018/hubble-finds-an-einstein-ring',\n",
       "  'guidislink': False,\n",
       "  'published': 'Fri, 06 Apr 2018 09:34 EDT',\n",
       "  'published_parsed': time.struct_time(tm_year=2018, tm_mon=4, tm_mday=6, tm_hour=13, tm_min=34, tm_sec=0, tm_wday=4, tm_yday=96, tm_isdst=0),\n",
       "  'source': {'href': 'http://www.nasa.gov/rss/dyn/image_of_the_day.rss',\n",
       "   'title': 'NASA Image of the Day'}},\n",
       " {'title': 'Gullies of Matara Crater',\n",
       "  'title_detail': {'type': 'text/plain',\n",
       "   'language': 'en',\n",
       "   'base': 'http://www.nasa.gov/',\n",
       "   'value': 'Gullies of Matara Crater'},\n",
       "  'links': [{'rel': 'alternate',\n",
       "    'type': 'text/html',\n",
       "    'href': 'http://www.nasa.gov/image-feature/jpl/pia22349/gullies-of-matara-crater'},\n",
       "   {'length': '1159217',\n",
       "    'type': 'image/jpeg',\n",
       "    'href': 'http://www.nasa.gov/sites/default/files/thumbnails/image/pia22349.jpg',\n",
       "    'rel': 'enclosure'}],\n",
       "  'link': 'http://www.nasa.gov/image-feature/jpl/pia22349/gullies-of-matara-crater',\n",
       "  'summary': 'Gullies on Martian sand dunes, like these in Matara Crater, have been very active, with many flows in the last ten years.',\n",
       "  'summary_detail': {'type': 'text/html',\n",
       "   'language': 'en',\n",
       "   'base': 'http://www.nasa.gov/',\n",
       "   'value': 'Gullies on Martian sand dunes, like these in Matara Crater, have been very active, with many flows in the last ten years.'},\n",
       "  'id': 'http://www.nasa.gov/image-feature/jpl/pia22349/gullies-of-matara-crater',\n",
       "  'guidislink': False,\n",
       "  'published': 'Thu, 05 Apr 2018 09:28 EDT',\n",
       "  'published_parsed': time.struct_time(tm_year=2018, tm_mon=4, tm_mday=5, tm_hour=13, tm_min=28, tm_sec=0, tm_wday=3, tm_yday=95, tm_isdst=0),\n",
       "  'source': {'href': 'http://www.nasa.gov/rss/dyn/image_of_the_day.rss',\n",
       "   'title': 'NASA Image of the Day'}},\n",
       " {'title': 'Memphis From Space',\n",
       "  'title_detail': {'type': 'text/plain',\n",
       "   'language': 'en',\n",
       "   'base': 'http://www.nasa.gov/',\n",
       "   'value': 'Memphis From Space'},\n",
       "  'links': [{'rel': 'alternate',\n",
       "    'type': 'text/html',\n",
       "    'href': 'http://www.nasa.gov/image-feature/memphis-from-space'},\n",
       "   {'length': '3841648',\n",
       "    'type': 'image/jpeg',\n",
       "    'href': 'http://www.nasa.gov/sites/default/files/thumbnails/image/iss041e105523_lrg.jpg',\n",
       "    'rel': 'enclosure'}],\n",
       "  'link': 'http://www.nasa.gov/image-feature/memphis-from-space',\n",
       "  'summary': 'We honor the legacy of Dr. Martin Luther King Jr., who delivered the famous \"I\\'ve been to the mountaintop\" speech in Memphis, Tennessee fifty years ago, the day before he was assassinated on April 4, 1968. This image taken from the International Space Station shows a detailed view of the city of Memphis from low-Earth orbit.',\n",
       "  'summary_detail': {'type': 'text/html',\n",
       "   'language': 'en',\n",
       "   'base': 'http://www.nasa.gov/',\n",
       "   'value': 'We honor the legacy of Dr. Martin Luther King Jr., who delivered the famous \"I\\'ve been to the mountaintop\" speech in Memphis, Tennessee fifty years ago, the day before he was assassinated on April 4, 1968. This image taken from the International Space Station shows a detailed view of the city of Memphis from low-Earth orbit.'},\n",
       "  'id': 'http://www.nasa.gov/image-feature/memphis-from-space',\n",
       "  'guidislink': False,\n",
       "  'published': 'Wed, 04 Apr 2018 11:03 EDT',\n",
       "  'published_parsed': time.struct_time(tm_year=2018, tm_mon=4, tm_mday=4, tm_hour=15, tm_min=3, tm_sec=0, tm_wday=2, tm_yday=94, tm_isdst=0),\n",
       "  'source': {'href': 'http://www.nasa.gov/rss/dyn/image_of_the_day.rss',\n",
       "   'title': 'NASA Image of the Day'}},\n",
       " {'title': 'Transforming Aviation',\n",
       "  'title_detail': {'type': 'text/plain',\n",
       "   'language': 'en',\n",
       "   'base': 'http://www.nasa.gov/',\n",
       "   'value': 'Transforming Aviation'},\n",
       "  'links': [{'rel': 'alternate',\n",
       "    'type': 'text/html',\n",
       "    'href': 'http://www.nasa.gov/image-feature/transforming-aviation'},\n",
       "   {'length': '2170558',\n",
       "    'type': 'image/jpeg',\n",
       "    'href': 'http://www.nasa.gov/sites/default/files/thumbnails/image/lbfd-vehicle2.jpg',\n",
       "    'rel': 'enclosure'}],\n",
       "  'link': 'http://www.nasa.gov/image-feature/transforming-aviation',\n",
       "  'summary': 'Aeronautical innovations are part of a government-industry partnership to collect data that could make supersonic flight over land possible, dramatically reducing travel time in the United States.',\n",
       "  'summary_detail': {'type': 'text/html',\n",
       "   'language': 'en',\n",
       "   'base': 'http://www.nasa.gov/',\n",
       "   'value': 'Aeronautical innovations are part of a government-industry partnership to collect data that could make supersonic flight over land possible, dramatically reducing travel time in the United States.'},\n",
       "  'id': 'http://www.nasa.gov/image-feature/transforming-aviation',\n",
       "  'guidislink': False,\n",
       "  'published': 'Tue, 03 Apr 2018 10:01 EDT',\n",
       "  'published_parsed': time.struct_time(tm_year=2018, tm_mon=4, tm_mday=3, tm_hour=14, tm_min=1, tm_sec=0, tm_wday=1, tm_yday=93, tm_isdst=0),\n",
       "  'source': {'href': 'http://www.nasa.gov/rss/dyn/image_of_the_day.rss',\n",
       "   'title': 'NASA Image of the Day'}},\n",
       " {'title': 'Hangout in Space',\n",
       "  'title_detail': {'type': 'text/plain',\n",
       "   'language': 'en',\n",
       "   'base': 'http://www.nasa.gov/',\n",
       "   'value': 'Hangout in Space'},\n",
       "  'links': [{'rel': 'alternate',\n",
       "    'type': 'text/html',\n",
       "    'href': 'http://www.nasa.gov/image-feature/hangout-in-space'},\n",
       "   {'length': '2708829',\n",
       "    'type': 'image/jpeg',\n",
       "    'href': 'http://www.nasa.gov/sites/default/files/thumbnails/image/iss055e006321.jpg',\n",
       "    'rel': 'enclosure'}],\n",
       "  'link': 'http://www.nasa.gov/image-feature/hangout-in-space',\n",
       "  'summary': 'NASA astronaut Drew Feustel seemingly hangs off the International Space Station while conducting a spacewalk on March 29, 2018.',\n",
       "  'summary_detail': {'type': 'text/html',\n",
       "   'language': 'en',\n",
       "   'base': 'http://www.nasa.gov/',\n",
       "   'value': 'NASA astronaut Drew Feustel seemingly hangs off the International Space Station while conducting a spacewalk on March 29, 2018.'},\n",
       "  'id': 'http://www.nasa.gov/image-feature/hangout-in-space',\n",
       "  'guidislink': False,\n",
       "  'published': 'Mon, 02 Apr 2018 10:46 EDT',\n",
       "  'published_parsed': time.struct_time(tm_year=2018, tm_mon=4, tm_mday=2, tm_hour=14, tm_min=46, tm_sec=0, tm_wday=0, tm_yday=92, tm_isdst=0),\n",
       "  'source': {'href': 'http://www.nasa.gov/rss/dyn/image_of_the_day.rss',\n",
       "   'title': 'NASA Image of the Day'}}]"
      ]
     },
     "execution_count": 15,
     "metadata": {},
     "output_type": "execute_result"
    },
    {
     "data": {
      "text/plain": [
       "60"
      ]
     },
     "execution_count": 15,
     "metadata": {},
     "output_type": "execute_result"
    }
   ],
   "source": [
    "import feedparser\n",
    "ny = feedparser.parse('http://www.nasa.gov/rss/dyn/image_of_the_day.rss')\n",
    "ny['entries']\n",
    "len(ny['entries'])"
   ]
  },
  {
   "cell_type": "code",
   "execution_count": 91,
   "metadata": {
    "ExecuteTime": {
     "end_time": "2018-06-23T14:53:04.840153Z",
     "start_time": "2018-06-23T14:53:04.830145Z"
    },
    "deletable": false,
    "editable": false
   },
   "outputs": [],
   "source": [
    "# RSS源分类器及高频词去除函数\n",
    "def calcMostFreq(vocabList, fullText):\n",
    "    import operator\n",
    "    freqDict = {}\n",
    "    for token in vocabList:\n",
    "        freqDict[token] = fullText.count(token)\n",
    "    sortedFreq = sorted(freqDict.items(),\n",
    "                        key=operator.itemgetter(1), reverse=True)\n",
    "    return sortedFreq[:10]  # 返回一个list,[(),()]\n",
    "\n",
    "\n",
    "def localWords(feed1, feed0):\n",
    "    import feedparser\n",
    "    docList = []\n",
    "    classList = []\n",
    "    fullText = []\n",
    "    minLen = min(len(feed1['entries']), len(feed0['entries']))\n",
    "    for i in range(minLen):\n",
    "        wordList = textParse(feed1['entries'][i]['summary'])\n",
    "        docList.append(wordList)\n",
    "        fullText.extend(wordList)\n",
    "        classList.append(1)  # NASA is class 1\n",
    "        wordList = textParse(feed0['entries'][i]['summary'])\n",
    "        docList.append(wordList)\n",
    "        fullText.extend(wordList)\n",
    "        classList.append(0)  # Yah00 is class 0\n",
    "    vocabList = createVocabList(docList)  # create vocabulary\n",
    "    top10Words = calcMostFreq(vocabList, fullText)  # remove top 30 words\n",
    "    for pairW in top10Words:  # pairW是一个tuple\n",
    "        if pairW[0] in vocabList:\n",
    "            vocabList.remove(pairW[0])\n",
    "    trainingSet = list(range(2*minLen))\n",
    "    testSet = []  # create test set\n",
    "    for i in range(10):\n",
    "        randIndex = int(np.random.uniform(0, len(trainingSet)))\n",
    "        testSet.append(trainingSet[randIndex])\n",
    "        del(trainingSet[randIndex])\n",
    "    trainMat = []\n",
    "    trainClasses = []\n",
    "    for docIndex in trainingSet:  # train the classifier (get probs) trainNB0\n",
    "        trainMat.append(bagOfWords2VecMN(vocabList, docList[docIndex]))\n",
    "        trainClasses.append(classList[docIndex])\n",
    "    p0V, p1V, pSpam = trainNB0(np.array(trainMat), np.array(trainClasses))\n",
    "    errorCount = 0\n",
    "    for docIndex in testSet:  # classify the remaining items\n",
    "        wordVector = bagOfWords2VecMN(vocabList, docList[docIndex])\n",
    "        if classifyNB(np.array(wordVector), p0V, p1V, pSpam) != classList[docIndex]:\n",
    "            errorCount += 1\n",
    "    print('the error rate is: ', float(errorCount)/len(testSet))\n",
    "    return vocabList, p0V, p1V"
   ]
  },
  {
   "cell_type": "markdown",
   "metadata": {
    "deletable": false,
    "editable": false,
    "run_control": {
     "frozen": true
    }
   },
   "source": [
    "辅助函数calcMostFreq()。该函数遍历词汇表中的每个词并统计它在文本中出现的次数，然后根据出现次数从高到低对词典进行排序，最后返回排序最高的30个单词。  \n",
    "localWords()使用两个RSS源作为参数。RSS源要在函数外导入，原因是**RSS源会随时间而改变**。如果想通过改变代码来比较程序执行的差异，就应该使用相同的输入。重新加载RSS源就会得到新的数据，但很难确定是代码原因还是输入原因导致输出结果的改变。函数localWords()与spamTest()函数几乎相同，calcMostFreq()来获得排序最高的30个单词并随后将它们移除。  \n",
    "注释掉移除高频词的三行代码，然后比较注释前后的分类性能。去除错误率为54%，而保留这些代码得到的错误率为70%。这里观察到的一个有趣现象是，这些留言中出现次数最多的前30个词涵盖了所有用词的30%。我在进行测试的时候，vocabList的大小约为3000个词。也就是说，词汇表中的一小部分单词却占据了所有文本用词的一大部分。产生这种现象的**原因是因为语言中大部分都是冗余和结构辅助性内容**。另一个常用的方法是不仅移除高频词，同时从某个预定词表中移除结构上的辅助词。该词表称为(stop word list)，目前可以找到许多停用词表。"
   ]
  },
  {
   "cell_type": "code",
   "execution_count": 89,
   "metadata": {
    "ExecuteTime": {
     "end_time": "2018-06-23T14:52:24.423523Z",
     "start_time": "2018-06-23T14:52:22.182380Z"
    },
    "deletable": false,
    "editable": false
   },
   "outputs": [],
   "source": [
    "NASA=feedparser.parse('http://www.nasa.gov/rss/dyn/image_of_the_day.rss')\n",
    "Yahoo=feedparser.parse('http://sports.yahoo.com/nba/teams/hou/rss.xml')"
   ]
  },
  {
   "cell_type": "code",
   "execution_count": 92,
   "metadata": {
    "ExecuteTime": {
     "end_time": "2018-06-23T14:53:07.739870Z",
     "start_time": "2018-06-23T14:53:07.726860Z"
    },
    "deletable": false,
    "editable": false
   },
   "outputs": [
    {
     "name": "stderr",
     "output_type": "stream",
     "text": [
      "E:\\software\\14.Anaconda3\\lib\\re.py:212: FutureWarning: split() requires a non-empty pattern match.\n",
      "  return _compile(pattern, flags).split(string, maxsplit)\n"
     ]
    },
    {
     "ename": "IndexError",
     "evalue": "list index out of range",
     "output_type": "error",
     "traceback": [
      "\u001b[1;31m---------------------------------------------------------------------------\u001b[0m",
      "\u001b[1;31mIndexError\u001b[0m                                Traceback (most recent call last)",
      "\u001b[1;32m<ipython-input-92-74a1520e76ab>\u001b[0m in \u001b[0;36m<module>\u001b[1;34m()\u001b[0m\n\u001b[1;32m----> 1\u001b[1;33m \u001b[0mvocabList\u001b[0m\u001b[1;33m,\u001b[0m\u001b[0mpSF\u001b[0m\u001b[1;33m,\u001b[0m\u001b[0mpNY\u001b[0m\u001b[1;33m=\u001b[0m\u001b[0mlocalWords\u001b[0m\u001b[1;33m(\u001b[0m\u001b[0mNASA\u001b[0m\u001b[1;33m,\u001b[0m\u001b[0mYahoo\u001b[0m\u001b[1;33m)\u001b[0m\u001b[1;33m\u001b[0m\u001b[0m\n\u001b[0m",
      "\u001b[1;32m<ipython-input-91-2e61d02a8b2a>\u001b[0m in \u001b[0;36mlocalWords\u001b[1;34m(feed1, feed0)\u001b[0m\n\u001b[0;32m     34\u001b[0m     \u001b[1;32mfor\u001b[0m \u001b[0mi\u001b[0m \u001b[1;32min\u001b[0m \u001b[0mrange\u001b[0m\u001b[1;33m(\u001b[0m\u001b[1;36m10\u001b[0m\u001b[1;33m)\u001b[0m\u001b[1;33m:\u001b[0m\u001b[1;33m\u001b[0m\u001b[0m\n\u001b[0;32m     35\u001b[0m         \u001b[0mrandIndex\u001b[0m \u001b[1;33m=\u001b[0m \u001b[0mint\u001b[0m\u001b[1;33m(\u001b[0m\u001b[0mnp\u001b[0m\u001b[1;33m.\u001b[0m\u001b[0mrandom\u001b[0m\u001b[1;33m.\u001b[0m\u001b[0muniform\u001b[0m\u001b[1;33m(\u001b[0m\u001b[1;36m0\u001b[0m\u001b[1;33m,\u001b[0m \u001b[0mlen\u001b[0m\u001b[1;33m(\u001b[0m\u001b[0mtrainingSet\u001b[0m\u001b[1;33m)\u001b[0m\u001b[1;33m)\u001b[0m\u001b[1;33m)\u001b[0m\u001b[1;33m\u001b[0m\u001b[0m\n\u001b[1;32m---> 36\u001b[1;33m         \u001b[0mtestSet\u001b[0m\u001b[1;33m.\u001b[0m\u001b[0mappend\u001b[0m\u001b[1;33m(\u001b[0m\u001b[0mtrainingSet\u001b[0m\u001b[1;33m[\u001b[0m\u001b[0mrandIndex\u001b[0m\u001b[1;33m]\u001b[0m\u001b[1;33m)\u001b[0m\u001b[1;33m\u001b[0m\u001b[0m\n\u001b[0m\u001b[0;32m     37\u001b[0m         \u001b[1;32mdel\u001b[0m\u001b[1;33m(\u001b[0m\u001b[0mtrainingSet\u001b[0m\u001b[1;33m[\u001b[0m\u001b[0mrandIndex\u001b[0m\u001b[1;33m]\u001b[0m\u001b[1;33m)\u001b[0m\u001b[1;33m\u001b[0m\u001b[0m\n\u001b[0;32m     38\u001b[0m     \u001b[0mtrainMat\u001b[0m \u001b[1;33m=\u001b[0m \u001b[1;33m[\u001b[0m\u001b[1;33m]\u001b[0m\u001b[1;33m\u001b[0m\u001b[0m\n",
      "\u001b[1;31mIndexError\u001b[0m: list index out of range"
     ]
    }
   ],
   "source": [
    "vocabList,pSF,pNY=localWords(NASA,Yahoo)"
   ]
  },
  {
   "cell_type": "code",
   "execution_count": 94,
   "metadata": {
    "ExecuteTime": {
     "end_time": "2018-06-23T14:53:54.545327Z",
     "start_time": "2018-06-23T14:53:54.541326Z"
    },
    "deletable": false,
    "editable": false
   },
   "outputs": [
    {
     "data": {
      "text/plain": [
       "3"
      ]
     },
     "execution_count": 94,
     "metadata": {},
     "output_type": "execute_result"
    }
   ],
   "source": [
    "minLen = min(len(NASA['entries']), len(Yahoo['entries']))\n",
    "minLen"
   ]
  },
  {
   "cell_type": "markdown",
   "metadata": {
    "deletable": false,
    "editable": false,
    "run_control": {
     "frozen": true
    }
   },
   "source": [
    "由于源中数据量不足，导致这方法失效，没有寻找其他源来进行这个试验。"
   ]
  },
  {
   "cell_type": "markdown",
   "metadata": {
    "deletable": false,
    "editable": false,
    "run_control": {
     "frozen": true
    }
   },
   "source": [
    "为了得到错误率的精确估计，应该多次进行上述实验，然后取平均值。这里的错误率要远高于垃圾邮件中的错误率。由于这里**关注的是单词概率而不是实际分类**，因此这个问题倒不严重。可以通过函数caclMostFreq()改变要移除的单词数目，然后观察错误率的变化情况。"
   ]
  },
  {
   "cell_type": "markdown",
   "metadata": {
    "deletable": false,
    "editable": false,
    "run_control": {
     "frozen": true
    }
   },
   "source": [
    "### 分析数据：显示地域相关的用词"
   ]
  },
  {
   "cell_type": "code",
   "execution_count": null,
   "metadata": {
    "ExecuteTime": {
     "start_time": "2018-06-22T15:38:02.731Z"
    },
    "deletable": false,
    "editable": false
   },
   "outputs": [],
   "source": [
    "# 最具表征性的词汇显示函数\n",
    "def getTopWords(ny, sf):\n",
    "    import operator\n",
    "    vocabList, p0V, p1V = localWords(ny, sf)\n",
    "    topNY = []\n",
    "    topSF = []\n",
    "    for i in range(len(p0V)):\n",
    "        if p0V[i] > -6.0:\n",
    "            topSF.append((vocabList[i], p0V[i]))\n",
    "        if p1V[i] > -6.0:\n",
    "            topNY.append((vocabList[i], p1V[i]))\n",
    "    sortedSF = sorted(topSF, key=lambda pair: pair[1], reverse=True)\n",
    "    print('SF**SF**SF**SF**SF**SF**SF**SF**SF**SF**SF**SF**SF**SF**SF**SF**')\n",
    "    for item in sortedSF:\n",
    "        print(item[0])\n",
    "    sortedNY = sorted(topNY, key=lambda pair: pair[1], reverse=True)\n",
    "    print('NY**NY**NY**NY**NY**NY**NY**NY**NY**NY**NY**NY**NY**NY**NY**NY**')\n",
    "    for item in sortedNY:\n",
    "        print(item[0])"
   ]
  },
  {
   "cell_type": "markdown",
   "metadata": {
    "deletable": false,
    "editable": false,
    "run_control": {
     "frozen": true
    }
   },
   "source": [
    "函数getTopWords()使用两个RSS源作为输入，然后训练并测试朴素贝叶斯分类器，返回使用的概率值。然后创建两个列表用于元组的存储。与之前返回排名最高的X个单词不同，**这里可以返回大于某个阈值的所有词**。这些元组会按照它们的条件概率进行排序。"
   ]
  },
  {
   "cell_type": "code",
   "execution_count": null,
   "metadata": {
    "deletable": false,
    "editable": false
   },
   "outputs": [],
   "source": [
    "getTopWords(NASA,Yahoo)"
   ]
  },
  {
   "cell_type": "markdown",
   "metadata": {
    "deletable": false,
    "editable": false,
    "run_control": {
     "frozen": true
    }
   },
   "source": [
    "值得注意的现象是，程序输出了大量的停用词。**移除固定的停用词看看结果会如何变化也十分有趣**。依经验来看，分类错误率也会降低。"
   ]
  },
  {
   "cell_type": "markdown",
   "metadata": {
    "deletable": false,
    "editable": false,
    "run_control": {
     "frozen": true
    }
   },
   "source": [
    "## 本章小结"
   ]
  },
  {
   "cell_type": "markdown",
   "metadata": {
    "deletable": false,
    "editable": false,
    "run_control": {
     "frozen": true
    }
   },
   "source": [
    "对于分类而言，使用概率有时要比使用硬规则更为有效。**贝叶斯概率及贝叶斯准则提供了一种利用已知值来估计未知概率的有效方法**。  \n",
    "可以通过特征之间的条件独立性假设，降低对数据量的需求。**独立性假设**是指一个词的出现概率并不依赖于文档中的其他词。当然我们也知道这个假设过于简单。这就是之所以称为朴素贝叶斯的原因。尽管条件独立性假设并不正确，但是朴素贝叶斯仍然是一种有效的分类器。  \n",
    "利用现代编程语言来实现朴素贝叶斯时需要考虑很多实际因素。**下溢出**就是其中一个问题，它可以通过对概率取对数来解决。词袋模型在解决文档分类问题上比词集模型有所提高。还有其他一些方面的改进，比如说**移除停用词**，当然也可以花大量时间对切分器进行优化。"
   ]
  }
 ],
 "metadata": {
  "hide_input": false,
  "kernelspec": {
   "display_name": "Python 3",
   "language": "python",
   "name": "python3"
  },
  "language_info": {
   "codemirror_mode": {
    "name": "ipython",
    "version": 3
   },
   "file_extension": ".py",
   "mimetype": "text/x-python",
   "name": "python",
   "nbconvert_exporter": "python",
   "pygments_lexer": "ipython3",
   "version": "3.6.8"
  },
  "latex_envs": {
   "LaTeX_envs_menu_present": true,
   "autoclose": false,
   "autocomplete": true,
   "bibliofile": "biblio.bib",
   "cite_by": "apalike",
   "current_citInitial": 1,
   "eqLabelWithNumbers": true,
   "eqNumInitial": 1,
   "hotkeys": {
    "equation": "Ctrl-E",
    "itemize": "Ctrl-I"
   },
   "labels_anchors": false,
   "latex_user_defs": false,
   "report_style_numbering": false,
   "user_envs_cfg": false
  },
  "toc": {
   "base_numbering": 1,
   "nav_menu": {},
   "number_sections": true,
   "sideBar": true,
   "skip_h1_title": false,
   "title_cell": "Table of Contents",
   "title_sidebar": "Contents",
   "toc_cell": false,
   "toc_position": {
    "height": "calc(100% - 180px)",
    "left": "10px",
    "top": "150px",
    "width": "384px"
   },
   "toc_section_display": true,
   "toc_window_display": false
  },
  "varInspector": {
   "cols": {
    "lenName": 16,
    "lenType": 16,
    "lenVar": 40
   },
   "kernels_config": {
    "python": {
     "delete_cmd_postfix": "",
     "delete_cmd_prefix": "del ",
     "library": "var_list.py",
     "varRefreshCmd": "print(var_dic_list())"
    },
    "r": {
     "delete_cmd_postfix": ") ",
     "delete_cmd_prefix": "rm(",
     "library": "var_list.r",
     "varRefreshCmd": "cat(var_dic_list()) "
    }
   },
   "types_to_exclude": [
    "module",
    "function",
    "builtin_function_or_method",
    "instance",
    "_Feature"
   ],
   "window_display": false
  }
 },
 "nbformat": 4,
 "nbformat_minor": 2
}
