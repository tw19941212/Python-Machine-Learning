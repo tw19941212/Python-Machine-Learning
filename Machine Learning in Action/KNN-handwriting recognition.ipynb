{
 "cells": [
  {
   "cell_type": "markdown",
   "metadata": {
    "deletable": false,
    "editable": false,
    "run_control": {
     "frozen": true
    }
   },
   "source": [
    "# K-近邻手写识别系统"
   ]
  },
  {
   "cell_type": "markdown",
   "metadata": {
    "deletable": false,
    "editable": false,
    "run_control": {
     "frozen": true
    }
   },
   "source": [
    "源代码及数据集下载:https://www.manning.com/books/machine-learning-in-action  "
   ]
  },
  {
   "cell_type": "code",
   "execution_count": 36,
   "metadata": {
    "deletable": false,
    "editable": false
   },
   "outputs": [],
   "source": [
    "# 导入模块\n",
    "# -*- coding: utf-8 -*-\n",
    "import numpy as np  # 科学计算包\n",
    "import matplotlib.pyplot as plt  # 可视化绘图\n",
    "from os import listdir  # 列出给定目录的文件名\n",
    "import KNN  # 自定义的KNN算法"
   ]
  },
  {
   "cell_type": "markdown",
   "metadata": {
    "deletable": false,
    "editable": false,
    "run_control": {
     "frozen": true
    }
   },
   "source": [
    "|    |                          |\n",
    "| :--------  | ----------------------------------------------:|\n",
    "| 收集数据      |      提供文本文件           | \n",
    "|准备数据     |     编写img2vector,将图像格式转换为分类器使用的list格式          |  \n",
    "| 分析数据      |       在python中检查数据是否符合要求           | \n",
    "| 训练算法      | 不适合于K-近邻算法      | \n",
    "| 测试算法   |     编写函数使用提供的部分数据集做测试样本，标记错误数，测试样本已完成分类          | \n",
    "|  使用算法   |有兴趣可以完成此步骤 | "
   ]
  },
  {
   "cell_type": "markdown",
   "metadata": {
    "deletable": false,
    "editable": false,
    "run_control": {
     "frozen": true
    }
   },
   "source": [
    "## 准备数据：将图像转化为测试向量"
   ]
  },
  {
   "cell_type": "markdown",
   "metadata": {
    "deletable": false,
    "editable": false,
    "run_control": {
     "frozen": true
    }
   },
   "source": [
    "将已经处理成32\\*32的二进制图像矩阵转换为1\\*1024的向量"
   ]
  },
  {
   "cell_type": "code",
   "execution_count": 27,
   "metadata": {
    "deletable": false,
    "editable": false
   },
   "outputs": [],
   "source": [
    "def img2vector(filename):\n",
    "    returnVect = np.zeros(1024)\n",
    "    fr = open(filename)\n",
    "    lineStr = fr.readlines()\n",
    "    for i in range(32):\n",
    "        for j in range(32):\n",
    "            returnVect[32*i+j]=int(lineStr[i][j])\n",
    "    return returnVect"
   ]
  },
  {
   "cell_type": "code",
   "execution_count": 31,
   "metadata": {
    "deletable": false,
    "editable": false
   },
   "outputs": [
    {
     "data": {
      "text/plain": [
       "array([0., 0., 0., 0., 0., 0., 0., 0., 0., 0., 0., 0., 0., 0., 1., 1., 1.,\n",
       "       1., 0., 0., 0., 0., 0., 0., 0., 0., 0., 0., 0., 0., 0.])"
      ]
     },
     "execution_count": 31,
     "metadata": {},
     "output_type": "execute_result"
    },
    {
     "data": {
      "text/plain": [
       "array([0., 0., 0., 0., 0., 0., 0., 0., 0., 0., 0., 0., 1., 1., 1., 1., 1.,\n",
       "       1., 1., 0., 0., 0., 0., 0., 0., 0., 0., 0., 0., 0., 0.])"
      ]
     },
     "execution_count": 31,
     "metadata": {},
     "output_type": "execute_result"
    }
   ],
   "source": [
    "testVector=img2vector('testDigits/0_13.txt')\n",
    "testVector[0:31]\n",
    "testVector[32:63]"
   ]
  },
  {
   "cell_type": "markdown",
   "metadata": {
    "deletable": false,
    "editable": false,
    "run_control": {
     "frozen": true
    }
   },
   "source": [
    "## 测试算法：使用K-近邻算法识别手写数字"
   ]
  },
  {
   "cell_type": "markdown",
   "metadata": {
    "deletable": false,
    "editable": false,
    "run_control": {
     "frozen": true
    }
   },
   "source": [
    "将数据输入到分类器，检测分类器执行效果。从os模块中导入listdir，它可以列出给定目录下的文件名"
   ]
  },
  {
   "cell_type": "code",
   "execution_count": 41,
   "metadata": {
    "deletable": false,
    "editable": false,
    "scrolled": true
   },
   "outputs": [
    {
     "name": "stdout",
     "output_type": "stream",
     "text": [
      "\n",
      "the total number of errors is: 11\n",
      "\n",
      "the total error rate is: 0.011628\n"
     ]
    }
   ],
   "source": [
    "def handwritingClassTest():\n",
    "    hwLabels = []\n",
    "    trainingFilelist = listdir('trainingDigits')\n",
    "    m = len(trainingFilelist)\n",
    "    trainingMat = np.zeros((m, 1024))\n",
    "    for i in range(m):\n",
    "        fileNameStr = trainingFilelist[i]\n",
    "        fileStr = fileNameStr.split('.')[0]  # 如0_17.txt\n",
    "        classNumStr = int(fileStr.split('_')[0])\n",
    "        hwLabels.append(classNumStr)  # 添加到列表末尾\n",
    "        trainingMat[i, :] = img2vector('trainingDigits/%s' % fileNameStr)\n",
    "    testFileList = listdir('testDigits')\n",
    "    errorCount = 0.0\n",
    "    mTest = len(testFileList)\n",
    "    for i in range(mTest):\n",
    "        fileNameStr = testFileList[i]\n",
    "        fileStr = fileNameStr.split('.')[0]\n",
    "        classNumStr = int(fileStr.split('_')[0])\n",
    "        vectorUnderTest = img2vector('testDigits/%s' % fileNameStr)\n",
    "        classifierResult = KNN.classify0(\n",
    "            vectorUnderTest, trainingMat, hwLabels, 4)\n",
    "        # print('The classifier came back with: %d, the real answer is: %d' %(classifierResult, classNumStr))\n",
    "        if classifierResult != classNumStr:\n",
    "            errorCount += 1.0\n",
    "    print('\\nthe total number of errors is: %d' % errorCount)\n",
    "    print('\\nthe total error rate is: %f' % (errorCount/float(mTest)))\n",
    "\n",
    "\n",
    "handwritingClassTest()"
   ]
  },
  {
   "cell_type": "markdown",
   "metadata": {
    "deletable": false,
    "editable": false,
    "run_control": {
     "frozen": true
    }
   },
   "source": [
    "改变K的值，修改函数handwritingclassTest随机选取训练样本，改变训练样本的数目，都会对K-近邻算法错误率产生影响。此算法执行效率不高  \n",
    "是否存在一种减少存储空间和计算时间的开销呢？K决策树就是K-近邻算法的优化版"
   ]
  },
  {
   "cell_type": "markdown",
   "metadata": {
    "deletable": false,
    "editable": false,
    "run_control": {
     "frozen": true
    }
   },
   "source": [
    "## 本章小结"
   ]
  },
  {
   "cell_type": "markdown",
   "metadata": {
    "deletable": false,
    "editable": false,
    "run_control": {
     "frozen": true
    }
   },
   "source": [
    "**k近邻算法是分类数据最简单最有效的算法**。k近邻算法是基于实例的学习，使用算法时我们必须有**接近实际数据的训练样本数据**。k近邻算法必须保存全部数据集，如果训练数据集的很大，必须使用**大量的存储空间**。此外，由于必须对数据集中的每个数据计算距离值，**实际使用时可能非常耗时**。"
   ]
  },
  {
   "cell_type": "markdown",
   "metadata": {
    "deletable": false,
    "editable": false,
    "run_control": {
     "frozen": true
    }
   },
   "source": [
    "K近邻算法的另一个**缺陷**是它**无法给出任何数据的基础结构信息**，因此我们也**无法知晓平均实例样本和典型实例样本具有什么特征**。下一章将使用概率测量方法处理分类问题，该算法可以解决这个问题"
   ]
  }
 ],
 "metadata": {
  "hide_input": false,
  "kernelspec": {
   "display_name": "Python 3",
   "language": "python",
   "name": "python3"
  },
  "language_info": {
   "codemirror_mode": {
    "name": "ipython",
    "version": 3
   },
   "file_extension": ".py",
   "mimetype": "text/x-python",
   "name": "python",
   "nbconvert_exporter": "python",
   "pygments_lexer": "ipython3",
   "version": "3.6.5"
  },
  "latex_envs": {
   "LaTeX_envs_menu_present": true,
   "autoclose": false,
   "autocomplete": true,
   "bibliofile": "biblio.bib",
   "cite_by": "apalike",
   "current_citInitial": 1,
   "eqLabelWithNumbers": true,
   "eqNumInitial": 1,
   "hotkeys": {
    "equation": "Ctrl-E",
    "itemize": "Ctrl-I"
   },
   "labels_anchors": false,
   "latex_user_defs": false,
   "report_style_numbering": false,
   "user_envs_cfg": false
  },
  "toc": {
   "base_numbering": 1,
   "nav_menu": {},
   "number_sections": true,
   "sideBar": true,
   "skip_h1_title": false,
   "title_cell": "Table of Contents",
   "title_sidebar": "Contents",
   "toc_cell": false,
   "toc_position": {},
   "toc_section_display": true,
   "toc_window_display": true
  },
  "varInspector": {
   "cols": {
    "lenName": 16,
    "lenType": 16,
    "lenVar": 40
   },
   "kernels_config": {
    "python": {
     "delete_cmd_postfix": "",
     "delete_cmd_prefix": "del ",
     "library": "var_list.py",
     "varRefreshCmd": "print(var_dic_list())"
    },
    "r": {
     "delete_cmd_postfix": ") ",
     "delete_cmd_prefix": "rm(",
     "library": "var_list.r",
     "varRefreshCmd": "cat(var_dic_list()) "
    }
   },
   "types_to_exclude": [
    "module",
    "function",
    "builtin_function_or_method",
    "instance",
    "_Feature"
   ],
   "window_display": false
  }
 },
 "nbformat": 4,
 "nbformat_minor": 2
}
